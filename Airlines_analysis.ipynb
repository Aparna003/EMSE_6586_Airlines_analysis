{
 "cells": [
  {
   "cell_type": "markdown",
   "id": "89bc2785",
   "metadata": {},
   "source": [
    "<Center><h2>Database Translation - Airline Analysis</h2></center>"
   ]
  },
  {
   "cell_type": "markdown",
   "id": "46968e83",
   "metadata": {},
   "source": [
    "### Import libraries"
   ]
  },
  {
   "cell_type": "code",
   "execution_count": 1,
   "id": "bcbe8385",
   "metadata": {},
   "outputs": [],
   "source": [
    "import psycopg2\n",
    "import json\n",
    "import requests\n",
    "import pandas as pd\n",
    "import warnings\n",
    "import matplotlib.pyplot as plt\n",
    "import seaborn as sns\n",
    "import plotly.graph_objects as go\n",
    "warnings.filterwarnings('ignore')"
   ]
  },
  {
   "cell_type": "markdown",
   "id": "9a98ebe2",
   "metadata": {},
   "source": [
    "#### Loading the JSON data \n",
    "- This code retrieves JSON data from a specified URL and writes it to a local file named \"airlines.json\".\n",
    "- It ensures the request is successful before extracting and saving the JSON data."
   ]
  },
  {
   "cell_type": "code",
   "execution_count": 2,
   "id": "7800a161",
   "metadata": {
    "scrolled": true
   },
   "outputs": [],
   "source": [
    "# URL of the JSON data\n",
    "url = \"https://think.cs.vt.edu/corgis/datasets/json/airlines/airlines.json\"\n",
    "response = requests.get(url)\n",
    "if response.status_code == 200:\n",
    "    # Get the JSON data from the response\n",
    "    json_data = response.json()\n",
    "\n",
    "# Write the json data \n",
    "with open('airlines.json','w') as json_file:\n",
    "     json_file.write(response.text)"
   ]
  },
  {
   "cell_type": "markdown",
   "id": "8faaa8a5",
   "metadata": {},
   "source": [
    "### Create SQL connection and database"
   ]
  },
  {
   "cell_type": "code",
   "execution_count": 3,
   "id": "571d4592",
   "metadata": {},
   "outputs": [],
   "source": [
    "#establishing the connection\n",
    "conn = psycopg2.connect(\n",
    "   database=\"postgres\", \n",
    "   user='postgres',\n",
    "   password='password', \n",
    "   host='127.0.0.1',\n",
    "   port= '5432'\n",
    ")\n",
    "conn.autocommit = True\n",
    "\n",
    "#Creating a cursor object using the cursor() method to act as interface to our database\n",
    "cursor = conn.cursor()"
   ]
  },
  {
   "cell_type": "code",
   "execution_count": 4,
   "id": "c5ab4e08",
   "metadata": {},
   "outputs": [
    {
     "name": "stdout",
     "output_type": "stream",
     "text": [
      "Database created successfully........\n"
     ]
    }
   ],
   "source": [
    "#Preparing query to create a database\n",
    "sql = '''CREATE database mydb''';\n",
    "\n",
    "#Creating a database\n",
    "cursor.execute(sql)\n",
    "print(\"Database created successfully........\")"
   ]
  },
  {
   "cell_type": "markdown",
   "id": "700956f3",
   "metadata": {},
   "source": [
    "### Creating tables  - airports, time and statistics.\n",
    "Restructuring the JSON data into three separate tables (Time, Airport, and Statistics) helps in simplifying and organizing the data, making it more suitable for analysis in SQL.\n",
    "\n",
    "1. SQL tables are created for each identified entity, based on the attributes present in the JSON data.\n",
    "   - Airport Table: This table contains columns such as Code and Name.\n",
    "   - Time Table: This table includes columns such as Label, Month, Month Name, and Year.\n",
    "   - Statistics Table: This table contains columns for various statistics like No of Delays, Carriers, and Flights, along with their respective attributes.\n",
    "\n",
    "2. Relationships between the tables are established using foreign keys to determine the appropriate relationships :\n",
    "   - The Statistics table has a foreign key referencing the Time table (e.g., time_label) to link each statistic entry to a specific time period.\n",
    "   - Similarly, the Statistics table has a foreign key referencing the Airport table (e.g., airport_code) to associate each statistic with a specific airport."
   ]
  },
  {
   "cell_type": "code",
   "execution_count": 5,
   "id": "7e274c53",
   "metadata": {},
   "outputs": [],
   "source": [
    "airports_table=\"\"\"CREATE TABLE IF NOT EXISTS airports (\n",
    "    Code VARCHAR(3) PRIMARY KEY,\n",
    "    Name VARCHAR(255)\n",
    ");\"\"\"\n",
    "# Creating the table\n",
    "cursor.execute(airports_table)"
   ]
  },
  {
   "cell_type": "code",
   "execution_count": 6,
   "id": "b42f9c73",
   "metadata": {},
   "outputs": [],
   "source": [
    "time_table=\"\"\"CREATE TABLE IF NOT EXISTS time (\n",
    "    Label VARCHAR(10) PRIMARY KEY,\n",
    "    Month INTEGER,\n",
    "    Month_Name VARCHAR(20),\n",
    "    Year INTEGER\n",
    ");\"\"\"\n",
    "# Creating the table\n",
    "cursor.execute(time_table)"
   ]
  },
  {
   "cell_type": "code",
   "execution_count": 7,
   "id": "99ceb330",
   "metadata": {},
   "outputs": [],
   "source": [
    "stats_table=\"\"\"CREATE TABLE IF NOT EXISTS statistics (\n",
    "   ID SERIAL PRIMARY KEY,\n",
    "        Airport_Code VARCHAR(3) REFERENCES airports(Code),\n",
    "        Time_Label VARCHAR(10) REFERENCES Time(Label),\n",
    "        Delays_Carrier INT,\n",
    "        Delays_Late_Aircraft INT,\n",
    "        Delays_National_Aviation_System INT,\n",
    "        Delays_Security INT,\n",
    "        Delays_Weather INT,\n",
    "        Carriers_Names TEXT,\n",
    "        Carriers_Total INT,\n",
    "        Flights_Cancelled INT,\n",
    "        Flights_Delayed INT,\n",
    "        Flights_Diverted INT,\n",
    "        Flights_On_Time INT,\n",
    "        Flights_Total INT,\n",
    "        Minutes_Delayed_Carrier INT,\n",
    "        Minutes_Delayed_Late_Aircraft INT,\n",
    "        Minutes_Delayed_National_Aviation_System INT,\n",
    "        Minutes_Delayed_Security INT,\n",
    "        Minutes_Delayed_Weather INT,\n",
    "        Minutes_Delayed_Total INT\n",
    ");\"\"\"\n",
    "# Creating the table\n",
    "cursor.execute(stats_table)"
   ]
  },
  {
   "cell_type": "markdown",
   "id": "afd12419",
   "metadata": {},
   "source": [
    "### Data insertion to SQL tables\n",
    "- This function inserts data into three tables: 'Airports', 'Time', and 'Statistics'.\n",
    "- For each entry in the input data, it extracts relevant information and inserts it into the respective tables.\n",
    "- It uses the provided cursor and connection to execute SQL queries and commit changes to the database."
   ]
  },
  {
   "cell_type": "code",
   "execution_count": 8,
   "id": "270c86b4",
   "metadata": {},
   "outputs": [],
   "source": [
    "# Function to insert data into PostgreSQL database\n",
    "def insert_data(data):\n",
    "    \"\"\"\n",
    "    Insert data into the 'Airports', 'Time', and 'Statistics' tables in the database.\n",
    "    Args:\n",
    "    - data (list): A list of dictionaries containing airlines data to be inserted.\n",
    "    - cursor: The cursor object used to execute SQL queries.\n",
    "    - conn: The connection object representing the database connection.\n",
    "\n",
    "    Returns:\n",
    "    - None\n",
    "    \"\"\"\n",
    "    for entry in data:\n",
    "        airport_data = (entry['Airport']['Code'], entry['Airport']['Name'])\n",
    "        cursor.execute(\"\"\" INSERT INTO Airports (Code, Name)\n",
    "        VALUES (%s, %s)\n",
    "        ON CONFLICT DO NOTHING \"\"\", airport_data)\n",
    "        \n",
    "        time_data = (entry['Time']['Label'], entry['Time']['Month'], entry['Time']['Month Name'], entry['Time']['Year'])\n",
    "        cursor.execute(\"\"\"INSERT INTO Time (Label, Month, Month_Name, Year)\n",
    "        VALUES (%s, %s, %s, %s)\n",
    "        ON CONFLICT DO NOTHING\"\"\", time_data)\n",
    "\n",
    "        statistics_data = ( entry['Airport']['Code'], entry['Time']['Label'],\n",
    "        entry['Statistics']['# of Delays']['Carrier'], entry['Statistics']['# of Delays']['Late Aircraft'],\n",
    "        entry['Statistics']['# of Delays']['National Aviation System'], entry['Statistics']['# of Delays']['Security'],\n",
    "        entry['Statistics']['# of Delays']['Weather'],\n",
    "        entry['Statistics']['Carriers']['Names'], entry['Statistics']['Carriers']['Total'],\n",
    "        entry['Statistics']['Flights']['Cancelled'], entry['Statistics']['Flights']['Delayed'],\n",
    "        entry['Statistics']['Flights']['Diverted'], entry['Statistics']['Flights']['On Time'], entry['Statistics']['Flights']['Total'],\n",
    "        entry['Statistics']['Minutes Delayed']['Carrier'], entry['Statistics']['Minutes Delayed']['Late Aircraft'],\n",
    "        entry['Statistics']['Minutes Delayed']['National Aviation System'], entry['Statistics']['Minutes Delayed']['Security'],\n",
    "        entry['Statistics']['Minutes Delayed']['Weather'], entry['Statistics']['Minutes Delayed']['Total'] )\n",
    "        \n",
    "        cursor.execute(\"\"\"INSERT INTO Statistics (\n",
    "            Airport_Code, Time_Label,\n",
    "            Delays_Carrier, Delays_Late_Aircraft, Delays_National_Aviation_System,\n",
    "            Delays_Security, Delays_Weather,\n",
    "            Carriers_Names, Carriers_Total,\n",
    "            Flights_Cancelled, Flights_Delayed, Flights_Diverted, Flights_On_Time, Flights_Total,\n",
    "            Minutes_Delayed_Carrier, Minutes_Delayed_Late_Aircraft, Minutes_Delayed_National_Aviation_System,\n",
    "            Minutes_Delayed_Security, Minutes_Delayed_Weather, Minutes_Delayed_Total\n",
    "        )\n",
    "        VALUES ( %s, %s,%s, %s, %s, %s, %s, %s, %s, %s, %s, %s, %s, %s, %s, %s, %s, %s, %s, %s)\"\"\", statistics_data)\n",
    "        conn.commit()"
   ]
  },
  {
   "cell_type": "code",
   "execution_count": 9,
   "id": "ce7af9e4",
   "metadata": {},
   "outputs": [],
   "source": [
    "# Read the JSON files\n",
    "with open('airlines.json','r') as json_file:\n",
    "    data = json.load(json_file)\n",
    "\n",
    "# Insert table function call\n",
    "insert_data(data)"
   ]
  },
  {
   "cell_type": "markdown",
   "id": "5a966202",
   "metadata": {},
   "source": [
    "### Queries and Analysis"
   ]
  },
  {
   "cell_type": "markdown",
   "id": "2fead773",
   "metadata": {},
   "source": [
    "##### Table 1: Airports overview\n",
    "\n",
    "The airport table contains details of all the Airport codes and the airport names."
   ]
  },
  {
   "cell_type": "code",
   "execution_count": 10,
   "id": "2d2ebc40",
   "metadata": {},
   "outputs": [
    {
     "data": {
      "text/html": [
       "<div>\n",
       "<style scoped>\n",
       "    .dataframe tbody tr th:only-of-type {\n",
       "        vertical-align: middle;\n",
       "    }\n",
       "\n",
       "    .dataframe tbody tr th {\n",
       "        vertical-align: top;\n",
       "    }\n",
       "\n",
       "    .dataframe thead th {\n",
       "        text-align: right;\n",
       "    }\n",
       "</style>\n",
       "<table border=\"1\" class=\"dataframe\">\n",
       "  <thead>\n",
       "    <tr style=\"text-align: right;\">\n",
       "      <th></th>\n",
       "      <th>code</th>\n",
       "      <th>name</th>\n",
       "    </tr>\n",
       "  </thead>\n",
       "  <tbody>\n",
       "    <tr>\n",
       "      <th>0</th>\n",
       "      <td>ATL</td>\n",
       "      <td>Atlanta, GA: Hartsfield-Jackson Atlanta Intern...</td>\n",
       "    </tr>\n",
       "    <tr>\n",
       "      <th>1</th>\n",
       "      <td>BOS</td>\n",
       "      <td>Boston, MA: Logan International</td>\n",
       "    </tr>\n",
       "    <tr>\n",
       "      <th>2</th>\n",
       "      <td>BWI</td>\n",
       "      <td>Baltimore, MD: Baltimore/Washington Internatio...</td>\n",
       "    </tr>\n",
       "    <tr>\n",
       "      <th>3</th>\n",
       "      <td>CLT</td>\n",
       "      <td>Charlotte, NC: Charlotte Douglas International</td>\n",
       "    </tr>\n",
       "    <tr>\n",
       "      <th>4</th>\n",
       "      <td>DCA</td>\n",
       "      <td>Washington, DC: Ronald Reagan Washington National</td>\n",
       "    </tr>\n",
       "    <tr>\n",
       "      <th>5</th>\n",
       "      <td>DEN</td>\n",
       "      <td>Denver, CO: Denver International</td>\n",
       "    </tr>\n",
       "    <tr>\n",
       "      <th>6</th>\n",
       "      <td>DFW</td>\n",
       "      <td>Dallas/Fort Worth, TX: Dallas/Fort Worth Inter...</td>\n",
       "    </tr>\n",
       "    <tr>\n",
       "      <th>7</th>\n",
       "      <td>DTW</td>\n",
       "      <td>Detroit, MI: Detroit Metro Wayne County</td>\n",
       "    </tr>\n",
       "    <tr>\n",
       "      <th>8</th>\n",
       "      <td>EWR</td>\n",
       "      <td>Newark, NJ: Newark Liberty International</td>\n",
       "    </tr>\n",
       "    <tr>\n",
       "      <th>9</th>\n",
       "      <td>FLL</td>\n",
       "      <td>Fort Lauderdale, FL: Fort Lauderdale-Hollywood...</td>\n",
       "    </tr>\n",
       "    <tr>\n",
       "      <th>10</th>\n",
       "      <td>IAD</td>\n",
       "      <td>Washington, DC: Washington Dulles International</td>\n",
       "    </tr>\n",
       "    <tr>\n",
       "      <th>11</th>\n",
       "      <td>IAH</td>\n",
       "      <td>Houston, TX: George Bush Intercontinental/Houston</td>\n",
       "    </tr>\n",
       "    <tr>\n",
       "      <th>12</th>\n",
       "      <td>JFK</td>\n",
       "      <td>New York, NY: John F. Kennedy International</td>\n",
       "    </tr>\n",
       "    <tr>\n",
       "      <th>13</th>\n",
       "      <td>LAS</td>\n",
       "      <td>Las Vegas, NV: McCarran International</td>\n",
       "    </tr>\n",
       "    <tr>\n",
       "      <th>14</th>\n",
       "      <td>LAX</td>\n",
       "      <td>Los Angeles, CA: Los Angeles International</td>\n",
       "    </tr>\n",
       "    <tr>\n",
       "      <th>15</th>\n",
       "      <td>LGA</td>\n",
       "      <td>New York, NY: LaGuardia</td>\n",
       "    </tr>\n",
       "    <tr>\n",
       "      <th>16</th>\n",
       "      <td>MCO</td>\n",
       "      <td>Orlando, FL: Orlando International</td>\n",
       "    </tr>\n",
       "    <tr>\n",
       "      <th>17</th>\n",
       "      <td>MDW</td>\n",
       "      <td>Chicago, IL: Chicago Midway International</td>\n",
       "    </tr>\n",
       "    <tr>\n",
       "      <th>18</th>\n",
       "      <td>MIA</td>\n",
       "      <td>Miami, FL: Miami International</td>\n",
       "    </tr>\n",
       "    <tr>\n",
       "      <th>19</th>\n",
       "      <td>MSP</td>\n",
       "      <td>Minneapolis, MN: Minneapolis-St Paul Internati...</td>\n",
       "    </tr>\n",
       "    <tr>\n",
       "      <th>20</th>\n",
       "      <td>ORD</td>\n",
       "      <td>Chicago, IL: Chicago O'Hare International</td>\n",
       "    </tr>\n",
       "    <tr>\n",
       "      <th>21</th>\n",
       "      <td>PDX</td>\n",
       "      <td>Portland, OR: Portland International</td>\n",
       "    </tr>\n",
       "    <tr>\n",
       "      <th>22</th>\n",
       "      <td>PHL</td>\n",
       "      <td>Philadelphia, PA: Philadelphia International</td>\n",
       "    </tr>\n",
       "    <tr>\n",
       "      <th>23</th>\n",
       "      <td>PHX</td>\n",
       "      <td>Phoenix, AZ: Phoenix Sky Harbor International</td>\n",
       "    </tr>\n",
       "    <tr>\n",
       "      <th>24</th>\n",
       "      <td>SAN</td>\n",
       "      <td>San Diego, CA: San Diego International</td>\n",
       "    </tr>\n",
       "    <tr>\n",
       "      <th>25</th>\n",
       "      <td>SEA</td>\n",
       "      <td>Seattle, WA: Seattle/Tacoma International</td>\n",
       "    </tr>\n",
       "    <tr>\n",
       "      <th>26</th>\n",
       "      <td>SFO</td>\n",
       "      <td>San Francisco, CA: San Francisco International</td>\n",
       "    </tr>\n",
       "    <tr>\n",
       "      <th>27</th>\n",
       "      <td>SLC</td>\n",
       "      <td>Salt Lake City, UT: Salt Lake City International</td>\n",
       "    </tr>\n",
       "    <tr>\n",
       "      <th>28</th>\n",
       "      <td>TPA</td>\n",
       "      <td>Tampa, FL: Tampa International</td>\n",
       "    </tr>\n",
       "  </tbody>\n",
       "</table>\n",
       "</div>"
      ],
      "text/plain": [
       "   code                                               name\n",
       "0   ATL  Atlanta, GA: Hartsfield-Jackson Atlanta Intern...\n",
       "1   BOS                    Boston, MA: Logan International\n",
       "2   BWI  Baltimore, MD: Baltimore/Washington Internatio...\n",
       "3   CLT     Charlotte, NC: Charlotte Douglas International\n",
       "4   DCA  Washington, DC: Ronald Reagan Washington National\n",
       "5   DEN                   Denver, CO: Denver International\n",
       "6   DFW  Dallas/Fort Worth, TX: Dallas/Fort Worth Inter...\n",
       "7   DTW            Detroit, MI: Detroit Metro Wayne County\n",
       "8   EWR           Newark, NJ: Newark Liberty International\n",
       "9   FLL  Fort Lauderdale, FL: Fort Lauderdale-Hollywood...\n",
       "10  IAD    Washington, DC: Washington Dulles International\n",
       "11  IAH  Houston, TX: George Bush Intercontinental/Houston\n",
       "12  JFK        New York, NY: John F. Kennedy International\n",
       "13  LAS              Las Vegas, NV: McCarran International\n",
       "14  LAX         Los Angeles, CA: Los Angeles International\n",
       "15  LGA                            New York, NY: LaGuardia\n",
       "16  MCO                 Orlando, FL: Orlando International\n",
       "17  MDW          Chicago, IL: Chicago Midway International\n",
       "18  MIA                     Miami, FL: Miami International\n",
       "19  MSP  Minneapolis, MN: Minneapolis-St Paul Internati...\n",
       "20  ORD          Chicago, IL: Chicago O'Hare International\n",
       "21  PDX               Portland, OR: Portland International\n",
       "22  PHL       Philadelphia, PA: Philadelphia International\n",
       "23  PHX      Phoenix, AZ: Phoenix Sky Harbor International\n",
       "24  SAN             San Diego, CA: San Diego International\n",
       "25  SEA          Seattle, WA: Seattle/Tacoma International\n",
       "26  SFO     San Francisco, CA: San Francisco International\n",
       "27  SLC   Salt Lake City, UT: Salt Lake City International\n",
       "28  TPA                     Tampa, FL: Tampa International"
      ]
     },
     "execution_count": 10,
     "metadata": {},
     "output_type": "execute_result"
    }
   ],
   "source": [
    "# Records of airports and codes\n",
    "table1= \"\"\"SELECT * FROM airports\"\"\"\n",
    "airport_df = pd.read_sql(table1,conn)\n",
    "airport_df"
   ]
  },
  {
   "cell_type": "markdown",
   "id": "84c4e17d",
   "metadata": {},
   "source": [
    "##### Table 2: Time periods overview\n",
    "This table contains the time periods of the airline operations that took place, with fields Label , month, month name and year "
   ]
  },
  {
   "cell_type": "code",
   "execution_count": 11,
   "id": "09619f6c",
   "metadata": {},
   "outputs": [
    {
     "data": {
      "text/html": [
       "<div>\n",
       "<style scoped>\n",
       "    .dataframe tbody tr th:only-of-type {\n",
       "        vertical-align: middle;\n",
       "    }\n",
       "\n",
       "    .dataframe tbody tr th {\n",
       "        vertical-align: top;\n",
       "    }\n",
       "\n",
       "    .dataframe thead th {\n",
       "        text-align: right;\n",
       "    }\n",
       "</style>\n",
       "<table border=\"1\" class=\"dataframe\">\n",
       "  <thead>\n",
       "    <tr style=\"text-align: right;\">\n",
       "      <th></th>\n",
       "      <th>label</th>\n",
       "      <th>month</th>\n",
       "      <th>month_name</th>\n",
       "      <th>year</th>\n",
       "    </tr>\n",
       "  </thead>\n",
       "  <tbody>\n",
       "    <tr>\n",
       "      <th>0</th>\n",
       "      <td>2003/06</td>\n",
       "      <td>6</td>\n",
       "      <td>June</td>\n",
       "      <td>2003</td>\n",
       "    </tr>\n",
       "    <tr>\n",
       "      <th>1</th>\n",
       "      <td>2003/07</td>\n",
       "      <td>7</td>\n",
       "      <td>July</td>\n",
       "      <td>2003</td>\n",
       "    </tr>\n",
       "    <tr>\n",
       "      <th>2</th>\n",
       "      <td>2003/08</td>\n",
       "      <td>8</td>\n",
       "      <td>August</td>\n",
       "      <td>2003</td>\n",
       "    </tr>\n",
       "    <tr>\n",
       "      <th>3</th>\n",
       "      <td>2003/09</td>\n",
       "      <td>9</td>\n",
       "      <td>September</td>\n",
       "      <td>2003</td>\n",
       "    </tr>\n",
       "    <tr>\n",
       "      <th>4</th>\n",
       "      <td>2003/10</td>\n",
       "      <td>10</td>\n",
       "      <td>October</td>\n",
       "      <td>2003</td>\n",
       "    </tr>\n",
       "    <tr>\n",
       "      <th>...</th>\n",
       "      <td>...</td>\n",
       "      <td>...</td>\n",
       "      <td>...</td>\n",
       "      <td>...</td>\n",
       "    </tr>\n",
       "    <tr>\n",
       "      <th>147</th>\n",
       "      <td>2015/09</td>\n",
       "      <td>9</td>\n",
       "      <td>September</td>\n",
       "      <td>2015</td>\n",
       "    </tr>\n",
       "    <tr>\n",
       "      <th>148</th>\n",
       "      <td>2015/10</td>\n",
       "      <td>10</td>\n",
       "      <td>October</td>\n",
       "      <td>2015</td>\n",
       "    </tr>\n",
       "    <tr>\n",
       "      <th>149</th>\n",
       "      <td>2015/11</td>\n",
       "      <td>11</td>\n",
       "      <td>November</td>\n",
       "      <td>2015</td>\n",
       "    </tr>\n",
       "    <tr>\n",
       "      <th>150</th>\n",
       "      <td>2015/12</td>\n",
       "      <td>12</td>\n",
       "      <td>December</td>\n",
       "      <td>2015</td>\n",
       "    </tr>\n",
       "    <tr>\n",
       "      <th>151</th>\n",
       "      <td>2016/01</td>\n",
       "      <td>1</td>\n",
       "      <td>January</td>\n",
       "      <td>2016</td>\n",
       "    </tr>\n",
       "  </tbody>\n",
       "</table>\n",
       "<p>152 rows × 4 columns</p>\n",
       "</div>"
      ],
      "text/plain": [
       "       label  month month_name  year\n",
       "0    2003/06      6       June  2003\n",
       "1    2003/07      7       July  2003\n",
       "2    2003/08      8     August  2003\n",
       "3    2003/09      9  September  2003\n",
       "4    2003/10     10    October  2003\n",
       "..       ...    ...        ...   ...\n",
       "147  2015/09      9  September  2015\n",
       "148  2015/10     10    October  2015\n",
       "149  2015/11     11   November  2015\n",
       "150  2015/12     12   December  2015\n",
       "151  2016/01      1    January  2016\n",
       "\n",
       "[152 rows x 4 columns]"
      ]
     },
     "execution_count": 11,
     "metadata": {},
     "output_type": "execute_result"
    }
   ],
   "source": [
    "# Table containing recorded time periods of airline operations\n",
    "table2 = \"\"\"SELECT * FROM time\"\"\"\n",
    "time_df = pd.read_sql(table2,conn)\n",
    "time_df"
   ]
  },
  {
   "cell_type": "markdown",
   "id": "c3ec8db6",
   "metadata": {},
   "source": [
    "##### Table 3 : Statistics overview\n",
    "This table presents various statistics related to flights, including delays, on-time operations, total flights, and diversions, etc."
   ]
  },
  {
   "cell_type": "code",
   "execution_count": 12,
   "id": "5ae04860",
   "metadata": {},
   "outputs": [
    {
     "data": {
      "text/html": [
       "<div>\n",
       "<style scoped>\n",
       "    .dataframe tbody tr th:only-of-type {\n",
       "        vertical-align: middle;\n",
       "    }\n",
       "\n",
       "    .dataframe tbody tr th {\n",
       "        vertical-align: top;\n",
       "    }\n",
       "\n",
       "    .dataframe thead th {\n",
       "        text-align: right;\n",
       "    }\n",
       "</style>\n",
       "<table border=\"1\" class=\"dataframe\">\n",
       "  <thead>\n",
       "    <tr style=\"text-align: right;\">\n",
       "      <th></th>\n",
       "      <th>id</th>\n",
       "      <th>airport_code</th>\n",
       "      <th>time_label</th>\n",
       "      <th>delays_carrier</th>\n",
       "      <th>delays_late_aircraft</th>\n",
       "      <th>delays_national_aviation_system</th>\n",
       "      <th>delays_security</th>\n",
       "      <th>delays_weather</th>\n",
       "      <th>carriers_names</th>\n",
       "      <th>carriers_total</th>\n",
       "      <th>...</th>\n",
       "      <th>flights_delayed</th>\n",
       "      <th>flights_diverted</th>\n",
       "      <th>flights_on_time</th>\n",
       "      <th>flights_total</th>\n",
       "      <th>minutes_delayed_carrier</th>\n",
       "      <th>minutes_delayed_late_aircraft</th>\n",
       "      <th>minutes_delayed_national_aviation_system</th>\n",
       "      <th>minutes_delayed_security</th>\n",
       "      <th>minutes_delayed_weather</th>\n",
       "      <th>minutes_delayed_total</th>\n",
       "    </tr>\n",
       "  </thead>\n",
       "  <tbody>\n",
       "    <tr>\n",
       "      <th>0</th>\n",
       "      <td>1</td>\n",
       "      <td>ATL</td>\n",
       "      <td>2003/06</td>\n",
       "      <td>1009</td>\n",
       "      <td>1275</td>\n",
       "      <td>3217</td>\n",
       "      <td>17</td>\n",
       "      <td>328</td>\n",
       "      <td>American Airlines Inc.,JetBlue Airways,Contine...</td>\n",
       "      <td>11</td>\n",
       "      <td>...</td>\n",
       "      <td>5843</td>\n",
       "      <td>27</td>\n",
       "      <td>23974</td>\n",
       "      <td>30060</td>\n",
       "      <td>61606</td>\n",
       "      <td>68335</td>\n",
       "      <td>118831</td>\n",
       "      <td>518</td>\n",
       "      <td>19474</td>\n",
       "      <td>268764</td>\n",
       "    </tr>\n",
       "    <tr>\n",
       "      <th>1</th>\n",
       "      <td>2</td>\n",
       "      <td>BOS</td>\n",
       "      <td>2003/06</td>\n",
       "      <td>374</td>\n",
       "      <td>495</td>\n",
       "      <td>685</td>\n",
       "      <td>3</td>\n",
       "      <td>66</td>\n",
       "      <td>American Airlines Inc.,Alaska Airlines Inc.,Co...</td>\n",
       "      <td>14</td>\n",
       "      <td>...</td>\n",
       "      <td>1623</td>\n",
       "      <td>3</td>\n",
       "      <td>7875</td>\n",
       "      <td>9639</td>\n",
       "      <td>20319</td>\n",
       "      <td>28189</td>\n",
       "      <td>24400</td>\n",
       "      <td>99</td>\n",
       "      <td>4160</td>\n",
       "      <td>77167</td>\n",
       "    </tr>\n",
       "    <tr>\n",
       "      <th>2</th>\n",
       "      <td>3</td>\n",
       "      <td>BWI</td>\n",
       "      <td>2003/06</td>\n",
       "      <td>296</td>\n",
       "      <td>477</td>\n",
       "      <td>389</td>\n",
       "      <td>8</td>\n",
       "      <td>78</td>\n",
       "      <td>American Airlines Inc.,Continental Air Lines I...</td>\n",
       "      <td>11</td>\n",
       "      <td>...</td>\n",
       "      <td>1245</td>\n",
       "      <td>15</td>\n",
       "      <td>6998</td>\n",
       "      <td>8287</td>\n",
       "      <td>13635</td>\n",
       "      <td>26810</td>\n",
       "      <td>17556</td>\n",
       "      <td>278</td>\n",
       "      <td>6201</td>\n",
       "      <td>64480</td>\n",
       "    </tr>\n",
       "    <tr>\n",
       "      <th>3</th>\n",
       "      <td>4</td>\n",
       "      <td>CLT</td>\n",
       "      <td>2003/06</td>\n",
       "      <td>300</td>\n",
       "      <td>472</td>\n",
       "      <td>735</td>\n",
       "      <td>2</td>\n",
       "      <td>54</td>\n",
       "      <td>American Airlines Inc.,Continental Air Lines I...</td>\n",
       "      <td>11</td>\n",
       "      <td>...</td>\n",
       "      <td>1562</td>\n",
       "      <td>14</td>\n",
       "      <td>7021</td>\n",
       "      <td>8670</td>\n",
       "      <td>14763</td>\n",
       "      <td>23379</td>\n",
       "      <td>23804</td>\n",
       "      <td>127</td>\n",
       "      <td>3792</td>\n",
       "      <td>65865</td>\n",
       "    </tr>\n",
       "    <tr>\n",
       "      <th>4</th>\n",
       "      <td>5</td>\n",
       "      <td>DCA</td>\n",
       "      <td>2003/06</td>\n",
       "      <td>283</td>\n",
       "      <td>268</td>\n",
       "      <td>487</td>\n",
       "      <td>4</td>\n",
       "      <td>58</td>\n",
       "      <td>American Airlines Inc.,Alaska Airlines Inc.,Co...</td>\n",
       "      <td>13</td>\n",
       "      <td>...</td>\n",
       "      <td>1100</td>\n",
       "      <td>18</td>\n",
       "      <td>5321</td>\n",
       "      <td>6513</td>\n",
       "      <td>13775</td>\n",
       "      <td>13712</td>\n",
       "      <td>20999</td>\n",
       "      <td>120</td>\n",
       "      <td>4141</td>\n",
       "      <td>52747</td>\n",
       "    </tr>\n",
       "    <tr>\n",
       "      <th>...</th>\n",
       "      <td>...</td>\n",
       "      <td>...</td>\n",
       "      <td>...</td>\n",
       "      <td>...</td>\n",
       "      <td>...</td>\n",
       "      <td>...</td>\n",
       "      <td>...</td>\n",
       "      <td>...</td>\n",
       "      <td>...</td>\n",
       "      <td>...</td>\n",
       "      <td>...</td>\n",
       "      <td>...</td>\n",
       "      <td>...</td>\n",
       "      <td>...</td>\n",
       "      <td>...</td>\n",
       "      <td>...</td>\n",
       "      <td>...</td>\n",
       "      <td>...</td>\n",
       "      <td>...</td>\n",
       "      <td>...</td>\n",
       "      <td>...</td>\n",
       "    </tr>\n",
       "    <tr>\n",
       "      <th>48483</th>\n",
       "      <td>48484</td>\n",
       "      <td>SAN</td>\n",
       "      <td>2016/01</td>\n",
       "      <td>280</td>\n",
       "      <td>397</td>\n",
       "      <td>171</td>\n",
       "      <td>2</td>\n",
       "      <td>20</td>\n",
       "      <td>American Airlines Inc.,Alaska Airlines Inc.,Je...</td>\n",
       "      <td>11</td>\n",
       "      <td>...</td>\n",
       "      <td>871</td>\n",
       "      <td>18</td>\n",
       "      <td>5030</td>\n",
       "      <td>6016</td>\n",
       "      <td>15482</td>\n",
       "      <td>23023</td>\n",
       "      <td>6021</td>\n",
       "      <td>79</td>\n",
       "      <td>1601</td>\n",
       "      <td>46206</td>\n",
       "    </tr>\n",
       "    <tr>\n",
       "      <th>48484</th>\n",
       "      <td>48485</td>\n",
       "      <td>SEA</td>\n",
       "      <td>2016/01</td>\n",
       "      <td>357</td>\n",
       "      <td>513</td>\n",
       "      <td>351</td>\n",
       "      <td>2</td>\n",
       "      <td>50</td>\n",
       "      <td>American Airlines Inc.,Alaska Airlines Inc.,Je...</td>\n",
       "      <td>10</td>\n",
       "      <td>...</td>\n",
       "      <td>1274</td>\n",
       "      <td>31</td>\n",
       "      <td>8330</td>\n",
       "      <td>9739</td>\n",
       "      <td>25461</td>\n",
       "      <td>32693</td>\n",
       "      <td>11466</td>\n",
       "      <td>73</td>\n",
       "      <td>4324</td>\n",
       "      <td>74017</td>\n",
       "    </tr>\n",
       "    <tr>\n",
       "      <th>48485</th>\n",
       "      <td>48486</td>\n",
       "      <td>SFO</td>\n",
       "      <td>2016/01</td>\n",
       "      <td>560</td>\n",
       "      <td>947</td>\n",
       "      <td>2194</td>\n",
       "      <td>2</td>\n",
       "      <td>119</td>\n",
       "      <td>American Airlines Inc.,Alaska Airlines Inc.,Je...</td>\n",
       "      <td>10</td>\n",
       "      <td>...</td>\n",
       "      <td>3825</td>\n",
       "      <td>20</td>\n",
       "      <td>8912</td>\n",
       "      <td>13206</td>\n",
       "      <td>43641</td>\n",
       "      <td>72557</td>\n",
       "      <td>153416</td>\n",
       "      <td>66</td>\n",
       "      <td>8930</td>\n",
       "      <td>278610</td>\n",
       "    </tr>\n",
       "    <tr>\n",
       "      <th>48486</th>\n",
       "      <td>48487</td>\n",
       "      <td>SLC</td>\n",
       "      <td>2016/01</td>\n",
       "      <td>338</td>\n",
       "      <td>540</td>\n",
       "      <td>253</td>\n",
       "      <td>3</td>\n",
       "      <td>38</td>\n",
       "      <td>American Airlines Inc.,Alaska Airlines Inc.,Je...</td>\n",
       "      <td>8</td>\n",
       "      <td>...</td>\n",
       "      <td>1175</td>\n",
       "      <td>14</td>\n",
       "      <td>7426</td>\n",
       "      <td>8699</td>\n",
       "      <td>32066</td>\n",
       "      <td>33682</td>\n",
       "      <td>8057</td>\n",
       "      <td>57</td>\n",
       "      <td>3116</td>\n",
       "      <td>76978</td>\n",
       "    </tr>\n",
       "    <tr>\n",
       "      <th>48487</th>\n",
       "      <td>48488</td>\n",
       "      <td>TPA</td>\n",
       "      <td>2016/01</td>\n",
       "      <td>410</td>\n",
       "      <td>342</td>\n",
       "      <td>312</td>\n",
       "      <td>2</td>\n",
       "      <td>27</td>\n",
       "      <td>American Airlines Inc.,Alaska Airlines Inc.,Je...</td>\n",
       "      <td>8</td>\n",
       "      <td>...</td>\n",
       "      <td>1095</td>\n",
       "      <td>7</td>\n",
       "      <td>4748</td>\n",
       "      <td>5996</td>\n",
       "      <td>22557</td>\n",
       "      <td>21164</td>\n",
       "      <td>11423</td>\n",
       "      <td>37</td>\n",
       "      <td>2593</td>\n",
       "      <td>57774</td>\n",
       "    </tr>\n",
       "  </tbody>\n",
       "</table>\n",
       "<p>48488 rows × 21 columns</p>\n",
       "</div>"
      ],
      "text/plain": [
       "          id airport_code time_label  delays_carrier  delays_late_aircraft  \\\n",
       "0          1          ATL    2003/06            1009                  1275   \n",
       "1          2          BOS    2003/06             374                   495   \n",
       "2          3          BWI    2003/06             296                   477   \n",
       "3          4          CLT    2003/06             300                   472   \n",
       "4          5          DCA    2003/06             283                   268   \n",
       "...      ...          ...        ...             ...                   ...   \n",
       "48483  48484          SAN    2016/01             280                   397   \n",
       "48484  48485          SEA    2016/01             357                   513   \n",
       "48485  48486          SFO    2016/01             560                   947   \n",
       "48486  48487          SLC    2016/01             338                   540   \n",
       "48487  48488          TPA    2016/01             410                   342   \n",
       "\n",
       "       delays_national_aviation_system  delays_security  delays_weather  \\\n",
       "0                                 3217               17             328   \n",
       "1                                  685                3              66   \n",
       "2                                  389                8              78   \n",
       "3                                  735                2              54   \n",
       "4                                  487                4              58   \n",
       "...                                ...              ...             ...   \n",
       "48483                              171                2              20   \n",
       "48484                              351                2              50   \n",
       "48485                             2194                2             119   \n",
       "48486                              253                3              38   \n",
       "48487                              312                2              27   \n",
       "\n",
       "                                          carriers_names  carriers_total  ...  \\\n",
       "0      American Airlines Inc.,JetBlue Airways,Contine...              11  ...   \n",
       "1      American Airlines Inc.,Alaska Airlines Inc.,Co...              14  ...   \n",
       "2      American Airlines Inc.,Continental Air Lines I...              11  ...   \n",
       "3      American Airlines Inc.,Continental Air Lines I...              11  ...   \n",
       "4      American Airlines Inc.,Alaska Airlines Inc.,Co...              13  ...   \n",
       "...                                                  ...             ...  ...   \n",
       "48483  American Airlines Inc.,Alaska Airlines Inc.,Je...              11  ...   \n",
       "48484  American Airlines Inc.,Alaska Airlines Inc.,Je...              10  ...   \n",
       "48485  American Airlines Inc.,Alaska Airlines Inc.,Je...              10  ...   \n",
       "48486  American Airlines Inc.,Alaska Airlines Inc.,Je...               8  ...   \n",
       "48487  American Airlines Inc.,Alaska Airlines Inc.,Je...               8  ...   \n",
       "\n",
       "       flights_delayed  flights_diverted  flights_on_time  flights_total  \\\n",
       "0                 5843                27            23974          30060   \n",
       "1                 1623                 3             7875           9639   \n",
       "2                 1245                15             6998           8287   \n",
       "3                 1562                14             7021           8670   \n",
       "4                 1100                18             5321           6513   \n",
       "...                ...               ...              ...            ...   \n",
       "48483              871                18             5030           6016   \n",
       "48484             1274                31             8330           9739   \n",
       "48485             3825                20             8912          13206   \n",
       "48486             1175                14             7426           8699   \n",
       "48487             1095                 7             4748           5996   \n",
       "\n",
       "       minutes_delayed_carrier  minutes_delayed_late_aircraft  \\\n",
       "0                        61606                          68335   \n",
       "1                        20319                          28189   \n",
       "2                        13635                          26810   \n",
       "3                        14763                          23379   \n",
       "4                        13775                          13712   \n",
       "...                        ...                            ...   \n",
       "48483                    15482                          23023   \n",
       "48484                    25461                          32693   \n",
       "48485                    43641                          72557   \n",
       "48486                    32066                          33682   \n",
       "48487                    22557                          21164   \n",
       "\n",
       "       minutes_delayed_national_aviation_system  minutes_delayed_security  \\\n",
       "0                                        118831                       518   \n",
       "1                                         24400                        99   \n",
       "2                                         17556                       278   \n",
       "3                                         23804                       127   \n",
       "4                                         20999                       120   \n",
       "...                                         ...                       ...   \n",
       "48483                                      6021                        79   \n",
       "48484                                     11466                        73   \n",
       "48485                                    153416                        66   \n",
       "48486                                      8057                        57   \n",
       "48487                                     11423                        37   \n",
       "\n",
       "       minutes_delayed_weather  minutes_delayed_total  \n",
       "0                        19474                 268764  \n",
       "1                         4160                  77167  \n",
       "2                         6201                  64480  \n",
       "3                         3792                  65865  \n",
       "4                         4141                  52747  \n",
       "...                        ...                    ...  \n",
       "48483                     1601                  46206  \n",
       "48484                     4324                  74017  \n",
       "48485                     8930                 278610  \n",
       "48486                     3116                  76978  \n",
       "48487                     2593                  57774  \n",
       "\n",
       "[48488 rows x 21 columns]"
      ]
     },
     "execution_count": 12,
     "metadata": {},
     "output_type": "execute_result"
    }
   ],
   "source": [
    "# Statistics table with no of delays, total on time flight etc of airlines\n",
    "table3 = \"\"\"SELECT * FROM statistics\"\"\"\n",
    "stats_df = pd.read_sql(table3,conn)\n",
    "stats_df"
   ]
  },
  {
   "cell_type": "code",
   "execution_count": 13,
   "id": "b68aa9f9",
   "metadata": {},
   "outputs": [
    {
     "data": {
      "text/plain": [
       "Index(['id', 'airport_code', 'time_label', 'delays_carrier',\n",
       "       'delays_late_aircraft', 'delays_national_aviation_system',\n",
       "       'delays_security', 'delays_weather', 'carriers_names', 'carriers_total',\n",
       "       'flights_cancelled', 'flights_delayed', 'flights_diverted',\n",
       "       'flights_on_time', 'flights_total', 'minutes_delayed_carrier',\n",
       "       'minutes_delayed_late_aircraft',\n",
       "       'minutes_delayed_national_aviation_system', 'minutes_delayed_security',\n",
       "       'minutes_delayed_weather', 'minutes_delayed_total'],\n",
       "      dtype='object')"
      ]
     },
     "execution_count": 13,
     "metadata": {},
     "output_type": "execute_result"
    }
   ],
   "source": [
    "stats_df.columns"
   ]
  },
  {
   "cell_type": "markdown",
   "id": "37df6a5e",
   "metadata": {},
   "source": [
    "##### Query 1: Busiest operating aiports\n",
    "This query summarizes the total number of flights for each airport, ranking them by flight volume to identify the top 10 busiest airports."
   ]
  },
  {
   "cell_type": "code",
   "execution_count": 14,
   "id": "b08f7357",
   "metadata": {},
   "outputs": [
    {
     "data": {
      "text/html": [
       "<div>\n",
       "<style scoped>\n",
       "    .dataframe tbody tr th:only-of-type {\n",
       "        vertical-align: middle;\n",
       "    }\n",
       "\n",
       "    .dataframe tbody tr th {\n",
       "        vertical-align: top;\n",
       "    }\n",
       "\n",
       "    .dataframe thead th {\n",
       "        text-align: right;\n",
       "    }\n",
       "</style>\n",
       "<table border=\"1\" class=\"dataframe\">\n",
       "  <thead>\n",
       "    <tr style=\"text-align: right;\">\n",
       "      <th></th>\n",
       "      <th>airport_code</th>\n",
       "      <th>total_flights</th>\n",
       "    </tr>\n",
       "  </thead>\n",
       "  <tbody>\n",
       "    <tr>\n",
       "      <th>0</th>\n",
       "      <td>ATL</td>\n",
       "      <td>56021251</td>\n",
       "    </tr>\n",
       "    <tr>\n",
       "      <th>1</th>\n",
       "      <td>ORD</td>\n",
       "      <td>46305490</td>\n",
       "    </tr>\n",
       "    <tr>\n",
       "      <th>2</th>\n",
       "      <td>DFW</td>\n",
       "      <td>39996209</td>\n",
       "    </tr>\n",
       "    <tr>\n",
       "      <th>3</th>\n",
       "      <td>LAX</td>\n",
       "      <td>30641116</td>\n",
       "    </tr>\n",
       "    <tr>\n",
       "      <th>4</th>\n",
       "      <td>DEN</td>\n",
       "      <td>30504144</td>\n",
       "    </tr>\n",
       "    <tr>\n",
       "      <th>5</th>\n",
       "      <td>IAH</td>\n",
       "      <td>26191011</td>\n",
       "    </tr>\n",
       "    <tr>\n",
       "      <th>6</th>\n",
       "      <td>PHX</td>\n",
       "      <td>25474086</td>\n",
       "    </tr>\n",
       "    <tr>\n",
       "      <th>7</th>\n",
       "      <td>LAS</td>\n",
       "      <td>21717179</td>\n",
       "    </tr>\n",
       "    <tr>\n",
       "      <th>8</th>\n",
       "      <td>SFO</td>\n",
       "      <td>20314921</td>\n",
       "    </tr>\n",
       "    <tr>\n",
       "      <th>9</th>\n",
       "      <td>DTW</td>\n",
       "      <td>18982205</td>\n",
       "    </tr>\n",
       "  </tbody>\n",
       "</table>\n",
       "</div>"
      ],
      "text/plain": [
       "  airport_code  total_flights\n",
       "0          ATL       56021251\n",
       "1          ORD       46305490\n",
       "2          DFW       39996209\n",
       "3          LAX       30641116\n",
       "4          DEN       30504144\n",
       "5          IAH       26191011\n",
       "6          PHX       25474086\n",
       "7          LAS       21717179\n",
       "8          SFO       20314921\n",
       "9          DTW       18982205"
      ]
     },
     "execution_count": 14,
     "metadata": {},
     "output_type": "execute_result"
    }
   ],
   "source": [
    "query1=\"\"\"SELECT Airport_Code, SUM(Flights_Total) AS Total_Flights\n",
    "FROM Statistics\n",
    "GROUP BY Airport_Code\n",
    "ORDER BY Total_Flights DESC\n",
    "LIMIT 10;\"\"\"\n",
    "busy_airports_df =pd.read_sql(query1,conn)\n",
    "busy_airports_df"
   ]
  },
  {
   "cell_type": "markdown",
   "id": "46618d94",
   "metadata": {},
   "source": [
    "##### Insights:\n",
    "Hartsfield-Jackson Atlanta International Airport (ATL) is the busiest airport by a significant margin, with over 50 million total flights. The top 10 busiest airports most likely have extensive infrastructure and services to handle the high volume of flights and passengers efficiently."
   ]
  },
  {
   "cell_type": "markdown",
   "id": "026232ce",
   "metadata": {},
   "source": [
    "##### Query 2: Trend of total no of flights operating over different years\n",
    "Analyzes the trend of total flights operated each year,between the years 2004 and 2015. It provides insights into the overall growth or decline in flight operations over this period.\n",
    "- The query aggregates the total number of flights operated, omitting any cancelled flights, by joining the \"Statistics\" and \"Time\" tables using the Time label as a foreign key. \n",
    "- The results are grouped by year and sorted chronologically."
   ]
  },
  {
   "cell_type": "code",
   "execution_count": 15,
   "id": "1f05f621",
   "metadata": {},
   "outputs": [
    {
     "data": {
      "text/html": [
       "<div>\n",
       "<style scoped>\n",
       "    .dataframe tbody tr th:only-of-type {\n",
       "        vertical-align: middle;\n",
       "    }\n",
       "\n",
       "    .dataframe tbody tr th {\n",
       "        vertical-align: top;\n",
       "    }\n",
       "\n",
       "    .dataframe thead th {\n",
       "        text-align: right;\n",
       "    }\n",
       "</style>\n",
       "<table border=\"1\" class=\"dataframe\">\n",
       "  <thead>\n",
       "    <tr style=\"text-align: right;\">\n",
       "      <th></th>\n",
       "      <th>year</th>\n",
       "      <th>total_flights</th>\n",
       "    </tr>\n",
       "  </thead>\n",
       "  <tbody>\n",
       "    <tr>\n",
       "      <th>0</th>\n",
       "      <td>2004</td>\n",
       "      <td>46934745</td>\n",
       "    </tr>\n",
       "    <tr>\n",
       "      <th>1</th>\n",
       "      <td>2005</td>\n",
       "      <td>47193674</td>\n",
       "    </tr>\n",
       "    <tr>\n",
       "      <th>2</th>\n",
       "      <td>2006</td>\n",
       "      <td>47954247</td>\n",
       "    </tr>\n",
       "    <tr>\n",
       "      <th>3</th>\n",
       "      <td>2007</td>\n",
       "      <td>48794053</td>\n",
       "    </tr>\n",
       "    <tr>\n",
       "      <th>4</th>\n",
       "      <td>2008</td>\n",
       "      <td>46419989</td>\n",
       "    </tr>\n",
       "    <tr>\n",
       "      <th>5</th>\n",
       "      <td>2009</td>\n",
       "      <td>43786149</td>\n",
       "    </tr>\n",
       "    <tr>\n",
       "      <th>6</th>\n",
       "      <td>2010</td>\n",
       "      <td>43733294</td>\n",
       "    </tr>\n",
       "    <tr>\n",
       "      <th>7</th>\n",
       "      <td>2011</td>\n",
       "      <td>42304108</td>\n",
       "    </tr>\n",
       "    <tr>\n",
       "      <th>8</th>\n",
       "      <td>2012</td>\n",
       "      <td>42920845</td>\n",
       "    </tr>\n",
       "    <tr>\n",
       "      <th>9</th>\n",
       "      <td>2013</td>\n",
       "      <td>44509773</td>\n",
       "    </tr>\n",
       "    <tr>\n",
       "      <th>10</th>\n",
       "      <td>2014</td>\n",
       "      <td>41170173</td>\n",
       "    </tr>\n",
       "    <tr>\n",
       "      <th>11</th>\n",
       "      <td>2015</td>\n",
       "      <td>41915588</td>\n",
       "    </tr>\n",
       "  </tbody>\n",
       "</table>\n",
       "</div>"
      ],
      "text/plain": [
       "    year  total_flights\n",
       "0   2004       46934745\n",
       "1   2005       47193674\n",
       "2   2006       47954247\n",
       "3   2007       48794053\n",
       "4   2008       46419989\n",
       "5   2009       43786149\n",
       "6   2010       43733294\n",
       "7   2011       42304108\n",
       "8   2012       42920845\n",
       "9   2013       44509773\n",
       "10  2014       41170173\n",
       "11  2015       41915588"
      ]
     },
     "execution_count": 15,
     "metadata": {},
     "output_type": "execute_result"
    }
   ],
   "source": [
    "query2= \"\"\"SELECT t.year, SUM(s.flights_total - s.flights_cancelled) AS Total_Flights FROM Time t\n",
    "    JOIN Statistics s ON t.Label = s.time_label\n",
    "    WHERE t.year >2003 and t.year <2016\n",
    "    GROUP BY t.year\n",
    "    ORDER BY t.year\"\"\"\n",
    "flight_trends= pd.read_sql(query2,conn)\n",
    "flight_trends"
   ]
  },
  {
   "cell_type": "code",
   "execution_count": 16,
   "id": "cfc93987",
   "metadata": {},
   "outputs": [
    {
     "data": {
      "image/png": "[encoded data removed]",
      "text/plain": [
       "<Figure size 800x400 with 1 Axes>"
      ]
     },
     "metadata": {},
     "output_type": "display_data"
    }
   ],
   "source": [
    "plt.figure(figsize=(8, 4))\n",
    "plt.plot(flight_trends['year'], flight_trends['total_flights'],marker='o',linestyle='-')\n",
    "\n",
    "plt.title('Yearly Trend of Total Flights')\n",
    "plt.xlabel('Year')\n",
    "plt.ylabel('Total Flights')\n",
    "plt.grid(True)\n",
    "plt.tight_layout()\n",
    "plt.show()"
   ]
  },
  {
   "cell_type": "markdown",
   "id": "a2713f57",
   "metadata": {},
   "source": [
    "##### Insights: \n",
    "The line plot illustrates the yearly trend of total flights operated, showing a notable increase from 2004 to 2005, followed by a gradual decline until approximately 2012. Interestingly, there is a slight uptick observed between 2012 and 2013. This trend suggests a period of growth in aviation activity during the mid-2000s, followed by a decrease in subsequent years, with a potential resurgence in activity around 2013. The decline in total flights after the slight increase in 2012-2013 highlights how the aviation industry can be unpredictable and subject to change."
   ]
  },
  {
   "cell_type": "markdown",
   "id": "09f74616",
   "metadata": {},
   "source": [
    "##### Query 3: Percentage of flights operating On Time Vs Cancelled flights\n",
    "- The query gathers data on the on-time and cancelled flight percentages for each airport by calculating the sum of on-time and cancelled flights over the sum of total flights operated (aggregation of flights over all the years).\n",
    "- These results are grouped for each airport code, with results sorted based on the on-time flights percentage,this allows us to identify airports with the highest on-time performance at the top of the list."
   ]
  },
  {
   "cell_type": "code",
   "execution_count": 17,
   "id": "0c8d700b",
   "metadata": {},
   "outputs": [
    {
     "data": {
      "text/html": [
       "<div>\n",
       "<style scoped>\n",
       "    .dataframe tbody tr th:only-of-type {\n",
       "        vertical-align: middle;\n",
       "    }\n",
       "\n",
       "    .dataframe tbody tr th {\n",
       "        vertical-align: top;\n",
       "    }\n",
       "\n",
       "    .dataframe thead th {\n",
       "        text-align: right;\n",
       "    }\n",
       "</style>\n",
       "<table border=\"1\" class=\"dataframe\">\n",
       "  <thead>\n",
       "    <tr style=\"text-align: right;\">\n",
       "      <th></th>\n",
       "      <th>airport_code</th>\n",
       "      <th>on_time_percentage</th>\n",
       "      <th>cancelled_flights_percentage</th>\n",
       "    </tr>\n",
       "  </thead>\n",
       "  <tbody>\n",
       "    <tr>\n",
       "      <th>0</th>\n",
       "      <td>SLC</td>\n",
       "      <td>84.249328</td>\n",
       "      <td>0.981987</td>\n",
       "    </tr>\n",
       "    <tr>\n",
       "      <th>1</th>\n",
       "      <td>PHX</td>\n",
       "      <td>82.423895</td>\n",
       "      <td>1.049561</td>\n",
       "    </tr>\n",
       "    <tr>\n",
       "      <th>2</th>\n",
       "      <td>PDX</td>\n",
       "      <td>80.759415</td>\n",
       "      <td>0.789006</td>\n",
       "    </tr>\n",
       "    <tr>\n",
       "      <th>3</th>\n",
       "      <td>MSP</td>\n",
       "      <td>80.342827</td>\n",
       "      <td>1.408576</td>\n",
       "    </tr>\n",
       "    <tr>\n",
       "      <th>4</th>\n",
       "      <td>MDW</td>\n",
       "      <td>80.317165</td>\n",
       "      <td>1.303054</td>\n",
       "    </tr>\n",
       "    <tr>\n",
       "      <th>5</th>\n",
       "      <td>CLT</td>\n",
       "      <td>80.310017</td>\n",
       "      <td>1.540100</td>\n",
       "    </tr>\n",
       "    <tr>\n",
       "      <th>6</th>\n",
       "      <td>BWI</td>\n",
       "      <td>80.268309</td>\n",
       "      <td>1.317164</td>\n",
       "    </tr>\n",
       "    <tr>\n",
       "      <th>7</th>\n",
       "      <td>DEN</td>\n",
       "      <td>80.236443</td>\n",
       "      <td>1.295516</td>\n",
       "    </tr>\n",
       "    <tr>\n",
       "      <th>8</th>\n",
       "      <td>DTW</td>\n",
       "      <td>80.182134</td>\n",
       "      <td>1.731980</td>\n",
       "    </tr>\n",
       "    <tr>\n",
       "      <th>9</th>\n",
       "      <td>IAH</td>\n",
       "      <td>80.117228</td>\n",
       "      <td>1.297606</td>\n",
       "    </tr>\n",
       "    <tr>\n",
       "      <th>10</th>\n",
       "      <td>SEA</td>\n",
       "      <td>79.864650</td>\n",
       "      <td>0.767536</td>\n",
       "    </tr>\n",
       "    <tr>\n",
       "      <th>11</th>\n",
       "      <td>SAN</td>\n",
       "      <td>79.843903</td>\n",
       "      <td>1.016887</td>\n",
       "    </tr>\n",
       "    <tr>\n",
       "      <th>12</th>\n",
       "      <td>LAS</td>\n",
       "      <td>79.829954</td>\n",
       "      <td>0.750194</td>\n",
       "    </tr>\n",
       "    <tr>\n",
       "      <th>13</th>\n",
       "      <td>LAX</td>\n",
       "      <td>79.438252</td>\n",
       "      <td>1.226470</td>\n",
       "    </tr>\n",
       "    <tr>\n",
       "      <th>14</th>\n",
       "      <td>TPA</td>\n",
       "      <td>79.395485</td>\n",
       "      <td>0.811010</td>\n",
       "    </tr>\n",
       "    <tr>\n",
       "      <th>15</th>\n",
       "      <td>DFW</td>\n",
       "      <td>79.273431</td>\n",
       "      <td>2.222266</td>\n",
       "    </tr>\n",
       "    <tr>\n",
       "      <th>16</th>\n",
       "      <td>MCO</td>\n",
       "      <td>79.269231</td>\n",
       "      <td>0.862085</td>\n",
       "    </tr>\n",
       "    <tr>\n",
       "      <th>17</th>\n",
       "      <td>DCA</td>\n",
       "      <td>78.215908</td>\n",
       "      <td>2.824172</td>\n",
       "    </tr>\n",
       "    <tr>\n",
       "      <th>18</th>\n",
       "      <td>IAD</td>\n",
       "      <td>77.831825</td>\n",
       "      <td>2.527856</td>\n",
       "    </tr>\n",
       "    <tr>\n",
       "      <th>19</th>\n",
       "      <td>MIA</td>\n",
       "      <td>77.471847</td>\n",
       "      <td>1.340259</td>\n",
       "    </tr>\n",
       "    <tr>\n",
       "      <th>20</th>\n",
       "      <td>ATL</td>\n",
       "      <td>77.428060</td>\n",
       "      <td>1.692101</td>\n",
       "    </tr>\n",
       "    <tr>\n",
       "      <th>21</th>\n",
       "      <td>FLL</td>\n",
       "      <td>76.441586</td>\n",
       "      <td>1.043818</td>\n",
       "    </tr>\n",
       "    <tr>\n",
       "      <th>22</th>\n",
       "      <td>BOS</td>\n",
       "      <td>75.532137</td>\n",
       "      <td>2.590776</td>\n",
       "    </tr>\n",
       "    <tr>\n",
       "      <th>23</th>\n",
       "      <td>PHL</td>\n",
       "      <td>74.255274</td>\n",
       "      <td>2.019215</td>\n",
       "    </tr>\n",
       "    <tr>\n",
       "      <th>24</th>\n",
       "      <td>JFK</td>\n",
       "      <td>73.085389</td>\n",
       "      <td>2.262959</td>\n",
       "    </tr>\n",
       "    <tr>\n",
       "      <th>25</th>\n",
       "      <td>ORD</td>\n",
       "      <td>72.940239</td>\n",
       "      <td>3.430880</td>\n",
       "    </tr>\n",
       "    <tr>\n",
       "      <th>26</th>\n",
       "      <td>SFO</td>\n",
       "      <td>72.362900</td>\n",
       "      <td>1.934795</td>\n",
       "    </tr>\n",
       "    <tr>\n",
       "      <th>27</th>\n",
       "      <td>LGA</td>\n",
       "      <td>69.188548</td>\n",
       "      <td>4.069188</td>\n",
       "    </tr>\n",
       "    <tr>\n",
       "      <th>28</th>\n",
       "      <td>EWR</td>\n",
       "      <td>67.234482</td>\n",
       "      <td>3.285136</td>\n",
       "    </tr>\n",
       "  </tbody>\n",
       "</table>\n",
       "</div>"
      ],
      "text/plain": [
       "   airport_code  on_time_percentage  cancelled_flights_percentage\n",
       "0           SLC           84.249328                      0.981987\n",
       "1           PHX           82.423895                      1.049561\n",
       "2           PDX           80.759415                      0.789006\n",
       "3           MSP           80.342827                      1.408576\n",
       "4           MDW           80.317165                      1.303054\n",
       "5           CLT           80.310017                      1.540100\n",
       "6           BWI           80.268309                      1.317164\n",
       "7           DEN           80.236443                      1.295516\n",
       "8           DTW           80.182134                      1.731980\n",
       "9           IAH           80.117228                      1.297606\n",
       "10          SEA           79.864650                      0.767536\n",
       "11          SAN           79.843903                      1.016887\n",
       "12          LAS           79.829954                      0.750194\n",
       "13          LAX           79.438252                      1.226470\n",
       "14          TPA           79.395485                      0.811010\n",
       "15          DFW           79.273431                      2.222266\n",
       "16          MCO           79.269231                      0.862085\n",
       "17          DCA           78.215908                      2.824172\n",
       "18          IAD           77.831825                      2.527856\n",
       "19          MIA           77.471847                      1.340259\n",
       "20          ATL           77.428060                      1.692101\n",
       "21          FLL           76.441586                      1.043818\n",
       "22          BOS           75.532137                      2.590776\n",
       "23          PHL           74.255274                      2.019215\n",
       "24          JFK           73.085389                      2.262959\n",
       "25          ORD           72.940239                      3.430880\n",
       "26          SFO           72.362900                      1.934795\n",
       "27          LGA           69.188548                      4.069188\n",
       "28          EWR           67.234482                      3.285136"
      ]
     },
     "execution_count": 17,
     "metadata": {},
     "output_type": "execute_result"
    }
   ],
   "source": [
    "query3= \"\"\"SELECT s.Airport_code,  (SUM(s.Flights_On_Time) * 100.0 / SUM(s.Flights_Total)) AS On_Time_Percentage, (SUM(s.Flights_Cancelled) * 100.0 /SUM(s.Flights_Total)) AS Cancelled_flights_Percentage\n",
    "FROM statistics s\n",
    "GROUP BY Airport_code\n",
    "ORDER BY on_time_percentage DESC\n",
    "\"\"\"\n",
    "compare_flights_df =pd.read_sql(query3,conn)\n",
    "compare_flights_df"
   ]
  },
  {
   "cell_type": "code",
   "execution_count": 18,
   "id": "fabc8ff2",
   "metadata": {},
   "outputs": [
    {
     "data": {
      "application/vnd.plotly.v1+json": {
       "config": {
        "plotlyServerURL": "https://plot.ly"
       },
       "data": [
        {
         "name": "On Time Percentage",
         "type": "bar",
         "x": [
          "SLC",
          "PHX",
          "PDX",
          "MSP",
          "MDW",
          "CLT",
          "BWI",
          "DEN",
          "DTW",
          "IAH",
          "SEA",
          "SAN",
          "LAS",
          "LAX",
          "TPA",
          "DFW",
          "MCO",
          "DCA",
          "IAD",
          "MIA",
          "ATL",
          "FLL",
          "BOS",
          "PHL",
          "JFK",
          "ORD",
          "SFO",
          "LGA",
          "EWR"
         ],
         "y": [
          84.24932782098355,
          82.42389540492248,
          80.75941510169321,
          80.34282681957463,
          80.31716500007921,
          80.31001710430253,
          80.26830945505843,
          80.2364426289097,
          80.18213374052172,
          80.11722800620412,
          79.86465026616753,
          79.84390297324524,
          79.8299539733038,
          79.4382521837651,
          79.39548532332037,
          79.27343063938885,
          79.2692309736677,
          78.215908259096,
          77.83182526824199,
          77.4718465133484,
          77.42806029090639,
          76.44158617996716,
          75.53213737040086,
          74.25527351802839,
          73.0853885912711,
          72.94023883561107,
          72.36290015599863,
          69.18854849959196,
          67.23448195360224
         ]
        },
        {
         "name": "Cancelled Flights Percentage",
         "type": "bar",
         "x": [
          "SLC",
          "PHX",
          "PDX",
          "MSP",
          "MDW",
          "CLT",
          "BWI",
          "DEN",
          "DTW",
          "IAH",
          "SEA",
          "SAN",
          "LAS",
          "LAX",
          "TPA",
          "DFW",
          "MCO",
          "DCA",
          "IAD",
          "MIA",
          "ATL",
          "FLL",
          "BOS",
          "PHL",
          "JFK",
          "ORD",
          "SFO",
          "LGA",
          "EWR"
         ],
         "y": [
          0.9819872631995291,
          1.0495607182923068,
          0.7890064523579254,
          1.4085761367523888,
          1.3030537186227726,
          1.540100447253521,
          1.3171638978328792,
          1.295515783035905,
          1.7319800307709248,
          1.2976055028956308,
          0.7675356453848842,
          1.016887066151945,
          0.7501941205162973,
          1.2264696886366673,
          0.8110098316283884,
          2.222265615223683,
          0.8620850032423698,
          2.824171823115658,
          2.5278558982667443,
          1.340259066836383,
          1.69210073512996,
          1.043818009888926,
          2.590776374950734,
          2.019215422878955,
          2.2629588385003654,
          3.430880442038298,
          1.9347946270625418,
          4.069187913152255,
          3.2851357782293906
         ]
        }
       ],
       "layout": {
        "barmode": "group",
        "template": {
         "data": {
          "bar": [
           {
            "error_x": {
             "color": "#2a3f5f"
            },
            "error_y": {
             "color": "#2a3f5f"
            },
            "marker": {
             "line": {
              "color": "#E5ECF6",
              "width": 0.5
             },
             "pattern": {
              "fillmode": "overlay",
              "size": 10,
              "solidity": 0.2
             }
            },
            "type": "bar"
           }
          ],
          "barpolar": [
           {
            "marker": {
             "line": {
              "color": "#E5ECF6",
              "width": 0.5
             },
             "pattern": {
              "fillmode": "overlay",
              "size": 10,
              "solidity": 0.2
             }
            },
            "type": "barpolar"
           }
          ],
          "carpet": [
           {
            "aaxis": {
             "endlinecolor": "#2a3f5f",
             "gridcolor": "white",
             "linecolor": "white",
             "minorgridcolor": "white",
             "startlinecolor": "#2a3f5f"
            },
            "baxis": {
             "endlinecolor": "#2a3f5f",
             "gridcolor": "white",
             "linecolor": "white",
             "minorgridcolor": "white",
             "startlinecolor": "#2a3f5f"
            },
            "type": "carpet"
           }
          ],
          "choropleth": [
           {
            "colorbar": {
             "outlinewidth": 0,
             "ticks": ""
            },
            "type": "choropleth"
           }
          ],
          "contour": [
           {
            "colorbar": {
             "outlinewidth": 0,
             "ticks": ""
            },
            "colorscale": [
             [
              0,
              "#0d0887"
             ],
             [
              0.1111111111111111,
              "#46039f"
             ],
             [
              0.2222222222222222,
              "#7201a8"
             ],
             [
              0.3333333333333333,
              "#9c179e"
             ],
             [
              0.4444444444444444,
              "#bd3786"
             ],
             [
              0.5555555555555556,
              "#d8576b"
             ],
             [
              0.6666666666666666,
              "#ed7953"
             ],
             [
              0.7777777777777778,
              "#fb9f3a"
             ],
             [
              0.8888888888888888,
              "#fdca26"
             ],
             [
              1,
              "#f0f921"
             ]
            ],
            "type": "contour"
           }
          ],
          "contourcarpet": [
           {
            "colorbar": {
             "outlinewidth": 0,
             "ticks": ""
            },
            "type": "contourcarpet"
           }
          ],
          "heatmap": [
           {
            "colorbar": {
             "outlinewidth": 0,
             "ticks": ""
            },
            "colorscale": [
             [
              0,
              "#0d0887"
             ],
             [
              0.1111111111111111,
              "#46039f"
             ],
             [
              0.2222222222222222,
              "#7201a8"
             ],
             [
              0.3333333333333333,
              "#9c179e"
             ],
             [
              0.4444444444444444,
              "#bd3786"
             ],
             [
              0.5555555555555556,
              "#d8576b"
             ],
             [
              0.6666666666666666,
              "#ed7953"
             ],
             [
              0.7777777777777778,
              "#fb9f3a"
             ],
             [
              0.8888888888888888,
              "#fdca26"
             ],
             [
              1,
              "#f0f921"
             ]
            ],
            "type": "heatmap"
           }
          ],
          "heatmapgl": [
           {
            "colorbar": {
             "outlinewidth": 0,
             "ticks": ""
            },
            "colorscale": [
             [
              0,
              "#0d0887"
             ],
             [
              0.1111111111111111,
              "#46039f"
             ],
             [
              0.2222222222222222,
              "#7201a8"
             ],
             [
              0.3333333333333333,
              "#9c179e"
             ],
             [
              0.4444444444444444,
              "#bd3786"
             ],
             [
              0.5555555555555556,
              "#d8576b"
             ],
             [
              0.6666666666666666,
              "#ed7953"
             ],
             [
              0.7777777777777778,
              "#fb9f3a"
             ],
             [
              0.8888888888888888,
              "#fdca26"
             ],
             [
              1,
              "#f0f921"
             ]
            ],
            "type": "heatmapgl"
           }
          ],
          "histogram": [
           {
            "marker": {
             "pattern": {
              "fillmode": "overlay",
              "size": 10,
              "solidity": 0.2
             }
            },
            "type": "histogram"
           }
          ],
          "histogram2d": [
           {
            "colorbar": {
             "outlinewidth": 0,
             "ticks": ""
            },
            "colorscale": [
             [
              0,
              "#0d0887"
             ],
             [
              0.1111111111111111,
              "#46039f"
             ],
             [
              0.2222222222222222,
              "#7201a8"
             ],
             [
              0.3333333333333333,
              "#9c179e"
             ],
             [
              0.4444444444444444,
              "#bd3786"
             ],
             [
              0.5555555555555556,
              "#d8576b"
             ],
             [
              0.6666666666666666,
              "#ed7953"
             ],
             [
              0.7777777777777778,
              "#fb9f3a"
             ],
             [
              0.8888888888888888,
              "#fdca26"
             ],
             [
              1,
              "#f0f921"
             ]
            ],
            "type": "histogram2d"
           }
          ],
          "histogram2dcontour": [
           {
            "colorbar": {
             "outlinewidth": 0,
             "ticks": ""
            },
            "colorscale": [
             [
              0,
              "#0d0887"
             ],
             [
              0.1111111111111111,
              "#46039f"
             ],
             [
              0.2222222222222222,
              "#7201a8"
             ],
             [
              0.3333333333333333,
              "#9c179e"
             ],
             [
              0.4444444444444444,
              "#bd3786"
             ],
             [
              0.5555555555555556,
              "#d8576b"
             ],
             [
              0.6666666666666666,
              "#ed7953"
             ],
             [
              0.7777777777777778,
              "#fb9f3a"
             ],
             [
              0.8888888888888888,
              "#fdca26"
             ],
             [
              1,
              "#f0f921"
             ]
            ],
            "type": "histogram2dcontour"
           }
          ],
          "mesh3d": [
           {
            "colorbar": {
             "outlinewidth": 0,
             "ticks": ""
            },
            "type": "mesh3d"
           }
          ],
          "parcoords": [
           {
            "line": {
             "colorbar": {
              "outlinewidth": 0,
              "ticks": ""
             }
            },
            "type": "parcoords"
           }
          ],
          "pie": [
           {
            "automargin": true,
            "type": "pie"
           }
          ],
          "scatter": [
           {
            "fillpattern": {
             "fillmode": "overlay",
             "size": 10,
             "solidity": 0.2
            },
            "type": "scatter"
           }
          ],
          "scatter3d": [
           {
            "line": {
             "colorbar": {
              "outlinewidth": 0,
              "ticks": ""
             }
            },
            "marker": {
             "colorbar": {
              "outlinewidth": 0,
              "ticks": ""
             }
            },
            "type": "scatter3d"
           }
          ],
          "scattercarpet": [
           {
            "marker": {
             "colorbar": {
              "outlinewidth": 0,
              "ticks": ""
             }
            },
            "type": "scattercarpet"
           }
          ],
          "scattergeo": [
           {
            "marker": {
             "colorbar": {
              "outlinewidth": 0,
              "ticks": ""
             }
            },
            "type": "scattergeo"
           }
          ],
          "scattergl": [
           {
            "marker": {
             "colorbar": {
              "outlinewidth": 0,
              "ticks": ""
             }
            },
            "type": "scattergl"
           }
          ],
          "scattermapbox": [
           {
            "marker": {
             "colorbar": {
              "outlinewidth": 0,
              "ticks": ""
             }
            },
            "type": "scattermapbox"
           }
          ],
          "scatterpolar": [
           {
            "marker": {
             "colorbar": {
              "outlinewidth": 0,
              "ticks": ""
             }
            },
            "type": "scatterpolar"
           }
          ],
          "scatterpolargl": [
           {
            "marker": {
             "colorbar": {
              "outlinewidth": 0,
              "ticks": ""
             }
            },
            "type": "scatterpolargl"
           }
          ],
          "scatterternary": [
           {
            "marker": {
             "colorbar": {
              "outlinewidth": 0,
              "ticks": ""
             }
            },
            "type": "scatterternary"
           }
          ],
          "surface": [
           {
            "colorbar": {
             "outlinewidth": 0,
             "ticks": ""
            },
            "colorscale": [
             [
              0,
              "#0d0887"
             ],
             [
              0.1111111111111111,
              "#46039f"
             ],
             [
              0.2222222222222222,
              "#7201a8"
             ],
             [
              0.3333333333333333,
              "#9c179e"
             ],
             [
              0.4444444444444444,
              "#bd3786"
             ],
             [
              0.5555555555555556,
              "#d8576b"
             ],
             [
              0.6666666666666666,
              "#ed7953"
             ],
             [
              0.7777777777777778,
              "#fb9f3a"
             ],
             [
              0.8888888888888888,
              "#fdca26"
             ],
             [
              1,
              "#f0f921"
             ]
            ],
            "type": "surface"
           }
          ],
          "table": [
           {
            "cells": {
             "fill": {
              "color": "#EBF0F8"
             },
             "line": {
              "color": "white"
             }
            },
            "header": {
             "fill": {
              "color": "#C8D4E3"
             },
             "line": {
              "color": "white"
             }
            },
            "type": "table"
           }
          ]
         },
         "layout": {
          "annotationdefaults": {
           "arrowcolor": "#2a3f5f",
           "arrowhead": 0,
           "arrowwidth": 1
          },
          "autotypenumbers": "strict",
          "coloraxis": {
           "colorbar": {
            "outlinewidth": 0,
            "ticks": ""
           }
          },
          "colorscale": {
           "diverging": [
            [
             0,
             "#8e0152"
            ],
            [
             0.1,
             "#c51b7d"
            ],
            [
             0.2,
             "#de77ae"
            ],
            [
             0.3,
             "#f1b6da"
            ],
            [
             0.4,
             "#fde0ef"
            ],
            [
             0.5,
             "#f7f7f7"
            ],
            [
             0.6,
             "#e6f5d0"
            ],
            [
             0.7,
             "#b8e186"
            ],
            [
             0.8,
             "#7fbc41"
            ],
            [
             0.9,
             "#4d9221"
            ],
            [
             1,
             "#276419"
            ]
           ],
           "sequential": [
            [
             0,
             "#0d0887"
            ],
            [
             0.1111111111111111,
             "#46039f"
            ],
            [
             0.2222222222222222,
             "#7201a8"
            ],
            [
             0.3333333333333333,
             "#9c179e"
            ],
            [
             0.4444444444444444,
             "#bd3786"
            ],
            [
             0.5555555555555556,
             "#d8576b"
            ],
            [
             0.6666666666666666,
             "#ed7953"
            ],
            [
             0.7777777777777778,
             "#fb9f3a"
            ],
            [
             0.8888888888888888,
             "#fdca26"
            ],
            [
             1,
             "#f0f921"
            ]
           ],
           "sequentialminus": [
            [
             0,
             "#0d0887"
            ],
            [
             0.1111111111111111,
             "#46039f"
            ],
            [
             0.2222222222222222,
             "#7201a8"
            ],
            [
             0.3333333333333333,
             "#9c179e"
            ],
            [
             0.4444444444444444,
             "#bd3786"
            ],
            [
             0.5555555555555556,
             "#d8576b"
            ],
            [
             0.6666666666666666,
             "#ed7953"
            ],
            [
             0.7777777777777778,
             "#fb9f3a"
            ],
            [
             0.8888888888888888,
             "#fdca26"
            ],
            [
             1,
             "#f0f921"
            ]
           ]
          },
          "colorway": [
           "#636efa",
           "#EF553B",
           "#00cc96",
           "#ab63fa",
           "#FFA15A",
           "#19d3f3",
           "#FF6692",
           "#B6E880",
           "#FF97FF",
           "#FECB52"
          ],
          "font": {
           "color": "#2a3f5f"
          },
          "geo": {
           "bgcolor": "white",
           "lakecolor": "white",
           "landcolor": "#E5ECF6",
           "showlakes": true,
           "showland": true,
           "subunitcolor": "white"
          },
          "hoverlabel": {
           "align": "left"
          },
          "hovermode": "closest",
          "mapbox": {
           "style": "light"
          },
          "paper_bgcolor": "white",
          "plot_bgcolor": "#E5ECF6",
          "polar": {
           "angularaxis": {
            "gridcolor": "white",
            "linecolor": "white",
            "ticks": ""
           },
           "bgcolor": "#E5ECF6",
           "radialaxis": {
            "gridcolor": "white",
            "linecolor": "white",
            "ticks": ""
           }
          },
          "scene": {
           "xaxis": {
            "backgroundcolor": "#E5ECF6",
            "gridcolor": "white",
            "gridwidth": 2,
            "linecolor": "white",
            "showbackground": true,
            "ticks": "",
            "zerolinecolor": "white"
           },
           "yaxis": {
            "backgroundcolor": "#E5ECF6",
            "gridcolor": "white",
            "gridwidth": 2,
            "linecolor": "white",
            "showbackground": true,
            "ticks": "",
            "zerolinecolor": "white"
           },
           "zaxis": {
            "backgroundcolor": "#E5ECF6",
            "gridcolor": "white",
            "gridwidth": 2,
            "linecolor": "white",
            "showbackground": true,
            "ticks": "",
            "zerolinecolor": "white"
           }
          },
          "shapedefaults": {
           "line": {
            "color": "#2a3f5f"
           }
          },
          "ternary": {
           "aaxis": {
            "gridcolor": "white",
            "linecolor": "white",
            "ticks": ""
           },
           "baxis": {
            "gridcolor": "white",
            "linecolor": "white",
            "ticks": ""
           },
           "bgcolor": "#E5ECF6",
           "caxis": {
            "gridcolor": "white",
            "linecolor": "white",
            "ticks": ""
           }
          },
          "title": {
           "x": 0.05
          },
          "xaxis": {
           "automargin": true,
           "gridcolor": "white",
           "linecolor": "white",
           "ticks": "",
           "title": {
            "standoff": 15
           },
           "zerolinecolor": "white",
           "zerolinewidth": 2
          },
          "yaxis": {
           "automargin": true,
           "gridcolor": "white",
           "linecolor": "white",
           "ticks": "",
           "title": {
            "standoff": 15
           },
           "zerolinecolor": "white",
           "zerolinewidth": 2
          }
         }
        },
        "title": {
         "text": "On-Time Percentage vs Cancelled Flights Percentage by Airport"
        },
        "xaxis": {
         "title": {
          "text": "Airport Code"
         }
        },
        "yaxis": {
         "title": {
          "text": "Percentage"
         }
        }
       }
      }
     },
     "metadata": {},
     "output_type": "display_data"
    }
   ],
   "source": [
    "#Columns to plot from on\n",
    "airport_codes = compare_flights_df['airport_code']\n",
    "on_time_percentage = compare_flights_df['on_time_percentage']\n",
    "cancelled_flights_percentage = compare_flights_df['cancelled_flights_percentage']\n",
    "\n",
    "# Create the stacked bar chart\n",
    "fig = go.Figure(data=[\n",
    "    go.Bar(name='On Time Percentage', x=airport_codes, y=on_time_percentage),\n",
    "    go.Bar(name='Cancelled Flights Percentage', x=airport_codes, y=cancelled_flights_percentage)\n",
    "])\n",
    "\n",
    "# Update layout\n",
    "fig.update_layout(barmode='group', title='On-Time Percentage vs Cancelled Flights Percentage by Airport', xaxis_title='Airport Code', yaxis_title='Percentage')\n",
    "\n",
    "# Show the plot\n",
    "fig.show()"
   ]
  },
  {
   "cell_type": "markdown",
   "id": "e45e954e",
   "metadata": {},
   "source": [
    "##### Insights:\n",
    "- Salt Lake City International Airport (SLC) has the highest on-time percentage among the airports listed, with over 84% of its flights arriving on time.\n",
    "- The top airports in terms of on-time performance also tend to have relatively low percentages of cancelled flights, with most airports having less than 2% of flights cancelled.\n",
    "- Airports with higher percentages of cancelled flights, such as LaGuardia Airport (LGA) and Newark Liberty International Airport (EWR), may need to focus on reducing cancellations to enhance passenger satisfaction and operational efficiency."
   ]
  },
  {
   "cell_type": "markdown",
   "id": "2e7b5172",
   "metadata": {},
   "source": [
    "##### Query 4: Peak periods of flight operations\n",
    "This query helps in analyzing the monthly trends of flight operations. By aggregating the total number of flight operations for each month, it provides insights into the busiest and least busy periods throughout the year.\n",
    "- The query retrieves the total number of flight operations for each month by joining the \"Statistics\" table with the \"Time\" table using the time label.\n",
    "- It calculates the sum of total flight operations for each month and groups the results by month, and the result is sorted based on the total flight operations,showing the months with the highest number of flight operations at the top.\n"
   ]
  },
  {
   "cell_type": "code",
   "execution_count": 19,
   "id": "6dce0051",
   "metadata": {},
   "outputs": [
    {
     "data": {
      "text/html": [
       "<div>\n",
       "<style scoped>\n",
       "    .dataframe tbody tr th:only-of-type {\n",
       "        vertical-align: middle;\n",
       "    }\n",
       "\n",
       "    .dataframe tbody tr th {\n",
       "        vertical-align: top;\n",
       "    }\n",
       "\n",
       "    .dataframe thead th {\n",
       "        text-align: right;\n",
       "    }\n",
       "</style>\n",
       "<table border=\"1\" class=\"dataframe\">\n",
       "  <thead>\n",
       "    <tr style=\"text-align: right;\">\n",
       "      <th></th>\n",
       "      <th>month</th>\n",
       "      <th>total_flight_operations</th>\n",
       "    </tr>\n",
       "  </thead>\n",
       "  <tbody>\n",
       "    <tr>\n",
       "      <th>0</th>\n",
       "      <td>7</td>\n",
       "      <td>52302382</td>\n",
       "    </tr>\n",
       "    <tr>\n",
       "      <th>1</th>\n",
       "      <td>8</td>\n",
       "      <td>51989817</td>\n",
       "    </tr>\n",
       "    <tr>\n",
       "      <th>2</th>\n",
       "      <td>6</td>\n",
       "      <td>50471267</td>\n",
       "    </tr>\n",
       "    <tr>\n",
       "      <th>3</th>\n",
       "      <td>10</td>\n",
       "      <td>49764418</td>\n",
       "    </tr>\n",
       "    <tr>\n",
       "      <th>4</th>\n",
       "      <td>12</td>\n",
       "      <td>48863870</td>\n",
       "    </tr>\n",
       "    <tr>\n",
       "      <th>5</th>\n",
       "      <td>1</td>\n",
       "      <td>47999105</td>\n",
       "    </tr>\n",
       "    <tr>\n",
       "      <th>6</th>\n",
       "      <td>9</td>\n",
       "      <td>47698266</td>\n",
       "    </tr>\n",
       "    <tr>\n",
       "      <th>7</th>\n",
       "      <td>11</td>\n",
       "      <td>47379662</td>\n",
       "    </tr>\n",
       "    <tr>\n",
       "      <th>8</th>\n",
       "      <td>3</td>\n",
       "      <td>47029818</td>\n",
       "    </tr>\n",
       "    <tr>\n",
       "      <th>9</th>\n",
       "      <td>5</td>\n",
       "      <td>46618506</td>\n",
       "    </tr>\n",
       "    <tr>\n",
       "      <th>10</th>\n",
       "      <td>4</td>\n",
       "      <td>45409023</td>\n",
       "    </tr>\n",
       "    <tr>\n",
       "      <th>11</th>\n",
       "      <td>2</td>\n",
       "      <td>41377314</td>\n",
       "    </tr>\n",
       "  </tbody>\n",
       "</table>\n",
       "</div>"
      ],
      "text/plain": [
       "    month  total_flight_operations\n",
       "0       7                 52302382\n",
       "1       8                 51989817\n",
       "2       6                 50471267\n",
       "3      10                 49764418\n",
       "4      12                 48863870\n",
       "5       1                 47999105\n",
       "6       9                 47698266\n",
       "7      11                 47379662\n",
       "8       3                 47029818\n",
       "9       5                 46618506\n",
       "10      4                 45409023\n",
       "11      2                 41377314"
      ]
     },
     "execution_count": 19,
     "metadata": {},
     "output_type": "execute_result"
    }
   ],
   "source": [
    "query4 = \"\"\"SELECT t.month, SUM(Flights_total) AS Total_Flight_operations\n",
    "FROM Statistics s\n",
    "JOIN Time t on t.label = s.time_label\n",
    "GROUP BY t.month\n",
    "ORDER BY Total_Flight_operations DESC;\n",
    "\"\"\"\n",
    "flights_df= pd.read_sql(query4, conn)\n",
    "flights_df"
   ]
  },
  {
   "cell_type": "markdown",
   "id": "da346b02",
   "metadata": {},
   "source": [
    "##### Insights:\n",
    "- The data reveals a pattern in total flight operations across different months. July emerges as the busiest month, closely trailed by August and June, suggesting a peak in travel demand during summer. In contrast, February experiences the lowest flight activity, with April and May also showing comparatively subdued operations.\n",
    "- This analysis is useful for identifying peak travel seasons and sheds light on the seasonal fluctuations in flight activities that could be helpful to optimize airline schedules and resource management.\n"
   ]
  },
  {
   "cell_type": "markdown",
   "id": "45e5ef99",
   "metadata": {},
   "source": [
    "##### Query 5: Most common reasons for flight delays\n",
    "- Flight delays attributed to five distinct reasons are recorded in the Statistics table as individual fields. These reasons were initially embedded within a nested object in the JSON dataset.\n",
    "- The first query, total_delays, calculates the total number of delays by summing up delays across different categories such as Carrier, Late Aircraft, National Aviation System, Security, and Weather. This sum represents the overall delays in the dataset.\n",
    "- The second query, query5, computes the percentage of total delays attributed to each delay reason. \n",
    "- This is done by dividing the sum of delays for each reason by the total number of delays obtained from the first query. \n",
    "- In this case, each SELECT query retrieves the total delays for a specific reason. By using UNION ALL, the results from each SELECT query are concatenated together, allowing us to calculate the overall percentage of delays for each reason. The query then groups the results by delay reason specified and orders them in descending order based on the percentage of total delays."
   ]
  },
  {
   "cell_type": "code",
   "execution_count": 20,
   "id": "32338780",
   "metadata": {},
   "outputs": [
    {
     "data": {
      "text/html": [
       "<div>\n",
       "<style scoped>\n",
       "    .dataframe tbody tr th:only-of-type {\n",
       "        vertical-align: middle;\n",
       "    }\n",
       "\n",
       "    .dataframe tbody tr th {\n",
       "        vertical-align: top;\n",
       "    }\n",
       "\n",
       "    .dataframe thead th {\n",
       "        text-align: right;\n",
       "    }\n",
       "</style>\n",
       "<table border=\"1\" class=\"dataframe\">\n",
       "  <thead>\n",
       "    <tr style=\"text-align: right;\">\n",
       "      <th></th>\n",
       "      <th>delay_reason</th>\n",
       "      <th>percentage_total_delays</th>\n",
       "    </tr>\n",
       "  </thead>\n",
       "  <tbody>\n",
       "    <tr>\n",
       "      <th>0</th>\n",
       "      <td>National Aviation System</td>\n",
       "      <td>39.74</td>\n",
       "    </tr>\n",
       "    <tr>\n",
       "      <th>1</th>\n",
       "      <td>Late Aircraft</td>\n",
       "      <td>32.85</td>\n",
       "    </tr>\n",
       "    <tr>\n",
       "      <th>2</th>\n",
       "      <td>Carrier</td>\n",
       "      <td>23.92</td>\n",
       "    </tr>\n",
       "    <tr>\n",
       "      <th>3</th>\n",
       "      <td>Weather</td>\n",
       "      <td>3.26</td>\n",
       "    </tr>\n",
       "    <tr>\n",
       "      <th>4</th>\n",
       "      <td>Security</td>\n",
       "      <td>0.23</td>\n",
       "    </tr>\n",
       "  </tbody>\n",
       "</table>\n",
       "</div>"
      ],
      "text/plain": [
       "               delay_reason  percentage_total_delays\n",
       "0  National Aviation System                    39.74\n",
       "1             Late Aircraft                    32.85\n",
       "2                   Carrier                    23.92\n",
       "3                   Weather                     3.26\n",
       "4                  Security                     0.23"
      ]
     },
     "execution_count": 20,
     "metadata": {},
     "output_type": "execute_result"
    }
   ],
   "source": [
    "total_delays=\"\"\"\n",
    "   SELECT SUM(Delays_Carrier + Delays_Late_Aircraft + Delays_National_Aviation_System + Delays_Security + Delays_Weather) AS Total_Delays\n",
    "FROM Statistics;\n",
    "\"\"\"\n",
    "cursor.execute(total_delays)\n",
    "total_num_delays= cursor.fetchall()[0][0]\n",
    "\n",
    "query5=\"\"\"\n",
    "SELECT \n",
    "    Delay_Reason,\n",
    "    ROUND(SUM(Total_Delays) * 100.0 / %s, 2) AS Percentage_Total_Delays\n",
    "FROM \n",
    "    (   SELECT 'Carrier' AS Delay_Reason, Delays_Carrier AS Total_Delays FROM Statistics\n",
    "        UNION ALL\n",
    "        SELECT 'Late Aircraft' AS Delay_Reason, Delays_Late_Aircraft AS Total_Delays FROM Statistics\n",
    "        UNION ALL\n",
    "        SELECT 'National Aviation System' AS Delay_Reason, Delays_National_Aviation_System AS Total_Delays FROM Statistics\n",
    "        UNION ALL\n",
    "        SELECT 'Security' AS Delay_Reason, Delays_Security AS Total_Delays FROM Statistics\n",
    "        UNION ALL\n",
    "        SELECT 'Weather' AS Delay_Reason, Delays_Weather AS Total_Delays FROM Statistics\n",
    "    ) AS subquery\n",
    "GROUP BY \n",
    "    Delay_Reason\n",
    "ORDER BY \n",
    "    Percentage_Total_Delays DESC;\n",
    "\"\"\"\n",
    "delay_percent_df=pd.read_sql(query5,(conn),params=[total_num_delays])\n",
    "delay_percent_df"
   ]
  },
  {
   "cell_type": "code",
   "execution_count": 32,
   "id": "4c51ed97",
   "metadata": {},
   "outputs": [
    {
     "data": {
      "image/png": "[encoded data removed]",
      "text/plain": [
       "<Figure size 800x500 with 1 Axes>"
      ]
     },
     "metadata": {},
     "output_type": "display_data"
    }
   ],
   "source": [
    "palette = sns.color_palette(\"pastel\")\n",
    "plt.figure(figsize=(8, 5))\n",
    "plt.bar(delay_percent_df[\"delay_reason\"],delay_percent_df[\"percentage_total_delays\"],color=palette)\n",
    "plt.title('Percentage of total Delays by reason')\n",
    "plt.xlabel('Delay Reason')\n",
    "plt.ylabel('Percentage of Total Delays')\n",
    "plt.xticks(rotation=90, ha='right')\n",
    "plt.show()"
   ]
  },
  {
   "cell_type": "markdown",
   "id": "a42bb1f1",
   "metadata": {},
   "source": [
    "##### Analysis:\n",
    "The analysis reveals that issues with the National Aviation System and late aircraft arrivals are the primary contributors to flight delays, followed by delays attributed to the carrier itself. Weather-related delays and security-related issues have a comparatively smaller impact on overall flight delays. "
   ]
  },
  {
   "cell_type": "markdown",
   "id": "192788a7",
   "metadata": {},
   "source": [
    "##### Query 6: Airports with highest total delays by time (in minutes) including all delay factors\n",
    "- The total minutes of delay experienced by each airport is determined by taking the summation of delay minutes attributed to various factors like carrier, late aircraft, national aviation system, security, and weather. \n",
    "- By grouping the results by airport code and ordering them from highest to lowest delay minutes, the query enables the identification of airports experiencing the most significant delays."
   ]
  },
  {
   "cell_type": "code",
   "execution_count": 22,
   "id": "f8111034",
   "metadata": {},
   "outputs": [
    {
     "data": {
      "text/html": [
       "<div>\n",
       "<style scoped>\n",
       "    .dataframe tbody tr th:only-of-type {\n",
       "        vertical-align: middle;\n",
       "    }\n",
       "\n",
       "    .dataframe tbody tr th {\n",
       "        vertical-align: top;\n",
       "    }\n",
       "\n",
       "    .dataframe thead th {\n",
       "        text-align: right;\n",
       "    }\n",
       "</style>\n",
       "<table border=\"1\" class=\"dataframe\">\n",
       "  <thead>\n",
       "    <tr style=\"text-align: right;\">\n",
       "      <th></th>\n",
       "      <th>airport_code</th>\n",
       "      <th>total_delayed_minutes</th>\n",
       "    </tr>\n",
       "  </thead>\n",
       "  <tbody>\n",
       "    <tr>\n",
       "      <th>0</th>\n",
       "      <td>ATL</td>\n",
       "      <td>11576917</td>\n",
       "    </tr>\n",
       "    <tr>\n",
       "      <th>1</th>\n",
       "      <td>ORD</td>\n",
       "      <td>10834626</td>\n",
       "    </tr>\n",
       "    <tr>\n",
       "      <th>2</th>\n",
       "      <td>DFW</td>\n",
       "      <td>7233897</td>\n",
       "    </tr>\n",
       "    <tr>\n",
       "      <th>3</th>\n",
       "      <td>LAX</td>\n",
       "      <td>5887893</td>\n",
       "    </tr>\n",
       "    <tr>\n",
       "      <th>4</th>\n",
       "      <td>DEN</td>\n",
       "      <td>5568618</td>\n",
       "    </tr>\n",
       "    <tr>\n",
       "      <th>5</th>\n",
       "      <td>EWR</td>\n",
       "      <td>5352600</td>\n",
       "    </tr>\n",
       "    <tr>\n",
       "      <th>6</th>\n",
       "      <td>SFO</td>\n",
       "      <td>5186016</td>\n",
       "    </tr>\n",
       "    <tr>\n",
       "      <th>7</th>\n",
       "      <td>IAH</td>\n",
       "      <td>4758743</td>\n",
       "    </tr>\n",
       "    <tr>\n",
       "      <th>8</th>\n",
       "      <td>LAS</td>\n",
       "      <td>4190021</td>\n",
       "    </tr>\n",
       "    <tr>\n",
       "      <th>9</th>\n",
       "      <td>PHX</td>\n",
       "      <td>4177789</td>\n",
       "    </tr>\n",
       "    <tr>\n",
       "      <th>10</th>\n",
       "      <td>LGA</td>\n",
       "      <td>4094596</td>\n",
       "    </tr>\n",
       "    <tr>\n",
       "      <th>11</th>\n",
       "      <td>JFK</td>\n",
       "      <td>3572921</td>\n",
       "    </tr>\n",
       "    <tr>\n",
       "      <th>12</th>\n",
       "      <td>BOS</td>\n",
       "      <td>3570501</td>\n",
       "    </tr>\n",
       "    <tr>\n",
       "      <th>13</th>\n",
       "      <td>DTW</td>\n",
       "      <td>3403741</td>\n",
       "    </tr>\n",
       "    <tr>\n",
       "      <th>14</th>\n",
       "      <td>MCO</td>\n",
       "      <td>3261214</td>\n",
       "    </tr>\n",
       "    <tr>\n",
       "      <th>15</th>\n",
       "      <td>MSP</td>\n",
       "      <td>3234869</td>\n",
       "    </tr>\n",
       "    <tr>\n",
       "      <th>16</th>\n",
       "      <td>PHL</td>\n",
       "      <td>3101923</td>\n",
       "    </tr>\n",
       "    <tr>\n",
       "      <th>17</th>\n",
       "      <td>CLT</td>\n",
       "      <td>3053666</td>\n",
       "    </tr>\n",
       "    <tr>\n",
       "      <th>18</th>\n",
       "      <td>SEA</td>\n",
       "      <td>2849979</td>\n",
       "    </tr>\n",
       "    <tr>\n",
       "      <th>19</th>\n",
       "      <td>SLC</td>\n",
       "      <td>2621487</td>\n",
       "    </tr>\n",
       "    <tr>\n",
       "      <th>20</th>\n",
       "      <td>BWI</td>\n",
       "      <td>2603744</td>\n",
       "    </tr>\n",
       "    <tr>\n",
       "      <th>21</th>\n",
       "      <td>MDW</td>\n",
       "      <td>2245551</td>\n",
       "    </tr>\n",
       "    <tr>\n",
       "      <th>22</th>\n",
       "      <td>IAD</td>\n",
       "      <td>2239105</td>\n",
       "    </tr>\n",
       "    <tr>\n",
       "      <th>23</th>\n",
       "      <td>SAN</td>\n",
       "      <td>2197294</td>\n",
       "    </tr>\n",
       "    <tr>\n",
       "      <th>24</th>\n",
       "      <td>DCA</td>\n",
       "      <td>2163887</td>\n",
       "    </tr>\n",
       "    <tr>\n",
       "      <th>25</th>\n",
       "      <td>FLL</td>\n",
       "      <td>2085303</td>\n",
       "    </tr>\n",
       "    <tr>\n",
       "      <th>26</th>\n",
       "      <td>MIA</td>\n",
       "      <td>2058375</td>\n",
       "    </tr>\n",
       "    <tr>\n",
       "      <th>27</th>\n",
       "      <td>TPA</td>\n",
       "      <td>1949926</td>\n",
       "    </tr>\n",
       "    <tr>\n",
       "      <th>28</th>\n",
       "      <td>PDX</td>\n",
       "      <td>1397055</td>\n",
       "    </tr>\n",
       "  </tbody>\n",
       "</table>\n",
       "</div>"
      ],
      "text/plain": [
       "   airport_code  total_delayed_minutes\n",
       "0           ATL               11576917\n",
       "1           ORD               10834626\n",
       "2           DFW                7233897\n",
       "3           LAX                5887893\n",
       "4           DEN                5568618\n",
       "5           EWR                5352600\n",
       "6           SFO                5186016\n",
       "7           IAH                4758743\n",
       "8           LAS                4190021\n",
       "9           PHX                4177789\n",
       "10          LGA                4094596\n",
       "11          JFK                3572921\n",
       "12          BOS                3570501\n",
       "13          DTW                3403741\n",
       "14          MCO                3261214\n",
       "15          MSP                3234869\n",
       "16          PHL                3101923\n",
       "17          CLT                3053666\n",
       "18          SEA                2849979\n",
       "19          SLC                2621487\n",
       "20          BWI                2603744\n",
       "21          MDW                2245551\n",
       "22          IAD                2239105\n",
       "23          SAN                2197294\n",
       "24          DCA                2163887\n",
       "25          FLL                2085303\n",
       "26          MIA                2058375\n",
       "27          TPA                1949926\n",
       "28          PDX                1397055"
      ]
     },
     "execution_count": 22,
     "metadata": {},
     "output_type": "execute_result"
    }
   ],
   "source": [
    "query6 = \"\"\"SELECT Airport_Code, SUM(Delays_Carrier + Delays_Late_Aircraft + Delays_National_Aviation_System + Delays_Security + Delays_Weather) AS Total_Delayed_Minutes\n",
    "FROM Statistics\n",
    "GROUP BY Airport_Code\n",
    "ORDER BY Total_Delayed_Minutes DESC;\"\"\"\n",
    "time_delays_df=pd.read_sql(query6,conn)\n",
    "time_delays_df"
   ]
  },
  {
   "cell_type": "code",
   "execution_count": 23,
   "id": "7a7db24f",
   "metadata": {},
   "outputs": [
    {
     "data": {
      "text/plain": [
       "Text(0, 0.5, 'Total Flight delays')"
      ]
     },
     "execution_count": 23,
     "metadata": {},
     "output_type": "execute_result"
    },
    {
     "data": {
      "image/png": "[encoded data removed]",
      "text/plain": [
       "<Figure size 640x480 with 1 Axes>"
      ]
     },
     "metadata": {},
     "output_type": "display_data"
    }
   ],
   "source": [
    "# Bar plot showing Top 10 airports having highest overall delays\n",
    "time_delays_df=time_delays_df[:10]\n",
    "palette = sns.color_palette(\"pastel\")\n",
    "plt.bar(time_delays_df[\"airport_code\"],time_delays_df[\"total_delayed_minutes\"],color=palette)\n",
    "plt.title('Top 10 airports having highest delays overall (minutes)')\n",
    "plt.xlabel('Airport code')\n",
    "plt.ylabel('Total Flight delays')"
   ]
  },
  {
   "cell_type": "markdown",
   "id": "76af514b",
   "metadata": {},
   "source": [
    "##### Insights:\n",
    "Airports like ATL (Hartsfield-Jackson Atlanta International), ORD (Chicago O'Hare International), and DFW (Dallas/Fort Worth International) have the highest total delayed minutes, suggesting they may face significant challenges in managing flight delays. Conversely, airports like PDX (Portland International) have relatively lower total delayed minutes, indicating better efficiency in managing flight schedules and minimizing delays. "
   ]
  },
  {
   "cell_type": "markdown",
   "id": "dcb956a9",
   "metadata": {},
   "source": [
    "##### Query 7: Percentage variation on delays between Airports with highest and lowest no of delayed flight trend over the years\n",
    "- Based on the results obtained in Query 6, we see that ATL has the highest delays, while PDX the least. The following query, aims to compare the percentage variation in flight delays between these two airports over the years.\n",
    "- The query filters out to include only ATL and PDX flights, calculates delay percentages for each airport-year combination in a pivot table format with years as rows and airport codes as columns."
   ]
  },
  {
   "cell_type": "code",
   "execution_count": 24,
   "id": "f1614d95",
   "metadata": {},
   "outputs": [
    {
     "data": {
      "text/html": [
       "<div>\n",
       "<style scoped>\n",
       "    .dataframe tbody tr th:only-of-type {\n",
       "        vertical-align: middle;\n",
       "    }\n",
       "\n",
       "    .dataframe tbody tr th {\n",
       "        vertical-align: top;\n",
       "    }\n",
       "\n",
       "    .dataframe thead th {\n",
       "        text-align: right;\n",
       "    }\n",
       "</style>\n",
       "<table border=\"1\" class=\"dataframe\">\n",
       "  <thead>\n",
       "    <tr style=\"text-align: right;\">\n",
       "      <th>airport_code</th>\n",
       "      <th>ATL</th>\n",
       "      <th>PDX</th>\n",
       "    </tr>\n",
       "    <tr>\n",
       "      <th>year</th>\n",
       "      <th></th>\n",
       "      <th></th>\n",
       "    </tr>\n",
       "  </thead>\n",
       "  <tbody>\n",
       "    <tr>\n",
       "      <th>2003</th>\n",
       "      <td>19.514149</td>\n",
       "      <td>15.233061</td>\n",
       "    </tr>\n",
       "    <tr>\n",
       "      <th>2004</th>\n",
       "      <td>24.902815</td>\n",
       "      <td>18.550886</td>\n",
       "    </tr>\n",
       "    <tr>\n",
       "      <th>2005</th>\n",
       "      <td>24.511633</td>\n",
       "      <td>21.323184</td>\n",
       "    </tr>\n",
       "    <tr>\n",
       "      <th>2006</th>\n",
       "      <td>26.103120</td>\n",
       "      <td>21.839996</td>\n",
       "    </tr>\n",
       "    <tr>\n",
       "      <th>2007</th>\n",
       "      <td>23.425883</td>\n",
       "      <td>22.908210</td>\n",
       "    </tr>\n",
       "    <tr>\n",
       "      <th>2008</th>\n",
       "      <td>22.605851</td>\n",
       "      <td>20.996232</td>\n",
       "    </tr>\n",
       "    <tr>\n",
       "      <th>2009</th>\n",
       "      <td>25.629043</td>\n",
       "      <td>16.384883</td>\n",
       "    </tr>\n",
       "    <tr>\n",
       "      <th>2010</th>\n",
       "      <td>18.787205</td>\n",
       "      <td>15.568397</td>\n",
       "    </tr>\n",
       "    <tr>\n",
       "      <th>2011</th>\n",
       "      <td>17.605095</td>\n",
       "      <td>16.377711</td>\n",
       "    </tr>\n",
       "    <tr>\n",
       "      <th>2012</th>\n",
       "      <td>14.381826</td>\n",
       "      <td>14.755081</td>\n",
       "    </tr>\n",
       "    <tr>\n",
       "      <th>2013</th>\n",
       "      <td>18.123656</td>\n",
       "      <td>17.284549</td>\n",
       "    </tr>\n",
       "    <tr>\n",
       "      <th>2014</th>\n",
       "      <td>16.870988</td>\n",
       "      <td>19.535381</td>\n",
       "    </tr>\n",
       "    <tr>\n",
       "      <th>2015</th>\n",
       "      <td>14.539207</td>\n",
       "      <td>15.557578</td>\n",
       "    </tr>\n",
       "    <tr>\n",
       "      <th>2016</th>\n",
       "      <td>13.344945</td>\n",
       "      <td>12.647840</td>\n",
       "    </tr>\n",
       "  </tbody>\n",
       "</table>\n",
       "</div>"
      ],
      "text/plain": [
       "airport_code        ATL        PDX\n",
       "year                              \n",
       "2003          19.514149  15.233061\n",
       "2004          24.902815  18.550886\n",
       "2005          24.511633  21.323184\n",
       "2006          26.103120  21.839996\n",
       "2007          23.425883  22.908210\n",
       "2008          22.605851  20.996232\n",
       "2009          25.629043  16.384883\n",
       "2010          18.787205  15.568397\n",
       "2011          17.605095  16.377711\n",
       "2012          14.381826  14.755081\n",
       "2013          18.123656  17.284549\n",
       "2014          16.870988  19.535381\n",
       "2015          14.539207  15.557578\n",
       "2016          13.344945  12.647840"
      ]
     },
     "execution_count": 24,
     "metadata": {},
     "output_type": "execute_result"
    }
   ],
   "source": [
    "query7=\"\"\"SELECT a.code as Airport_code,t.Year,(SUM(s.Flights_Delayed)*1.0 / SUM(s.Flights_Total) * 100) AS Delayed_Flights_Percentage\n",
    "FROM time t\n",
    "JOIN statistics s ON t.Label = s.Time_Label\n",
    "JOIN airports a ON s.Airport_Code = a.Code\n",
    "WHERE s.Airport_Code IN ('ATL', 'PDX')\n",
    "GROUP BY t.year,a.code\n",
    "ORDER BY t.Year ;\n",
    "\"\"\"\n",
    "result_df = pd.read_sql(query7,conn)\n",
    "pivot_df = result_df.pivot(index='year', columns='airport_code', values='delayed_flights_percentage')\n",
    "pivot_df"
   ]
  },
  {
   "cell_type": "code",
   "execution_count": 25,
   "id": "3007f84c",
   "metadata": {},
   "outputs": [
    {
     "data": {
      "application/vnd.plotly.v1+json": {
       "config": {
        "plotlyServerURL": "https://plot.ly"
       },
       "data": [
        {
         "mode": "lines+markers",
         "name": "ATL",
         "type": "scatter",
         "x": [
          2003,
          2004,
          2005,
          2006,
          2007,
          2008,
          2009,
          2010,
          2011,
          2012,
          2013,
          2014,
          2015,
          2016
         ],
         "y": [
          19.514149043069956,
          24.90281518217507,
          24.51163331782224,
          26.10312008280039,
          23.42588319435954,
          22.605851090777065,
          25.62904333886758,
          18.78720489343843,
          17.605094504275527,
          14.381826392450115,
          18.123655617450776,
          16.870988151697212,
          14.539207057744704,
          13.344945400951296
         ]
        },
        {
         "mode": "lines+markers",
         "name": "PDX",
         "type": "scatter",
         "x": [
          2003,
          2004,
          2005,
          2006,
          2007,
          2008,
          2009,
          2010,
          2011,
          2012,
          2013,
          2014,
          2015,
          2016
         ],
         "y": [
          15.233061028351754,
          18.550885550043876,
          21.32318374136622,
          21.839995844947282,
          22.90821025343657,
          20.996232154585364,
          16.38488314271507,
          15.568397120121258,
          16.37771132225461,
          14.75508101526646,
          17.2845486046425,
          19.5353808077399,
          15.557578339853585,
          12.647839729664494
         ]
        }
       ],
       "layout": {
        "template": {
         "data": {
          "bar": [
           {
            "error_x": {
             "color": "#2a3f5f"
            },
            "error_y": {
             "color": "#2a3f5f"
            },
            "marker": {
             "line": {
              "color": "#E5ECF6",
              "width": 0.5
             },
             "pattern": {
              "fillmode": "overlay",
              "size": 10,
              "solidity": 0.2
             }
            },
            "type": "bar"
           }
          ],
          "barpolar": [
           {
            "marker": {
             "line": {
              "color": "#E5ECF6",
              "width": 0.5
             },
             "pattern": {
              "fillmode": "overlay",
              "size": 10,
              "solidity": 0.2
             }
            },
            "type": "barpolar"
           }
          ],
          "carpet": [
           {
            "aaxis": {
             "endlinecolor": "#2a3f5f",
             "gridcolor": "white",
             "linecolor": "white",
             "minorgridcolor": "white",
             "startlinecolor": "#2a3f5f"
            },
            "baxis": {
             "endlinecolor": "#2a3f5f",
             "gridcolor": "white",
             "linecolor": "white",
             "minorgridcolor": "white",
             "startlinecolor": "#2a3f5f"
            },
            "type": "carpet"
           }
          ],
          "choropleth": [
           {
            "colorbar": {
             "outlinewidth": 0,
             "ticks": ""
            },
            "type": "choropleth"
           }
          ],
          "contour": [
           {
            "colorbar": {
             "outlinewidth": 0,
             "ticks": ""
            },
            "colorscale": [
             [
              0,
              "#0d0887"
             ],
             [
              0.1111111111111111,
              "#46039f"
             ],
             [
              0.2222222222222222,
              "#7201a8"
             ],
             [
              0.3333333333333333,
              "#9c179e"
             ],
             [
              0.4444444444444444,
              "#bd3786"
             ],
             [
              0.5555555555555556,
              "#d8576b"
             ],
             [
              0.6666666666666666,
              "#ed7953"
             ],
             [
              0.7777777777777778,
              "#fb9f3a"
             ],
             [
              0.8888888888888888,
              "#fdca26"
             ],
             [
              1,
              "#f0f921"
             ]
            ],
            "type": "contour"
           }
          ],
          "contourcarpet": [
           {
            "colorbar": {
             "outlinewidth": 0,
             "ticks": ""
            },
            "type": "contourcarpet"
           }
          ],
          "heatmap": [
           {
            "colorbar": {
             "outlinewidth": 0,
             "ticks": ""
            },
            "colorscale": [
             [
              0,
              "#0d0887"
             ],
             [
              0.1111111111111111,
              "#46039f"
             ],
             [
              0.2222222222222222,
              "#7201a8"
             ],
             [
              0.3333333333333333,
              "#9c179e"
             ],
             [
              0.4444444444444444,
              "#bd3786"
             ],
             [
              0.5555555555555556,
              "#d8576b"
             ],
             [
              0.6666666666666666,
              "#ed7953"
             ],
             [
              0.7777777777777778,
              "#fb9f3a"
             ],
             [
              0.8888888888888888,
              "#fdca26"
             ],
             [
              1,
              "#f0f921"
             ]
            ],
            "type": "heatmap"
           }
          ],
          "heatmapgl": [
           {
            "colorbar": {
             "outlinewidth": 0,
             "ticks": ""
            },
            "colorscale": [
             [
              0,
              "#0d0887"
             ],
             [
              0.1111111111111111,
              "#46039f"
             ],
             [
              0.2222222222222222,
              "#7201a8"
             ],
             [
              0.3333333333333333,
              "#9c179e"
             ],
             [
              0.4444444444444444,
              "#bd3786"
             ],
             [
              0.5555555555555556,
              "#d8576b"
             ],
             [
              0.6666666666666666,
              "#ed7953"
             ],
             [
              0.7777777777777778,
              "#fb9f3a"
             ],
             [
              0.8888888888888888,
              "#fdca26"
             ],
             [
              1,
              "#f0f921"
             ]
            ],
            "type": "heatmapgl"
           }
          ],
          "histogram": [
           {
            "marker": {
             "pattern": {
              "fillmode": "overlay",
              "size": 10,
              "solidity": 0.2
             }
            },
            "type": "histogram"
           }
          ],
          "histogram2d": [
           {
            "colorbar": {
             "outlinewidth": 0,
             "ticks": ""
            },
            "colorscale": [
             [
              0,
              "#0d0887"
             ],
             [
              0.1111111111111111,
              "#46039f"
             ],
             [
              0.2222222222222222,
              "#7201a8"
             ],
             [
              0.3333333333333333,
              "#9c179e"
             ],
             [
              0.4444444444444444,
              "#bd3786"
             ],
             [
              0.5555555555555556,
              "#d8576b"
             ],
             [
              0.6666666666666666,
              "#ed7953"
             ],
             [
              0.7777777777777778,
              "#fb9f3a"
             ],
             [
              0.8888888888888888,
              "#fdca26"
             ],
             [
              1,
              "#f0f921"
             ]
            ],
            "type": "histogram2d"
           }
          ],
          "histogram2dcontour": [
           {
            "colorbar": {
             "outlinewidth": 0,
             "ticks": ""
            },
            "colorscale": [
             [
              0,
              "#0d0887"
             ],
             [
              0.1111111111111111,
              "#46039f"
             ],
             [
              0.2222222222222222,
              "#7201a8"
             ],
             [
              0.3333333333333333,
              "#9c179e"
             ],
             [
              0.4444444444444444,
              "#bd3786"
             ],
             [
              0.5555555555555556,
              "#d8576b"
             ],
             [
              0.6666666666666666,
              "#ed7953"
             ],
             [
              0.7777777777777778,
              "#fb9f3a"
             ],
             [
              0.8888888888888888,
              "#fdca26"
             ],
             [
              1,
              "#f0f921"
             ]
            ],
            "type": "histogram2dcontour"
           }
          ],
          "mesh3d": [
           {
            "colorbar": {
             "outlinewidth": 0,
             "ticks": ""
            },
            "type": "mesh3d"
           }
          ],
          "parcoords": [
           {
            "line": {
             "colorbar": {
              "outlinewidth": 0,
              "ticks": ""
             }
            },
            "type": "parcoords"
           }
          ],
          "pie": [
           {
            "automargin": true,
            "type": "pie"
           }
          ],
          "scatter": [
           {
            "fillpattern": {
             "fillmode": "overlay",
             "size": 10,
             "solidity": 0.2
            },
            "type": "scatter"
           }
          ],
          "scatter3d": [
           {
            "line": {
             "colorbar": {
              "outlinewidth": 0,
              "ticks": ""
             }
            },
            "marker": {
             "colorbar": {
              "outlinewidth": 0,
              "ticks": ""
             }
            },
            "type": "scatter3d"
           }
          ],
          "scattercarpet": [
           {
            "marker": {
             "colorbar": {
              "outlinewidth": 0,
              "ticks": ""
             }
            },
            "type": "scattercarpet"
           }
          ],
          "scattergeo": [
           {
            "marker": {
             "colorbar": {
              "outlinewidth": 0,
              "ticks": ""
             }
            },
            "type": "scattergeo"
           }
          ],
          "scattergl": [
           {
            "marker": {
             "colorbar": {
              "outlinewidth": 0,
              "ticks": ""
             }
            },
            "type": "scattergl"
           }
          ],
          "scattermapbox": [
           {
            "marker": {
             "colorbar": {
              "outlinewidth": 0,
              "ticks": ""
             }
            },
            "type": "scattermapbox"
           }
          ],
          "scatterpolar": [
           {
            "marker": {
             "colorbar": {
              "outlinewidth": 0,
              "ticks": ""
             }
            },
            "type": "scatterpolar"
           }
          ],
          "scatterpolargl": [
           {
            "marker": {
             "colorbar": {
              "outlinewidth": 0,
              "ticks": ""
             }
            },
            "type": "scatterpolargl"
           }
          ],
          "scatterternary": [
           {
            "marker": {
             "colorbar": {
              "outlinewidth": 0,
              "ticks": ""
             }
            },
            "type": "scatterternary"
           }
          ],
          "surface": [
           {
            "colorbar": {
             "outlinewidth": 0,
             "ticks": ""
            },
            "colorscale": [
             [
              0,
              "#0d0887"
             ],
             [
              0.1111111111111111,
              "#46039f"
             ],
             [
              0.2222222222222222,
              "#7201a8"
             ],
             [
              0.3333333333333333,
              "#9c179e"
             ],
             [
              0.4444444444444444,
              "#bd3786"
             ],
             [
              0.5555555555555556,
              "#d8576b"
             ],
             [
              0.6666666666666666,
              "#ed7953"
             ],
             [
              0.7777777777777778,
              "#fb9f3a"
             ],
             [
              0.8888888888888888,
              "#fdca26"
             ],
             [
              1,
              "#f0f921"
             ]
            ],
            "type": "surface"
           }
          ],
          "table": [
           {
            "cells": {
             "fill": {
              "color": "#EBF0F8"
             },
             "line": {
              "color": "white"
             }
            },
            "header": {
             "fill": {
              "color": "#C8D4E3"
             },
             "line": {
              "color": "white"
             }
            },
            "type": "table"
           }
          ]
         },
         "layout": {
          "annotationdefaults": {
           "arrowcolor": "#2a3f5f",
           "arrowhead": 0,
           "arrowwidth": 1
          },
          "autotypenumbers": "strict",
          "coloraxis": {
           "colorbar": {
            "outlinewidth": 0,
            "ticks": ""
           }
          },
          "colorscale": {
           "diverging": [
            [
             0,
             "#8e0152"
            ],
            [
             0.1,
             "#c51b7d"
            ],
            [
             0.2,
             "#de77ae"
            ],
            [
             0.3,
             "#f1b6da"
            ],
            [
             0.4,
             "#fde0ef"
            ],
            [
             0.5,
             "#f7f7f7"
            ],
            [
             0.6,
             "#e6f5d0"
            ],
            [
             0.7,
             "#b8e186"
            ],
            [
             0.8,
             "#7fbc41"
            ],
            [
             0.9,
             "#4d9221"
            ],
            [
             1,
             "#276419"
            ]
           ],
           "sequential": [
            [
             0,
             "#0d0887"
            ],
            [
             0.1111111111111111,
             "#46039f"
            ],
            [
             0.2222222222222222,
             "#7201a8"
            ],
            [
             0.3333333333333333,
             "#9c179e"
            ],
            [
             0.4444444444444444,
             "#bd3786"
            ],
            [
             0.5555555555555556,
             "#d8576b"
            ],
            [
             0.6666666666666666,
             "#ed7953"
            ],
            [
             0.7777777777777778,
             "#fb9f3a"
            ],
            [
             0.8888888888888888,
             "#fdca26"
            ],
            [
             1,
             "#f0f921"
            ]
           ],
           "sequentialminus": [
            [
             0,
             "#0d0887"
            ],
            [
             0.1111111111111111,
             "#46039f"
            ],
            [
             0.2222222222222222,
             "#7201a8"
            ],
            [
             0.3333333333333333,
             "#9c179e"
            ],
            [
             0.4444444444444444,
             "#bd3786"
            ],
            [
             0.5555555555555556,
             "#d8576b"
            ],
            [
             0.6666666666666666,
             "#ed7953"
            ],
            [
             0.7777777777777778,
             "#fb9f3a"
            ],
            [
             0.8888888888888888,
             "#fdca26"
            ],
            [
             1,
             "#f0f921"
            ]
           ]
          },
          "colorway": [
           "#636efa",
           "#EF553B",
           "#00cc96",
           "#ab63fa",
           "#FFA15A",
           "#19d3f3",
           "#FF6692",
           "#B6E880",
           "#FF97FF",
           "#FECB52"
          ],
          "font": {
           "color": "#2a3f5f"
          },
          "geo": {
           "bgcolor": "white",
           "lakecolor": "white",
           "landcolor": "#E5ECF6",
           "showlakes": true,
           "showland": true,
           "subunitcolor": "white"
          },
          "hoverlabel": {
           "align": "left"
          },
          "hovermode": "closest",
          "mapbox": {
           "style": "light"
          },
          "paper_bgcolor": "white",
          "plot_bgcolor": "#E5ECF6",
          "polar": {
           "angularaxis": {
            "gridcolor": "white",
            "linecolor": "white",
            "ticks": ""
           },
           "bgcolor": "#E5ECF6",
           "radialaxis": {
            "gridcolor": "white",
            "linecolor": "white",
            "ticks": ""
           }
          },
          "scene": {
           "xaxis": {
            "backgroundcolor": "#E5ECF6",
            "gridcolor": "white",
            "gridwidth": 2,
            "linecolor": "white",
            "showbackground": true,
            "ticks": "",
            "zerolinecolor": "white"
           },
           "yaxis": {
            "backgroundcolor": "#E5ECF6",
            "gridcolor": "white",
            "gridwidth": 2,
            "linecolor": "white",
            "showbackground": true,
            "ticks": "",
            "zerolinecolor": "white"
           },
           "zaxis": {
            "backgroundcolor": "#E5ECF6",
            "gridcolor": "white",
            "gridwidth": 2,
            "linecolor": "white",
            "showbackground": true,
            "ticks": "",
            "zerolinecolor": "white"
           }
          },
          "shapedefaults": {
           "line": {
            "color": "#2a3f5f"
           }
          },
          "ternary": {
           "aaxis": {
            "gridcolor": "white",
            "linecolor": "white",
            "ticks": ""
           },
           "baxis": {
            "gridcolor": "white",
            "linecolor": "white",
            "ticks": ""
           },
           "bgcolor": "#E5ECF6",
           "caxis": {
            "gridcolor": "white",
            "linecolor": "white",
            "ticks": ""
           }
          },
          "title": {
           "x": 0.05
          },
          "xaxis": {
           "automargin": true,
           "gridcolor": "white",
           "linecolor": "white",
           "ticks": "",
           "title": {
            "standoff": 15
           },
           "zerolinecolor": "white",
           "zerolinewidth": 2
          },
          "yaxis": {
           "automargin": true,
           "gridcolor": "white",
           "linecolor": "white",
           "ticks": "",
           "title": {
            "standoff": 15
           },
           "zerolinecolor": "white",
           "zerolinewidth": 2
          }
         }
        },
        "title": {
         "text": "Percentage of Delayed Flights Over Time"
        },
        "xaxis": {
         "title": {
          "text": "Year"
         }
        },
        "yaxis": {
         "title": {
          "text": "Percentage of Delayed Flights"
         }
        }
       }
      }
     },
     "metadata": {},
     "output_type": "display_data"
    }
   ],
   "source": [
    "#Line plot showing the percentage variation on delays \n",
    "traces = []\n",
    "for airport_code in pivot_df.columns:\n",
    "    traces.append(go.Scatter(x=pivot_df.index, y=pivot_df[airport_code], mode='lines+markers', name=airport_code))\n",
    "# Create layout\n",
    "layout = go.Layout(title='Percentage of Delayed Flights Over Time',\n",
    "                   xaxis=dict(title='Year'),\n",
    "                   yaxis=dict(title='Percentage of Delayed Flights'))\n",
    "fig = go.Figure(data=traces, layout=layout)\n",
    "fig.show()"
   ]
  },
  {
   "cell_type": "markdown",
   "id": "e99f759e",
   "metadata": {},
   "source": [
    "##### Analysis:\n",
    "- Both airports exhibit fluctuations in delayed flight percentages over the years, with varying degrees of consistency. ATL generally experiences higher percentages of delayed flights compared to PDX.\n",
    "- This variability could be influenced by factors like changes in airline schedules, airport improvements, or external events impacting air travel.\n",
    "- By 2016, both ATL and PDX show a reduction in delayed flight percentages, with ATL experiencing a more substantial decrease compared to PDX. This convergence towards similar delay percentages by 2016 suggests potential improvements in on-time performance at ATL and ongoing efficiency in managing flight operations at PDX."
   ]
  },
  {
   "cell_type": "markdown",
   "id": "1c510da4",
   "metadata": {},
   "source": [
    "##### Query 8: Distribution of carriers for each airport\n",
    "- The distribution of carriers for each airport is retrieved by calculating the average, maximum, and minimum total number of carriers from the Statistics table.\n",
    "- These results are grouped based on the Airport code, to understand the variability of carrier distribution across different airports."
   ]
  },
  {
   "cell_type": "code",
   "execution_count": 26,
   "id": "ebbdd0ca",
   "metadata": {},
   "outputs": [
    {
     "data": {
      "text/html": [
       "<div>\n",
       "<style scoped>\n",
       "    .dataframe tbody tr th:only-of-type {\n",
       "        vertical-align: middle;\n",
       "    }\n",
       "\n",
       "    .dataframe tbody tr th {\n",
       "        vertical-align: top;\n",
       "    }\n",
       "\n",
       "    .dataframe thead th {\n",
       "        text-align: right;\n",
       "    }\n",
       "</style>\n",
       "<table border=\"1\" class=\"dataframe\">\n",
       "  <thead>\n",
       "    <tr style=\"text-align: right;\">\n",
       "      <th></th>\n",
       "      <th>airport_code</th>\n",
       "      <th>avg_carriers_total</th>\n",
       "      <th>max_carriers_total</th>\n",
       "      <th>min_carriers_total</th>\n",
       "    </tr>\n",
       "  </thead>\n",
       "  <tbody>\n",
       "    <tr>\n",
       "      <th>0</th>\n",
       "      <td>ATL</td>\n",
       "      <td>13.000000</td>\n",
       "      <td>16</td>\n",
       "      <td>9</td>\n",
       "    </tr>\n",
       "    <tr>\n",
       "      <th>1</th>\n",
       "      <td>BOS</td>\n",
       "      <td>13.282895</td>\n",
       "      <td>17</td>\n",
       "      <td>10</td>\n",
       "    </tr>\n",
       "    <tr>\n",
       "      <th>2</th>\n",
       "      <td>BWI</td>\n",
       "      <td>12.000000</td>\n",
       "      <td>15</td>\n",
       "      <td>8</td>\n",
       "    </tr>\n",
       "    <tr>\n",
       "      <th>3</th>\n",
       "      <td>CLT</td>\n",
       "      <td>11.526316</td>\n",
       "      <td>15</td>\n",
       "      <td>8</td>\n",
       "    </tr>\n",
       "    <tr>\n",
       "      <th>4</th>\n",
       "      <td>DCA</td>\n",
       "      <td>13.269737</td>\n",
       "      <td>15</td>\n",
       "      <td>10</td>\n",
       "    </tr>\n",
       "    <tr>\n",
       "      <th>5</th>\n",
       "      <td>DEN</td>\n",
       "      <td>13.572368</td>\n",
       "      <td>17</td>\n",
       "      <td>9</td>\n",
       "    </tr>\n",
       "    <tr>\n",
       "      <th>6</th>\n",
       "      <td>DFW</td>\n",
       "      <td>13.328947</td>\n",
       "      <td>16</td>\n",
       "      <td>9</td>\n",
       "    </tr>\n",
       "    <tr>\n",
       "      <th>7</th>\n",
       "      <td>DTW</td>\n",
       "      <td>13.486842</td>\n",
       "      <td>16</td>\n",
       "      <td>10</td>\n",
       "    </tr>\n",
       "    <tr>\n",
       "      <th>8</th>\n",
       "      <td>EWR</td>\n",
       "      <td>12.236842</td>\n",
       "      <td>15</td>\n",
       "      <td>8</td>\n",
       "    </tr>\n",
       "    <tr>\n",
       "      <th>9</th>\n",
       "      <td>FLL</td>\n",
       "      <td>10.842105</td>\n",
       "      <td>13</td>\n",
       "      <td>8</td>\n",
       "    </tr>\n",
       "    <tr>\n",
       "      <th>10</th>\n",
       "      <td>IAD</td>\n",
       "      <td>12.105263</td>\n",
       "      <td>15</td>\n",
       "      <td>8</td>\n",
       "    </tr>\n",
       "    <tr>\n",
       "      <th>11</th>\n",
       "      <td>IAH</td>\n",
       "      <td>11.440789</td>\n",
       "      <td>15</td>\n",
       "      <td>8</td>\n",
       "    </tr>\n",
       "    <tr>\n",
       "      <th>12</th>\n",
       "      <td>JFK</td>\n",
       "      <td>9.769737</td>\n",
       "      <td>13</td>\n",
       "      <td>6</td>\n",
       "    </tr>\n",
       "    <tr>\n",
       "      <th>13</th>\n",
       "      <td>LAS</td>\n",
       "      <td>14.000000</td>\n",
       "      <td>18</td>\n",
       "      <td>11</td>\n",
       "    </tr>\n",
       "    <tr>\n",
       "      <th>14</th>\n",
       "      <td>LAX</td>\n",
       "      <td>14.085526</td>\n",
       "      <td>18</td>\n",
       "      <td>11</td>\n",
       "    </tr>\n",
       "    <tr>\n",
       "      <th>15</th>\n",
       "      <td>LGA</td>\n",
       "      <td>13.072368</td>\n",
       "      <td>16</td>\n",
       "      <td>10</td>\n",
       "    </tr>\n",
       "    <tr>\n",
       "      <th>16</th>\n",
       "      <td>MCO</td>\n",
       "      <td>12.578947</td>\n",
       "      <td>18</td>\n",
       "      <td>9</td>\n",
       "    </tr>\n",
       "    <tr>\n",
       "      <th>17</th>\n",
       "      <td>MDW</td>\n",
       "      <td>7.190789</td>\n",
       "      <td>13</td>\n",
       "      <td>3</td>\n",
       "    </tr>\n",
       "    <tr>\n",
       "      <th>18</th>\n",
       "      <td>MIA</td>\n",
       "      <td>9.769737</td>\n",
       "      <td>13</td>\n",
       "      <td>5</td>\n",
       "    </tr>\n",
       "    <tr>\n",
       "      <th>19</th>\n",
       "      <td>MSP</td>\n",
       "      <td>12.730263</td>\n",
       "      <td>16</td>\n",
       "      <td>9</td>\n",
       "    </tr>\n",
       "    <tr>\n",
       "      <th>20</th>\n",
       "      <td>ORD</td>\n",
       "      <td>12.690789</td>\n",
       "      <td>15</td>\n",
       "      <td>10</td>\n",
       "    </tr>\n",
       "    <tr>\n",
       "      <th>21</th>\n",
       "      <td>PDX</td>\n",
       "      <td>11.421053</td>\n",
       "      <td>14</td>\n",
       "      <td>9</td>\n",
       "    </tr>\n",
       "    <tr>\n",
       "      <th>22</th>\n",
       "      <td>PHL</td>\n",
       "      <td>12.796053</td>\n",
       "      <td>16</td>\n",
       "      <td>9</td>\n",
       "    </tr>\n",
       "    <tr>\n",
       "      <th>23</th>\n",
       "      <td>PHX</td>\n",
       "      <td>13.776316</td>\n",
       "      <td>16</td>\n",
       "      <td>10</td>\n",
       "    </tr>\n",
       "    <tr>\n",
       "      <th>24</th>\n",
       "      <td>SAN</td>\n",
       "      <td>13.532895</td>\n",
       "      <td>17</td>\n",
       "      <td>11</td>\n",
       "    </tr>\n",
       "    <tr>\n",
       "      <th>25</th>\n",
       "      <td>SEA</td>\n",
       "      <td>12.388158</td>\n",
       "      <td>15</td>\n",
       "      <td>10</td>\n",
       "    </tr>\n",
       "    <tr>\n",
       "      <th>26</th>\n",
       "      <td>SFO</td>\n",
       "      <td>13.006579</td>\n",
       "      <td>16</td>\n",
       "      <td>10</td>\n",
       "    </tr>\n",
       "    <tr>\n",
       "      <th>27</th>\n",
       "      <td>SLC</td>\n",
       "      <td>11.453947</td>\n",
       "      <td>14</td>\n",
       "      <td>8</td>\n",
       "    </tr>\n",
       "    <tr>\n",
       "      <th>28</th>\n",
       "      <td>TPA</td>\n",
       "      <td>10.993421</td>\n",
       "      <td>15</td>\n",
       "      <td>8</td>\n",
       "    </tr>\n",
       "  </tbody>\n",
       "</table>\n",
       "</div>"
      ],
      "text/plain": [
       "   airport_code  avg_carriers_total  max_carriers_total  min_carriers_total\n",
       "0           ATL           13.000000                  16                   9\n",
       "1           BOS           13.282895                  17                  10\n",
       "2           BWI           12.000000                  15                   8\n",
       "3           CLT           11.526316                  15                   8\n",
       "4           DCA           13.269737                  15                  10\n",
       "5           DEN           13.572368                  17                   9\n",
       "6           DFW           13.328947                  16                   9\n",
       "7           DTW           13.486842                  16                  10\n",
       "8           EWR           12.236842                  15                   8\n",
       "9           FLL           10.842105                  13                   8\n",
       "10          IAD           12.105263                  15                   8\n",
       "11          IAH           11.440789                  15                   8\n",
       "12          JFK            9.769737                  13                   6\n",
       "13          LAS           14.000000                  18                  11\n",
       "14          LAX           14.085526                  18                  11\n",
       "15          LGA           13.072368                  16                  10\n",
       "16          MCO           12.578947                  18                   9\n",
       "17          MDW            7.190789                  13                   3\n",
       "18          MIA            9.769737                  13                   5\n",
       "19          MSP           12.730263                  16                   9\n",
       "20          ORD           12.690789                  15                  10\n",
       "21          PDX           11.421053                  14                   9\n",
       "22          PHL           12.796053                  16                   9\n",
       "23          PHX           13.776316                  16                  10\n",
       "24          SAN           13.532895                  17                  11\n",
       "25          SEA           12.388158                  15                  10\n",
       "26          SFO           13.006579                  16                  10\n",
       "27          SLC           11.453947                  14                   8\n",
       "28          TPA           10.993421                  15                   8"
      ]
     },
     "execution_count": 26,
     "metadata": {},
     "output_type": "execute_result"
    }
   ],
   "source": [
    "query8=\"\"\"SELECT Airport_Code,\n",
    "    AVG(Carriers_Total) AS Avg_Carriers_Total,\n",
    "    MAX(Carriers_Total) AS Max_Carriers_Total,\n",
    "    MIN(Carriers_Total) AS Min_Carriers_Total\n",
    "    FROM statistics\n",
    "    GROUP BY Airport_Code\n",
    "    ORDER BY Airport_Code;\n",
    "\"\"\"\n",
    "result = pd.read_sql(query8,conn)\n",
    "result"
   ]
  },
  {
   "cell_type": "markdown",
   "id": "77f8cf78",
   "metadata": {},
   "source": [
    "##### Insights:\n",
    "- Airports like LAS and LAX have a higher average number of carriers - 14 and 14.08, respectively, others like MDW and MIA have notably lower averages - 7.19 and 9.77 respectively.\n",
    "- Despite variations in average carrier numbers, many airports tend to have a consistent maximum number of carriers. For instance, airports like LAS, LAX, and SAN have consistently high maximum carrier counts.\n",
    "- These results suggest that airports with higher average carrier counts may offer passengers more options and potentially foster greater competition among airlines. Conversely, airports with lower carrier counts may face challenges in offering diverse flight options and competitive pricing.\n"
   ]
  },
  {
   "cell_type": "markdown",
   "id": "e3977d52",
   "metadata": {},
   "source": [
    "##### Query 9: No of carriers serving each airports\n",
    "This query retrieves the number of distinct carriers and their corresponding lists for each airport.\n",
    "- The carrier names (of airlines) are provided as a column with comma-separated values. Hence, the UNNEST function is used to split the comma-separated Carriers_Names field into individual carriers and then aggregates them based on the airport code. This allows for counting the unique carriers and concatenating their names into a comma-separated list. \n",
    "- The results are ordered by the number of carriers in descending order."
   ]
  },
  {
   "cell_type": "code",
   "execution_count": 27,
   "id": "de130d2a",
   "metadata": {},
   "outputs": [
    {
     "data": {
      "text/html": [
       "<div>\n",
       "<style scoped>\n",
       "    .dataframe tbody tr th:only-of-type {\n",
       "        vertical-align: middle;\n",
       "    }\n",
       "\n",
       "    .dataframe tbody tr th {\n",
       "        vertical-align: top;\n",
       "    }\n",
       "\n",
       "    .dataframe thead th {\n",
       "        text-align: right;\n",
       "    }\n",
       "</style>\n",
       "<table border=\"1\" class=\"dataframe\">\n",
       "  <thead>\n",
       "    <tr style=\"text-align: right;\">\n",
       "      <th></th>\n",
       "      <th>airport_code</th>\n",
       "      <th>num_carriers</th>\n",
       "      <th>carrier_list</th>\n",
       "    </tr>\n",
       "  </thead>\n",
       "  <tbody>\n",
       "    <tr>\n",
       "      <th>0</th>\n",
       "      <td>PHL</td>\n",
       "      <td>25</td>\n",
       "      <td>AirTran Airways Corporation,Alaska Airlines In...</td>\n",
       "    </tr>\n",
       "    <tr>\n",
       "      <th>1</th>\n",
       "      <td>BOS</td>\n",
       "      <td>25</td>\n",
       "      <td>AirTran Airways Corporation,Alaska Airlines In...</td>\n",
       "    </tr>\n",
       "    <tr>\n",
       "      <th>2</th>\n",
       "      <td>LGA</td>\n",
       "      <td>24</td>\n",
       "      <td>AirTran Airways Corporation,American Airlines ...</td>\n",
       "    </tr>\n",
       "    <tr>\n",
       "      <th>3</th>\n",
       "      <td>LAS</td>\n",
       "      <td>24</td>\n",
       "      <td>AirTran Airways Corporation,Alaska Airlines In...</td>\n",
       "    </tr>\n",
       "    <tr>\n",
       "      <th>4</th>\n",
       "      <td>DCA</td>\n",
       "      <td>24</td>\n",
       "      <td>AirTran Airways Corporation,Alaska Airlines In...</td>\n",
       "    </tr>\n",
       "    <tr>\n",
       "      <th>5</th>\n",
       "      <td>ATL</td>\n",
       "      <td>24</td>\n",
       "      <td>AirTran Airways Corporation,Alaska Airlines In...</td>\n",
       "    </tr>\n",
       "    <tr>\n",
       "      <th>6</th>\n",
       "      <td>BWI</td>\n",
       "      <td>24</td>\n",
       "      <td>AirTran Airways Corporation,Alaska Airlines In...</td>\n",
       "    </tr>\n",
       "    <tr>\n",
       "      <th>7</th>\n",
       "      <td>DTW</td>\n",
       "      <td>24</td>\n",
       "      <td>AirTran Airways Corporation,Alaska Airlines In...</td>\n",
       "    </tr>\n",
       "    <tr>\n",
       "      <th>8</th>\n",
       "      <td>EWR</td>\n",
       "      <td>24</td>\n",
       "      <td>AirTran Airways Corporation,Alaska Airlines In...</td>\n",
       "    </tr>\n",
       "    <tr>\n",
       "      <th>9</th>\n",
       "      <td>ORD</td>\n",
       "      <td>24</td>\n",
       "      <td>Alaska Airlines Inc.,America West Airlines Inc...</td>\n",
       "    </tr>\n",
       "    <tr>\n",
       "      <th>10</th>\n",
       "      <td>TPA</td>\n",
       "      <td>23</td>\n",
       "      <td>AirTran Airways Corporation,Alaska Airlines In...</td>\n",
       "    </tr>\n",
       "    <tr>\n",
       "      <th>11</th>\n",
       "      <td>DEN</td>\n",
       "      <td>23</td>\n",
       "      <td>AirTran Airways Corporation,Alaska Airlines In...</td>\n",
       "    </tr>\n",
       "    <tr>\n",
       "      <th>12</th>\n",
       "      <td>DFW</td>\n",
       "      <td>23</td>\n",
       "      <td>AirTran Airways Corporation,Alaska Airlines In...</td>\n",
       "    </tr>\n",
       "    <tr>\n",
       "      <th>13</th>\n",
       "      <td>IAD</td>\n",
       "      <td>23</td>\n",
       "      <td>AirTran Airways Corporation,Alaska Airlines In...</td>\n",
       "    </tr>\n",
       "    <tr>\n",
       "      <th>14</th>\n",
       "      <td>LAX</td>\n",
       "      <td>23</td>\n",
       "      <td>AirTran Airways Corporation,Alaska Airlines In...</td>\n",
       "    </tr>\n",
       "    <tr>\n",
       "      <th>15</th>\n",
       "      <td>MCO</td>\n",
       "      <td>23</td>\n",
       "      <td>AirTran Airways Corporation,Alaska Airlines In...</td>\n",
       "    </tr>\n",
       "    <tr>\n",
       "      <th>16</th>\n",
       "      <td>SAN</td>\n",
       "      <td>23</td>\n",
       "      <td>AirTran Airways Corporation,Alaska Airlines In...</td>\n",
       "    </tr>\n",
       "    <tr>\n",
       "      <th>17</th>\n",
       "      <td>JFK</td>\n",
       "      <td>22</td>\n",
       "      <td>Alaska Airlines Inc.,America West Airlines Inc...</td>\n",
       "    </tr>\n",
       "    <tr>\n",
       "      <th>18</th>\n",
       "      <td>PHX</td>\n",
       "      <td>22</td>\n",
       "      <td>AirTran Airways Corporation,Alaska Airlines In...</td>\n",
       "    </tr>\n",
       "    <tr>\n",
       "      <th>19</th>\n",
       "      <td>MSP</td>\n",
       "      <td>22</td>\n",
       "      <td>AirTran Airways Corporation,Alaska Airlines In...</td>\n",
       "    </tr>\n",
       "    <tr>\n",
       "      <th>20</th>\n",
       "      <td>CLT</td>\n",
       "      <td>22</td>\n",
       "      <td>AirTran Airways Corporation,American Airlines ...</td>\n",
       "    </tr>\n",
       "    <tr>\n",
       "      <th>21</th>\n",
       "      <td>SFO</td>\n",
       "      <td>22</td>\n",
       "      <td>AirTran Airways Corporation,Alaska Airlines In...</td>\n",
       "    </tr>\n",
       "    <tr>\n",
       "      <th>22</th>\n",
       "      <td>FLL</td>\n",
       "      <td>22</td>\n",
       "      <td>AirTran Airways Corporation,Alaska Airlines In...</td>\n",
       "    </tr>\n",
       "    <tr>\n",
       "      <th>23</th>\n",
       "      <td>SEA</td>\n",
       "      <td>21</td>\n",
       "      <td>AirTran Airways Corporation,Alaska Airlines In...</td>\n",
       "    </tr>\n",
       "    <tr>\n",
       "      <th>24</th>\n",
       "      <td>SLC</td>\n",
       "      <td>20</td>\n",
       "      <td>Alaska Airlines Inc.,America West Airlines Inc...</td>\n",
       "    </tr>\n",
       "    <tr>\n",
       "      <th>25</th>\n",
       "      <td>IAH</td>\n",
       "      <td>20</td>\n",
       "      <td>Alaska Airlines Inc.,America West Airlines Inc...</td>\n",
       "    </tr>\n",
       "    <tr>\n",
       "      <th>26</th>\n",
       "      <td>MIA</td>\n",
       "      <td>19</td>\n",
       "      <td>AirTran Airways Corporation,Alaska Airlines In...</td>\n",
       "    </tr>\n",
       "    <tr>\n",
       "      <th>27</th>\n",
       "      <td>PDX</td>\n",
       "      <td>18</td>\n",
       "      <td>Alaska Airlines Inc.,America West Airlines Inc...</td>\n",
       "    </tr>\n",
       "    <tr>\n",
       "      <th>28</th>\n",
       "      <td>MDW</td>\n",
       "      <td>18</td>\n",
       "      <td>AirTran Airways Corporation,American Airlines ...</td>\n",
       "    </tr>\n",
       "  </tbody>\n",
       "</table>\n",
       "</div>"
      ],
      "text/plain": [
       "   airport_code  num_carriers  \\\n",
       "0           PHL            25   \n",
       "1           BOS            25   \n",
       "2           LGA            24   \n",
       "3           LAS            24   \n",
       "4           DCA            24   \n",
       "5           ATL            24   \n",
       "6           BWI            24   \n",
       "7           DTW            24   \n",
       "8           EWR            24   \n",
       "9           ORD            24   \n",
       "10          TPA            23   \n",
       "11          DEN            23   \n",
       "12          DFW            23   \n",
       "13          IAD            23   \n",
       "14          LAX            23   \n",
       "15          MCO            23   \n",
       "16          SAN            23   \n",
       "17          JFK            22   \n",
       "18          PHX            22   \n",
       "19          MSP            22   \n",
       "20          CLT            22   \n",
       "21          SFO            22   \n",
       "22          FLL            22   \n",
       "23          SEA            21   \n",
       "24          SLC            20   \n",
       "25          IAH            20   \n",
       "26          MIA            19   \n",
       "27          PDX            18   \n",
       "28          MDW            18   \n",
       "\n",
       "                                         carrier_list  \n",
       "0   AirTran Airways Corporation,Alaska Airlines In...  \n",
       "1   AirTran Airways Corporation,Alaska Airlines In...  \n",
       "2   AirTran Airways Corporation,American Airlines ...  \n",
       "3   AirTran Airways Corporation,Alaska Airlines In...  \n",
       "4   AirTran Airways Corporation,Alaska Airlines In...  \n",
       "5   AirTran Airways Corporation,Alaska Airlines In...  \n",
       "6   AirTran Airways Corporation,Alaska Airlines In...  \n",
       "7   AirTran Airways Corporation,Alaska Airlines In...  \n",
       "8   AirTran Airways Corporation,Alaska Airlines In...  \n",
       "9   Alaska Airlines Inc.,America West Airlines Inc...  \n",
       "10  AirTran Airways Corporation,Alaska Airlines In...  \n",
       "11  AirTran Airways Corporation,Alaska Airlines In...  \n",
       "12  AirTran Airways Corporation,Alaska Airlines In...  \n",
       "13  AirTran Airways Corporation,Alaska Airlines In...  \n",
       "14  AirTran Airways Corporation,Alaska Airlines In...  \n",
       "15  AirTran Airways Corporation,Alaska Airlines In...  \n",
       "16  AirTran Airways Corporation,Alaska Airlines In...  \n",
       "17  Alaska Airlines Inc.,America West Airlines Inc...  \n",
       "18  AirTran Airways Corporation,Alaska Airlines In...  \n",
       "19  AirTran Airways Corporation,Alaska Airlines In...  \n",
       "20  AirTran Airways Corporation,American Airlines ...  \n",
       "21  AirTran Airways Corporation,Alaska Airlines In...  \n",
       "22  AirTran Airways Corporation,Alaska Airlines In...  \n",
       "23  AirTran Airways Corporation,Alaska Airlines In...  \n",
       "24  Alaska Airlines Inc.,America West Airlines Inc...  \n",
       "25  Alaska Airlines Inc.,America West Airlines Inc...  \n",
       "26  AirTran Airways Corporation,Alaska Airlines In...  \n",
       "27  Alaska Airlines Inc.,America West Airlines Inc...  \n",
       "28  AirTran Airways Corporation,American Airlines ...  "
      ]
     },
     "execution_count": 27,
     "metadata": {},
     "output_type": "execute_result"
    }
   ],
   "source": [
    "query9=\"\"\"SELECT s.Airport_Code,\n",
    "COUNT(DISTINCT carrier) AS Num_Carriers,\n",
    "STRING_AGG(DISTINCT carrier, ',') AS Carrier_List\n",
    "FROM  statistics AS s,\n",
    "    UNNEST(STRING_TO_ARRAY(s.Carriers_Names, ',')) AS carrier\n",
    "GROUP BY  s.Airport_Code\n",
    "ORDER BY  Num_Carriers DESC;\n",
    "\"\"\"\n",
    "carriers_df=pd.read_sql(query9,conn)\n",
    "carriers_df"
   ]
  },
  {
   "cell_type": "markdown",
   "id": "f884420d",
   "metadata": {},
   "source": [
    "##### Insights:\n",
    "Airports like PHL and BOS have the highest number of carriers, each with 25 distinct carriers. On the other hand, MDW and PDX have the fewest carriers, each with only 18 distinct carriers. The carrier lists show the variety of airlines operating at each airport, highlighting the diversity in airline choices available to passengers."
   ]
  },
  {
   "cell_type": "markdown",
   "id": "6a8845dc",
   "metadata": {},
   "source": [
    "##### Query 10: Number of airports associated with each airlines\n",
    "Here, we would like to understand how many airports do each of the airlines extend their network and breadth of their operations.\n",
    "- The query retrieves the number of airports served by each carrier.It first splits the carriers' names stored as a string into individual carriers and associates them with the respective airport codes in the inner query.\n",
    "- The outer query takes the result from the subquery and groups it by the carrier column and counts the number of distinct airport codes associated with each carrier using the COUNT function.\n",
    "- Finally, the results are ordered based on the number of airports served by each carrier in descending order, revealing the airlines with the broadest coverage."
   ]
  },
  {
   "cell_type": "code",
   "execution_count": 28,
   "id": "11ff133b",
   "metadata": {},
   "outputs": [
    {
     "data": {
      "text/html": [
       "<div>\n",
       "<style scoped>\n",
       "    .dataframe tbody tr th:only-of-type {\n",
       "        vertical-align: middle;\n",
       "    }\n",
       "\n",
       "    .dataframe tbody tr th {\n",
       "        vertical-align: top;\n",
       "    }\n",
       "\n",
       "    .dataframe thead th {\n",
       "        text-align: right;\n",
       "    }\n",
       "</style>\n",
       "<table border=\"1\" class=\"dataframe\">\n",
       "  <thead>\n",
       "    <tr style=\"text-align: right;\">\n",
       "      <th></th>\n",
       "      <th>carrier</th>\n",
       "      <th>num_airports</th>\n",
       "    </tr>\n",
       "  </thead>\n",
       "  <tbody>\n",
       "    <tr>\n",
       "      <th>0</th>\n",
       "      <td>Delta Air Lines Inc.</td>\n",
       "      <td>29</td>\n",
       "    </tr>\n",
       "    <tr>\n",
       "      <th>1</th>\n",
       "      <td>American Airlines Inc.</td>\n",
       "      <td>29</td>\n",
       "    </tr>\n",
       "    <tr>\n",
       "      <th>2</th>\n",
       "      <td>United Air Lines Inc.</td>\n",
       "      <td>29</td>\n",
       "    </tr>\n",
       "    <tr>\n",
       "      <th>3</th>\n",
       "      <td>Atlantic Southeast Airlines</td>\n",
       "      <td>29</td>\n",
       "    </tr>\n",
       "    <tr>\n",
       "      <th>4</th>\n",
       "      <td>Continental Air Lines Inc.</td>\n",
       "      <td>29</td>\n",
       "    </tr>\n",
       "    <tr>\n",
       "      <th>5</th>\n",
       "      <td>Northwest Airlines Inc.</td>\n",
       "      <td>29</td>\n",
       "    </tr>\n",
       "    <tr>\n",
       "      <th>6</th>\n",
       "      <td>ExpressJet Airlines Inc.</td>\n",
       "      <td>29</td>\n",
       "    </tr>\n",
       "    <tr>\n",
       "      <th>7</th>\n",
       "      <td>SkyWest Airlines Inc.</td>\n",
       "      <td>28</td>\n",
       "    </tr>\n",
       "    <tr>\n",
       "      <th>8</th>\n",
       "      <td>US Airways Inc.</td>\n",
       "      <td>28</td>\n",
       "    </tr>\n",
       "    <tr>\n",
       "      <th>9</th>\n",
       "      <td>American Eagle Airlines Inc.</td>\n",
       "      <td>27</td>\n",
       "    </tr>\n",
       "    <tr>\n",
       "      <th>10</th>\n",
       "      <td>Frontier Airlines Inc.</td>\n",
       "      <td>27</td>\n",
       "    </tr>\n",
       "    <tr>\n",
       "      <th>11</th>\n",
       "      <td>Mesa Airlines Inc.</td>\n",
       "      <td>26</td>\n",
       "    </tr>\n",
       "    <tr>\n",
       "      <th>12</th>\n",
       "      <td>Alaska Airlines Inc.</td>\n",
       "      <td>26</td>\n",
       "    </tr>\n",
       "    <tr>\n",
       "      <th>13</th>\n",
       "      <td>America West Airlines Inc.</td>\n",
       "      <td>26</td>\n",
       "    </tr>\n",
       "    <tr>\n",
       "      <th>14</th>\n",
       "      <td>Comair Inc.</td>\n",
       "      <td>26</td>\n",
       "    </tr>\n",
       "    <tr>\n",
       "      <th>15</th>\n",
       "      <td>Southwest Airlines Co.</td>\n",
       "      <td>25</td>\n",
       "    </tr>\n",
       "    <tr>\n",
       "      <th>16</th>\n",
       "      <td>JetBlue Airways</td>\n",
       "      <td>25</td>\n",
       "    </tr>\n",
       "    <tr>\n",
       "      <th>17</th>\n",
       "      <td>AirTran Airways Corporation</td>\n",
       "      <td>24</td>\n",
       "    </tr>\n",
       "    <tr>\n",
       "      <th>18</th>\n",
       "      <td>Pinnacle Airlines Inc.</td>\n",
       "      <td>23</td>\n",
       "    </tr>\n",
       "    <tr>\n",
       "      <th>19</th>\n",
       "      <td>ATA Airlines d/b/a ATA</td>\n",
       "      <td>22</td>\n",
       "    </tr>\n",
       "    <tr>\n",
       "      <th>20</th>\n",
       "      <td>Endeavor Air Inc.</td>\n",
       "      <td>21</td>\n",
       "    </tr>\n",
       "    <tr>\n",
       "      <th>21</th>\n",
       "      <td>Spirit Air Lines</td>\n",
       "      <td>19</td>\n",
       "    </tr>\n",
       "    <tr>\n",
       "      <th>22</th>\n",
       "      <td>Envoy Air</td>\n",
       "      <td>19</td>\n",
       "    </tr>\n",
       "    <tr>\n",
       "      <th>23</th>\n",
       "      <td>Virgin America</td>\n",
       "      <td>17</td>\n",
       "    </tr>\n",
       "    <tr>\n",
       "      <th>24</th>\n",
       "      <td>Independence Air</td>\n",
       "      <td>16</td>\n",
       "    </tr>\n",
       "    <tr>\n",
       "      <th>25</th>\n",
       "      <td>Atlantic Coast Airlines</td>\n",
       "      <td>13</td>\n",
       "    </tr>\n",
       "    <tr>\n",
       "      <th>26</th>\n",
       "      <td>Hawaiian Airlines Inc.</td>\n",
       "      <td>8</td>\n",
       "    </tr>\n",
       "    <tr>\n",
       "      <th>27</th>\n",
       "      <td>Aloha Airlines Inc.</td>\n",
       "      <td>2</td>\n",
       "    </tr>\n",
       "  </tbody>\n",
       "</table>\n",
       "</div>"
      ],
      "text/plain": [
       "                         carrier  num_airports\n",
       "0           Delta Air Lines Inc.            29\n",
       "1         American Airlines Inc.            29\n",
       "2          United Air Lines Inc.            29\n",
       "3    Atlantic Southeast Airlines            29\n",
       "4     Continental Air Lines Inc.            29\n",
       "5        Northwest Airlines Inc.            29\n",
       "6       ExpressJet Airlines Inc.            29\n",
       "7          SkyWest Airlines Inc.            28\n",
       "8                US Airways Inc.            28\n",
       "9   American Eagle Airlines Inc.            27\n",
       "10        Frontier Airlines Inc.            27\n",
       "11            Mesa Airlines Inc.            26\n",
       "12          Alaska Airlines Inc.            26\n",
       "13    America West Airlines Inc.            26\n",
       "14                   Comair Inc.            26\n",
       "15        Southwest Airlines Co.            25\n",
       "16               JetBlue Airways            25\n",
       "17   AirTran Airways Corporation            24\n",
       "18        Pinnacle Airlines Inc.            23\n",
       "19        ATA Airlines d/b/a ATA            22\n",
       "20             Endeavor Air Inc.            21\n",
       "21              Spirit Air Lines            19\n",
       "22                     Envoy Air            19\n",
       "23                Virgin America            17\n",
       "24              Independence Air            16\n",
       "25       Atlantic Coast Airlines            13\n",
       "26        Hawaiian Airlines Inc.             8\n",
       "27           Aloha Airlines Inc.             2"
      ]
     },
     "execution_count": 28,
     "metadata": {},
     "output_type": "execute_result"
    }
   ],
   "source": [
    "query10=\"\"\"SELECT carrier,COUNT(DISTINCT Airport_Code) AS num_airports\n",
    "FROM \n",
    "    (SELECT DISTINCT UNNEST(STRING_TO_ARRAY(Carriers_Names, ',')) AS carrier, \n",
    "    Airport_Code FROM statistics) AS carriers_airports\n",
    "GROUP BY carrier\n",
    "ORDER BY num_airports DESC;  \"\"\"\n",
    "airlines_df=pd.read_sql(query10,conn)\n",
    "airlines_df"
   ]
  },
  {
   "cell_type": "code",
   "execution_count": 31,
   "id": "6b83af36",
   "metadata": {},
   "outputs": [
    {
     "data": {
      "image/png": "[encoded data removed]",
      "text/plain": [
       "<Figure size 1000x600 with 1 Axes>"
      ]
     },
     "metadata": {},
     "output_type": "display_data"
    }
   ],
   "source": [
    "# Bar plot showing no of airports associated with each airline\n",
    "plt.figure(figsize=(10, 6))\n",
    "plt.bar(airlines_df['carrier'], airlines_df['num_airports'],color=\"lightblue\")\n",
    "plt.xlabel('Airlines')\n",
    "plt.ylabel('Number of Airports')\n",
    "plt.title('Number of Airports Associated with Each Airline')\n",
    "plt.xticks(rotation=90, ha='right')\n",
    "plt.tight_layout()\n",
    "plt.show()"
   ]
  },
  {
   "cell_type": "markdown",
   "id": "8c0352b6",
   "metadata": {},
   "source": [
    "##### Insights:\n",
    "- Delta Air Lines Inc., American Airlines Inc., United Air Lines Inc., Atlantic Southeast Airlines, Continental Air Lines Inc., and Northwest Airlines Inc. are the top 6 carriers serving the highest number of airports, each serving 29 airports.\n",
    "- Hawaiian Airlines Inc. and Aloha Airlines Inc. serve the fewest airports, with 8 and 2 respectively.\n",
    "The competitive landscape of the airline industry can be inferred from the distribution of airports served by different carriers. Some airlines may prioritize serving a wide range of destinations, while others may focus on specific regions or routes."
   ]
  }
 ],
 "metadata": {
  "kernelspec": {
   "display_name": "Python 3 (ipykernel)",
   "language": "python",
   "name": "python3"
  },
  "language_info": {
   "codemirror_mode": {
    "name": "ipython",
    "version": 3
   },
   "file_extension": ".py",
   "mimetype": "text/x-python",
   "name": "python",
   "nbconvert_exporter": "python",
   "pygments_lexer": "ipython3",
   "version": "3.8.8"
  }
 },
 "nbformat": 4,
 "nbformat_minor": 5
}
