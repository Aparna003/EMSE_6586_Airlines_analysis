{
 "cells": [
  {
   "cell_type": "markdown",
   "id": "46968e83",
   "metadata": {},
   "source": [
    "### Import libraries"
   ]
  },
  {
   "cell_type": "code",
   "execution_count": 1,
   "id": "bcbe8385",
   "metadata": {},
   "outputs": [],
   "source": [
    "import psycopg2\n",
    "import json\n",
    "import requests\n",
    "import pandas as pd\n",
    "import warnings\n",
    "import matplotlib.pyplot as plt\n",
    "import plotly.graph_objects as go\n",
    "warnings.filterwarnings('ignore')"
   ]
  },
  {
   "cell_type": "markdown",
   "id": "9a98ebe2",
   "metadata": {},
   "source": [
    "#### Loading the JSON data \n",
    "- This code retrieves JSON data from a specified URL and writes it to a local file named \"airlines.json\".\n",
    "- It ensures the request is successful before extracting and saving the JSON data."
   ]
  },
  {
   "cell_type": "code",
   "execution_count": 2,
   "id": "7800a161",
   "metadata": {
    "scrolled": true
   },
   "outputs": [],
   "source": [
    "# URL of the JSON data\n",
    "url = \"https://think.cs.vt.edu/corgis/datasets/json/airlines/airlines.json\"\n",
    "response = requests.get(url)\n",
    "if response.status_code == 200:\n",
    "    # Get the JSON data from the response\n",
    "    json_data = response.json()\n",
    "\n",
    "# Write the json data \n",
    "with open('airlines.json','w') as json_file:\n",
    "     json_file.write(response.text)"
   ]
  },
  {
   "cell_type": "markdown",
   "id": "8faaa8a5",
   "metadata": {},
   "source": [
    "### Create connection and database"
   ]
  },
  {
   "cell_type": "code",
   "execution_count": 3,
   "id": "571d4592",
   "metadata": {},
   "outputs": [],
   "source": [
    "#establishing the connection\n",
    "conn = psycopg2.connect(\n",
    "   database=\"postgres\", \n",
    "   user='postgres',\n",
    "   password='password', \n",
    "   host='127.0.0.1',\n",
    "   port= '5432'\n",
    ")\n",
    "conn.autocommit = True\n",
    "\n",
    "#Creating a cursor object using the cursor() method to act as interface to our database\n",
    "cursor = conn.cursor()"
   ]
  },
  {
   "cell_type": "code",
   "execution_count": 4,
   "id": "c5ab4e08",
   "metadata": {},
   "outputs": [
    {
     "name": "stdout",
     "output_type": "stream",
     "text": [
      "Database created successfully........\n"
     ]
    }
   ],
   "source": [
    "#Preparing query to create a database\n",
    "sql = '''CREATE database mydb''';\n",
    "\n",
    "#Creating a database\n",
    "cursor.execute(sql)\n",
    "print(\"Database created successfully........\")"
   ]
  },
  {
   "cell_type": "code",
   "execution_count": 5,
   "id": "6e4e750a",
   "metadata": {},
   "outputs": [],
   "source": [
    "# query=\"\"\"DROP DATABASE mydb\"\"\"\n",
    "# cursor.execute(query)"
   ]
  },
  {
   "cell_type": "markdown",
   "id": "700956f3",
   "metadata": {},
   "source": [
    "### Creating tables  - airports, time and statistics."
   ]
  },
  {
   "cell_type": "code",
   "execution_count": 6,
   "id": "7e274c53",
   "metadata": {},
   "outputs": [],
   "source": [
    "airports_table=\"\"\"CREATE TABLE IF NOT EXISTS airports (\n",
    "    Code VARCHAR(3) PRIMARY KEY,\n",
    "    Name VARCHAR(255)\n",
    ");\"\"\"\n",
    "# Creating the table\n",
    "cursor.execute(airports_table)"
   ]
  },
  {
   "cell_type": "code",
   "execution_count": 7,
   "id": "b42f9c73",
   "metadata": {},
   "outputs": [],
   "source": [
    "time_table=\"\"\"CREATE TABLE IF NOT EXISTS time (\n",
    "    Label VARCHAR(10) PRIMARY KEY,\n",
    "    Month INTEGER,\n",
    "    Month_Name VARCHAR(20),\n",
    "    Year INTEGER\n",
    ");\"\"\"\n",
    "# Creating the table\n",
    "cursor.execute(time_table)"
   ]
  },
  {
   "cell_type": "code",
   "execution_count": 8,
   "id": "99ceb330",
   "metadata": {},
   "outputs": [],
   "source": [
    "stats_table=\"\"\"CREATE TABLE IF NOT EXISTS statistics (\n",
    "   ID SERIAL PRIMARY KEY,\n",
    "        Airport_Code VARCHAR(3) REFERENCES airports(Code),\n",
    "        Time_Label VARCHAR(10) REFERENCES Time(Label),\n",
    "        Delays_Carrier INT,\n",
    "        Delays_Late_Aircraft INT,\n",
    "        Delays_National_Aviation_System INT,\n",
    "        Delays_Security INT,\n",
    "        Delays_Weather INT,\n",
    "        Carriers_Names TEXT,\n",
    "        Carriers_Total INT,\n",
    "        Flights_Cancelled INT,\n",
    "        Flights_Delayed INT,\n",
    "        Flights_Diverted INT,\n",
    "        Flights_On_Time INT,\n",
    "        Flights_Total INT,\n",
    "        Minutes_Delayed_Carrier INT,\n",
    "        Minutes_Delayed_Late_Aircraft INT,\n",
    "        Minutes_Delayed_National_Aviation_System INT,\n",
    "        Minutes_Delayed_Security INT,\n",
    "        Minutes_Delayed_Weather INT,\n",
    "        Minutes_Delayed_Total INT\n",
    ");\"\"\"\n",
    "# Creating the table\n",
    "cursor.execute(stats_table)"
   ]
  },
  {
   "cell_type": "markdown",
   "id": "afd12419",
   "metadata": {},
   "source": [
    "### Data insertion to tables\n",
    "- This function inserts data into three tables: 'Airports', 'Time', and 'Statistics'.\n",
    "- For each entry in the input data, it extracts relevant information and inserts it into the respective tables.\n",
    "- It uses the provided cursor and connection to execute SQL queries and commit changes to the database."
   ]
  },
  {
   "cell_type": "code",
   "execution_count": 9,
   "id": "270c86b4",
   "metadata": {},
   "outputs": [],
   "source": [
    "# Function to insert data into PostgreSQL database\n",
    "def insert_data(data):\n",
    "    \"\"\"\n",
    "    Insert data into the 'Airports', 'Time', and 'Statistics' tables in the database.\n",
    "    For each entry in the input data, it extracts relevant information and inserts it into the respective tables.\n",
    "\n",
    "    Args:\n",
    "    - data (list): A list of dictionaries containing airlines data to be inserted.\n",
    "    - cursor: The cursor object used to execute SQL queries.\n",
    "    - conn: The connection object representing the database connection.\n",
    "\n",
    "    Returns:\n",
    "    - None\n",
    "    \"\"\"\n",
    "    for entry in data:\n",
    "        airport_data = (entry['Airport']['Code'], entry['Airport']['Name'])\n",
    "        cursor.execute(\"\"\" INSERT INTO Airports (Code, Name)\n",
    "        VALUES (%s, %s)\n",
    "        ON CONFLICT DO NOTHING \"\"\", airport_data)\n",
    "        \n",
    "        time_data = (entry['Time']['Label'], entry['Time']['Month'], entry['Time']['Month Name'], entry['Time']['Year'])\n",
    "        cursor.execute(\"\"\"INSERT INTO Time (Label, Month, Month_Name, Year)\n",
    "        VALUES (%s, %s, %s, %s)\n",
    "        ON CONFLICT DO NOTHING\"\"\", time_data)\n",
    "\n",
    "        statistics_data = ( entry['Airport']['Code'], entry['Time']['Label'],\n",
    "        entry['Statistics']['# of Delays']['Carrier'], entry['Statistics']['# of Delays']['Late Aircraft'],\n",
    "        entry['Statistics']['# of Delays']['National Aviation System'], entry['Statistics']['# of Delays']['Security'],\n",
    "        entry['Statistics']['# of Delays']['Weather'],\n",
    "        entry['Statistics']['Carriers']['Names'], entry['Statistics']['Carriers']['Total'],\n",
    "        entry['Statistics']['Flights']['Cancelled'], entry['Statistics']['Flights']['Delayed'],\n",
    "        entry['Statistics']['Flights']['Diverted'], entry['Statistics']['Flights']['On Time'], entry['Statistics']['Flights']['Total'],\n",
    "        entry['Statistics']['Minutes Delayed']['Carrier'], entry['Statistics']['Minutes Delayed']['Late Aircraft'],\n",
    "        entry['Statistics']['Minutes Delayed']['National Aviation System'], entry['Statistics']['Minutes Delayed']['Security'],\n",
    "        entry['Statistics']['Minutes Delayed']['Weather'], entry['Statistics']['Minutes Delayed']['Total'] )\n",
    "        \n",
    "        cursor.execute(\"\"\"INSERT INTO Statistics (\n",
    "            Airport_Code, Time_Label,\n",
    "            Delays_Carrier, Delays_Late_Aircraft, Delays_National_Aviation_System,\n",
    "            Delays_Security, Delays_Weather,\n",
    "            Carriers_Names, Carriers_Total,\n",
    "            Flights_Cancelled, Flights_Delayed, Flights_Diverted, Flights_On_Time, Flights_Total,\n",
    "            Minutes_Delayed_Carrier, Minutes_Delayed_Late_Aircraft, Minutes_Delayed_National_Aviation_System,\n",
    "            Minutes_Delayed_Security, Minutes_Delayed_Weather, Minutes_Delayed_Total\n",
    "        )\n",
    "        VALUES ( %s, %s,%s, %s, %s, %s, %s, %s, %s, %s, %s, %s, %s, %s, %s, %s, %s, %s, %s, %s)\"\"\", statistics_data)\n",
    "        conn.commit()"
   ]
  },
  {
   "cell_type": "code",
   "execution_count": 10,
   "id": "ce7af9e4",
   "metadata": {},
   "outputs": [],
   "source": [
    "# Read the JSON files\n",
    "with open('airlines.json','r') as json_file:\n",
    "    data = json.load(json_file)\n",
    "\n",
    "# Insert table function call\n",
    "insert_data(data)"
   ]
  },
  {
   "cell_type": "markdown",
   "id": "5a966202",
   "metadata": {},
   "source": [
    "### Queries and Analysis"
   ]
  },
  {
   "cell_type": "markdown",
   "id": "2fead773",
   "metadata": {},
   "source": [
    "##### Query 1- Table 1: Airports overview\n",
    "The airport table contains details of all the Airport codes and the airport name lists."
   ]
  },
  {
   "cell_type": "code",
   "execution_count": 11,
   "id": "2d2ebc40",
   "metadata": {},
   "outputs": [
    {
     "data": {
      "text/html": [
       "<div>\n",
       "<style scoped>\n",
       "    .dataframe tbody tr th:only-of-type {\n",
       "        vertical-align: middle;\n",
       "    }\n",
       "\n",
       "    .dataframe tbody tr th {\n",
       "        vertical-align: top;\n",
       "    }\n",
       "\n",
       "    .dataframe thead th {\n",
       "        text-align: right;\n",
       "    }\n",
       "</style>\n",
       "<table border=\"1\" class=\"dataframe\">\n",
       "  <thead>\n",
       "    <tr style=\"text-align: right;\">\n",
       "      <th></th>\n",
       "      <th>code</th>\n",
       "      <th>name</th>\n",
       "    </tr>\n",
       "  </thead>\n",
       "  <tbody>\n",
       "    <tr>\n",
       "      <th>0</th>\n",
       "      <td>ATL</td>\n",
       "      <td>Atlanta, GA: Hartsfield-Jackson Atlanta Intern...</td>\n",
       "    </tr>\n",
       "    <tr>\n",
       "      <th>1</th>\n",
       "      <td>BOS</td>\n",
       "      <td>Boston, MA: Logan International</td>\n",
       "    </tr>\n",
       "    <tr>\n",
       "      <th>2</th>\n",
       "      <td>BWI</td>\n",
       "      <td>Baltimore, MD: Baltimore/Washington Internatio...</td>\n",
       "    </tr>\n",
       "    <tr>\n",
       "      <th>3</th>\n",
       "      <td>CLT</td>\n",
       "      <td>Charlotte, NC: Charlotte Douglas International</td>\n",
       "    </tr>\n",
       "    <tr>\n",
       "      <th>4</th>\n",
       "      <td>DCA</td>\n",
       "      <td>Washington, DC: Ronald Reagan Washington National</td>\n",
       "    </tr>\n",
       "    <tr>\n",
       "      <th>5</th>\n",
       "      <td>DEN</td>\n",
       "      <td>Denver, CO: Denver International</td>\n",
       "    </tr>\n",
       "    <tr>\n",
       "      <th>6</th>\n",
       "      <td>DFW</td>\n",
       "      <td>Dallas/Fort Worth, TX: Dallas/Fort Worth Inter...</td>\n",
       "    </tr>\n",
       "    <tr>\n",
       "      <th>7</th>\n",
       "      <td>DTW</td>\n",
       "      <td>Detroit, MI: Detroit Metro Wayne County</td>\n",
       "    </tr>\n",
       "    <tr>\n",
       "      <th>8</th>\n",
       "      <td>EWR</td>\n",
       "      <td>Newark, NJ: Newark Liberty International</td>\n",
       "    </tr>\n",
       "    <tr>\n",
       "      <th>9</th>\n",
       "      <td>FLL</td>\n",
       "      <td>Fort Lauderdale, FL: Fort Lauderdale-Hollywood...</td>\n",
       "    </tr>\n",
       "    <tr>\n",
       "      <th>10</th>\n",
       "      <td>IAD</td>\n",
       "      <td>Washington, DC: Washington Dulles International</td>\n",
       "    </tr>\n",
       "    <tr>\n",
       "      <th>11</th>\n",
       "      <td>IAH</td>\n",
       "      <td>Houston, TX: George Bush Intercontinental/Houston</td>\n",
       "    </tr>\n",
       "    <tr>\n",
       "      <th>12</th>\n",
       "      <td>JFK</td>\n",
       "      <td>New York, NY: John F. Kennedy International</td>\n",
       "    </tr>\n",
       "    <tr>\n",
       "      <th>13</th>\n",
       "      <td>LAS</td>\n",
       "      <td>Las Vegas, NV: McCarran International</td>\n",
       "    </tr>\n",
       "    <tr>\n",
       "      <th>14</th>\n",
       "      <td>LAX</td>\n",
       "      <td>Los Angeles, CA: Los Angeles International</td>\n",
       "    </tr>\n",
       "    <tr>\n",
       "      <th>15</th>\n",
       "      <td>LGA</td>\n",
       "      <td>New York, NY: LaGuardia</td>\n",
       "    </tr>\n",
       "    <tr>\n",
       "      <th>16</th>\n",
       "      <td>MCO</td>\n",
       "      <td>Orlando, FL: Orlando International</td>\n",
       "    </tr>\n",
       "    <tr>\n",
       "      <th>17</th>\n",
       "      <td>MDW</td>\n",
       "      <td>Chicago, IL: Chicago Midway International</td>\n",
       "    </tr>\n",
       "    <tr>\n",
       "      <th>18</th>\n",
       "      <td>MIA</td>\n",
       "      <td>Miami, FL: Miami International</td>\n",
       "    </tr>\n",
       "    <tr>\n",
       "      <th>19</th>\n",
       "      <td>MSP</td>\n",
       "      <td>Minneapolis, MN: Minneapolis-St Paul Internati...</td>\n",
       "    </tr>\n",
       "    <tr>\n",
       "      <th>20</th>\n",
       "      <td>ORD</td>\n",
       "      <td>Chicago, IL: Chicago O'Hare International</td>\n",
       "    </tr>\n",
       "    <tr>\n",
       "      <th>21</th>\n",
       "      <td>PDX</td>\n",
       "      <td>Portland, OR: Portland International</td>\n",
       "    </tr>\n",
       "    <tr>\n",
       "      <th>22</th>\n",
       "      <td>PHL</td>\n",
       "      <td>Philadelphia, PA: Philadelphia International</td>\n",
       "    </tr>\n",
       "    <tr>\n",
       "      <th>23</th>\n",
       "      <td>PHX</td>\n",
       "      <td>Phoenix, AZ: Phoenix Sky Harbor International</td>\n",
       "    </tr>\n",
       "    <tr>\n",
       "      <th>24</th>\n",
       "      <td>SAN</td>\n",
       "      <td>San Diego, CA: San Diego International</td>\n",
       "    </tr>\n",
       "    <tr>\n",
       "      <th>25</th>\n",
       "      <td>SEA</td>\n",
       "      <td>Seattle, WA: Seattle/Tacoma International</td>\n",
       "    </tr>\n",
       "    <tr>\n",
       "      <th>26</th>\n",
       "      <td>SFO</td>\n",
       "      <td>San Francisco, CA: San Francisco International</td>\n",
       "    </tr>\n",
       "    <tr>\n",
       "      <th>27</th>\n",
       "      <td>SLC</td>\n",
       "      <td>Salt Lake City, UT: Salt Lake City International</td>\n",
       "    </tr>\n",
       "    <tr>\n",
       "      <th>28</th>\n",
       "      <td>TPA</td>\n",
       "      <td>Tampa, FL: Tampa International</td>\n",
       "    </tr>\n",
       "  </tbody>\n",
       "</table>\n",
       "</div>"
      ],
      "text/plain": [
       "   code                                               name\n",
       "0   ATL  Atlanta, GA: Hartsfield-Jackson Atlanta Intern...\n",
       "1   BOS                    Boston, MA: Logan International\n",
       "2   BWI  Baltimore, MD: Baltimore/Washington Internatio...\n",
       "3   CLT     Charlotte, NC: Charlotte Douglas International\n",
       "4   DCA  Washington, DC: Ronald Reagan Washington National\n",
       "5   DEN                   Denver, CO: Denver International\n",
       "6   DFW  Dallas/Fort Worth, TX: Dallas/Fort Worth Inter...\n",
       "7   DTW            Detroit, MI: Detroit Metro Wayne County\n",
       "8   EWR           Newark, NJ: Newark Liberty International\n",
       "9   FLL  Fort Lauderdale, FL: Fort Lauderdale-Hollywood...\n",
       "10  IAD    Washington, DC: Washington Dulles International\n",
       "11  IAH  Houston, TX: George Bush Intercontinental/Houston\n",
       "12  JFK        New York, NY: John F. Kennedy International\n",
       "13  LAS              Las Vegas, NV: McCarran International\n",
       "14  LAX         Los Angeles, CA: Los Angeles International\n",
       "15  LGA                            New York, NY: LaGuardia\n",
       "16  MCO                 Orlando, FL: Orlando International\n",
       "17  MDW          Chicago, IL: Chicago Midway International\n",
       "18  MIA                     Miami, FL: Miami International\n",
       "19  MSP  Minneapolis, MN: Minneapolis-St Paul Internati...\n",
       "20  ORD          Chicago, IL: Chicago O'Hare International\n",
       "21  PDX               Portland, OR: Portland International\n",
       "22  PHL       Philadelphia, PA: Philadelphia International\n",
       "23  PHX      Phoenix, AZ: Phoenix Sky Harbor International\n",
       "24  SAN             San Diego, CA: San Diego International\n",
       "25  SEA          Seattle, WA: Seattle/Tacoma International\n",
       "26  SFO     San Francisco, CA: San Francisco International\n",
       "27  SLC   Salt Lake City, UT: Salt Lake City International\n",
       "28  TPA                     Tampa, FL: Tampa International"
      ]
     },
     "execution_count": 11,
     "metadata": {},
     "output_type": "execute_result"
    }
   ],
   "source": [
    "# Records of airports and codes\n",
    "query1 = \"\"\"SELECT * FROM airports\"\"\"\n",
    "airport_df = pd.read_sql(query1,conn)\n",
    "airport_df"
   ]
  },
  {
   "cell_type": "markdown",
   "id": "84c4e17d",
   "metadata": {},
   "source": [
    "##### Query 2 - Table 2: Time periods overview\n",
    "This table contains the time periods of the airline operations that took place, with fields Label , month, month name and year "
   ]
  },
  {
   "cell_type": "code",
   "execution_count": 12,
   "id": "09619f6c",
   "metadata": {},
   "outputs": [
    {
     "data": {
      "text/html": [
       "<div>\n",
       "<style scoped>\n",
       "    .dataframe tbody tr th:only-of-type {\n",
       "        vertical-align: middle;\n",
       "    }\n",
       "\n",
       "    .dataframe tbody tr th {\n",
       "        vertical-align: top;\n",
       "    }\n",
       "\n",
       "    .dataframe thead th {\n",
       "        text-align: right;\n",
       "    }\n",
       "</style>\n",
       "<table border=\"1\" class=\"dataframe\">\n",
       "  <thead>\n",
       "    <tr style=\"text-align: right;\">\n",
       "      <th></th>\n",
       "      <th>label</th>\n",
       "      <th>month</th>\n",
       "      <th>month_name</th>\n",
       "      <th>year</th>\n",
       "    </tr>\n",
       "  </thead>\n",
       "  <tbody>\n",
       "    <tr>\n",
       "      <th>0</th>\n",
       "      <td>2003/06</td>\n",
       "      <td>6</td>\n",
       "      <td>June</td>\n",
       "      <td>2003</td>\n",
       "    </tr>\n",
       "    <tr>\n",
       "      <th>1</th>\n",
       "      <td>2003/07</td>\n",
       "      <td>7</td>\n",
       "      <td>July</td>\n",
       "      <td>2003</td>\n",
       "    </tr>\n",
       "    <tr>\n",
       "      <th>2</th>\n",
       "      <td>2003/08</td>\n",
       "      <td>8</td>\n",
       "      <td>August</td>\n",
       "      <td>2003</td>\n",
       "    </tr>\n",
       "    <tr>\n",
       "      <th>3</th>\n",
       "      <td>2003/09</td>\n",
       "      <td>9</td>\n",
       "      <td>September</td>\n",
       "      <td>2003</td>\n",
       "    </tr>\n",
       "    <tr>\n",
       "      <th>4</th>\n",
       "      <td>2003/10</td>\n",
       "      <td>10</td>\n",
       "      <td>October</td>\n",
       "      <td>2003</td>\n",
       "    </tr>\n",
       "    <tr>\n",
       "      <th>...</th>\n",
       "      <td>...</td>\n",
       "      <td>...</td>\n",
       "      <td>...</td>\n",
       "      <td>...</td>\n",
       "    </tr>\n",
       "    <tr>\n",
       "      <th>147</th>\n",
       "      <td>2015/09</td>\n",
       "      <td>9</td>\n",
       "      <td>September</td>\n",
       "      <td>2015</td>\n",
       "    </tr>\n",
       "    <tr>\n",
       "      <th>148</th>\n",
       "      <td>2015/10</td>\n",
       "      <td>10</td>\n",
       "      <td>October</td>\n",
       "      <td>2015</td>\n",
       "    </tr>\n",
       "    <tr>\n",
       "      <th>149</th>\n",
       "      <td>2015/11</td>\n",
       "      <td>11</td>\n",
       "      <td>November</td>\n",
       "      <td>2015</td>\n",
       "    </tr>\n",
       "    <tr>\n",
       "      <th>150</th>\n",
       "      <td>2015/12</td>\n",
       "      <td>12</td>\n",
       "      <td>December</td>\n",
       "      <td>2015</td>\n",
       "    </tr>\n",
       "    <tr>\n",
       "      <th>151</th>\n",
       "      <td>2016/01</td>\n",
       "      <td>1</td>\n",
       "      <td>January</td>\n",
       "      <td>2016</td>\n",
       "    </tr>\n",
       "  </tbody>\n",
       "</table>\n",
       "<p>152 rows × 4 columns</p>\n",
       "</div>"
      ],
      "text/plain": [
       "       label  month month_name  year\n",
       "0    2003/06      6       June  2003\n",
       "1    2003/07      7       July  2003\n",
       "2    2003/08      8     August  2003\n",
       "3    2003/09      9  September  2003\n",
       "4    2003/10     10    October  2003\n",
       "..       ...    ...        ...   ...\n",
       "147  2015/09      9  September  2015\n",
       "148  2015/10     10    October  2015\n",
       "149  2015/11     11   November  2015\n",
       "150  2015/12     12   December  2015\n",
       "151  2016/01      1    January  2016\n",
       "\n",
       "[152 rows x 4 columns]"
      ]
     },
     "execution_count": 12,
     "metadata": {},
     "output_type": "execute_result"
    }
   ],
   "source": [
    "# Table containing recorded time periods of airline operations\n",
    "query2 = \"\"\"SELECT * FROM time\"\"\"\n",
    "time_df = pd.read_sql(query2,conn)\n",
    "time_df"
   ]
  },
  {
   "cell_type": "markdown",
   "id": "c3ec8db6",
   "metadata": {},
   "source": [
    "##### Query 4 - Table 3 : Statistics overview\n",
    "This table presents various statistics related to flights, including delays, on-time operations, total flights, and diversions, etc."
   ]
  },
  {
   "cell_type": "code",
   "execution_count": 13,
   "id": "5ae04860",
   "metadata": {},
   "outputs": [
    {
     "data": {
      "text/html": [
       "<div>\n",
       "<style scoped>\n",
       "    .dataframe tbody tr th:only-of-type {\n",
       "        vertical-align: middle;\n",
       "    }\n",
       "\n",
       "    .dataframe tbody tr th {\n",
       "        vertical-align: top;\n",
       "    }\n",
       "\n",
       "    .dataframe thead th {\n",
       "        text-align: right;\n",
       "    }\n",
       "</style>\n",
       "<table border=\"1\" class=\"dataframe\">\n",
       "  <thead>\n",
       "    <tr style=\"text-align: right;\">\n",
       "      <th></th>\n",
       "      <th>id</th>\n",
       "      <th>airport_code</th>\n",
       "      <th>time_label</th>\n",
       "      <th>delays_carrier</th>\n",
       "      <th>delays_late_aircraft</th>\n",
       "      <th>delays_national_aviation_system</th>\n",
       "      <th>delays_security</th>\n",
       "      <th>delays_weather</th>\n",
       "      <th>carriers_names</th>\n",
       "      <th>carriers_total</th>\n",
       "      <th>...</th>\n",
       "      <th>flights_delayed</th>\n",
       "      <th>flights_diverted</th>\n",
       "      <th>flights_on_time</th>\n",
       "      <th>flights_total</th>\n",
       "      <th>minutes_delayed_carrier</th>\n",
       "      <th>minutes_delayed_late_aircraft</th>\n",
       "      <th>minutes_delayed_national_aviation_system</th>\n",
       "      <th>minutes_delayed_security</th>\n",
       "      <th>minutes_delayed_weather</th>\n",
       "      <th>minutes_delayed_total</th>\n",
       "    </tr>\n",
       "  </thead>\n",
       "  <tbody>\n",
       "    <tr>\n",
       "      <th>0</th>\n",
       "      <td>1</td>\n",
       "      <td>ATL</td>\n",
       "      <td>2003/06</td>\n",
       "      <td>1009</td>\n",
       "      <td>1275</td>\n",
       "      <td>3217</td>\n",
       "      <td>17</td>\n",
       "      <td>328</td>\n",
       "      <td>American Airlines Inc.,JetBlue Airways,Contine...</td>\n",
       "      <td>11</td>\n",
       "      <td>...</td>\n",
       "      <td>5843</td>\n",
       "      <td>27</td>\n",
       "      <td>23974</td>\n",
       "      <td>30060</td>\n",
       "      <td>61606</td>\n",
       "      <td>68335</td>\n",
       "      <td>118831</td>\n",
       "      <td>518</td>\n",
       "      <td>19474</td>\n",
       "      <td>268764</td>\n",
       "    </tr>\n",
       "    <tr>\n",
       "      <th>1</th>\n",
       "      <td>2</td>\n",
       "      <td>BOS</td>\n",
       "      <td>2003/06</td>\n",
       "      <td>374</td>\n",
       "      <td>495</td>\n",
       "      <td>685</td>\n",
       "      <td>3</td>\n",
       "      <td>66</td>\n",
       "      <td>American Airlines Inc.,Alaska Airlines Inc.,Co...</td>\n",
       "      <td>14</td>\n",
       "      <td>...</td>\n",
       "      <td>1623</td>\n",
       "      <td>3</td>\n",
       "      <td>7875</td>\n",
       "      <td>9639</td>\n",
       "      <td>20319</td>\n",
       "      <td>28189</td>\n",
       "      <td>24400</td>\n",
       "      <td>99</td>\n",
       "      <td>4160</td>\n",
       "      <td>77167</td>\n",
       "    </tr>\n",
       "    <tr>\n",
       "      <th>2</th>\n",
       "      <td>3</td>\n",
       "      <td>BWI</td>\n",
       "      <td>2003/06</td>\n",
       "      <td>296</td>\n",
       "      <td>477</td>\n",
       "      <td>389</td>\n",
       "      <td>8</td>\n",
       "      <td>78</td>\n",
       "      <td>American Airlines Inc.,Continental Air Lines I...</td>\n",
       "      <td>11</td>\n",
       "      <td>...</td>\n",
       "      <td>1245</td>\n",
       "      <td>15</td>\n",
       "      <td>6998</td>\n",
       "      <td>8287</td>\n",
       "      <td>13635</td>\n",
       "      <td>26810</td>\n",
       "      <td>17556</td>\n",
       "      <td>278</td>\n",
       "      <td>6201</td>\n",
       "      <td>64480</td>\n",
       "    </tr>\n",
       "    <tr>\n",
       "      <th>3</th>\n",
       "      <td>4</td>\n",
       "      <td>CLT</td>\n",
       "      <td>2003/06</td>\n",
       "      <td>300</td>\n",
       "      <td>472</td>\n",
       "      <td>735</td>\n",
       "      <td>2</td>\n",
       "      <td>54</td>\n",
       "      <td>American Airlines Inc.,Continental Air Lines I...</td>\n",
       "      <td>11</td>\n",
       "      <td>...</td>\n",
       "      <td>1562</td>\n",
       "      <td>14</td>\n",
       "      <td>7021</td>\n",
       "      <td>8670</td>\n",
       "      <td>14763</td>\n",
       "      <td>23379</td>\n",
       "      <td>23804</td>\n",
       "      <td>127</td>\n",
       "      <td>3792</td>\n",
       "      <td>65865</td>\n",
       "    </tr>\n",
       "    <tr>\n",
       "      <th>4</th>\n",
       "      <td>5</td>\n",
       "      <td>DCA</td>\n",
       "      <td>2003/06</td>\n",
       "      <td>283</td>\n",
       "      <td>268</td>\n",
       "      <td>487</td>\n",
       "      <td>4</td>\n",
       "      <td>58</td>\n",
       "      <td>American Airlines Inc.,Alaska Airlines Inc.,Co...</td>\n",
       "      <td>13</td>\n",
       "      <td>...</td>\n",
       "      <td>1100</td>\n",
       "      <td>18</td>\n",
       "      <td>5321</td>\n",
       "      <td>6513</td>\n",
       "      <td>13775</td>\n",
       "      <td>13712</td>\n",
       "      <td>20999</td>\n",
       "      <td>120</td>\n",
       "      <td>4141</td>\n",
       "      <td>52747</td>\n",
       "    </tr>\n",
       "    <tr>\n",
       "      <th>...</th>\n",
       "      <td>...</td>\n",
       "      <td>...</td>\n",
       "      <td>...</td>\n",
       "      <td>...</td>\n",
       "      <td>...</td>\n",
       "      <td>...</td>\n",
       "      <td>...</td>\n",
       "      <td>...</td>\n",
       "      <td>...</td>\n",
       "      <td>...</td>\n",
       "      <td>...</td>\n",
       "      <td>...</td>\n",
       "      <td>...</td>\n",
       "      <td>...</td>\n",
       "      <td>...</td>\n",
       "      <td>...</td>\n",
       "      <td>...</td>\n",
       "      <td>...</td>\n",
       "      <td>...</td>\n",
       "      <td>...</td>\n",
       "      <td>...</td>\n",
       "    </tr>\n",
       "    <tr>\n",
       "      <th>39667</th>\n",
       "      <td>39668</td>\n",
       "      <td>SAN</td>\n",
       "      <td>2016/01</td>\n",
       "      <td>280</td>\n",
       "      <td>397</td>\n",
       "      <td>171</td>\n",
       "      <td>2</td>\n",
       "      <td>20</td>\n",
       "      <td>American Airlines Inc.,Alaska Airlines Inc.,Je...</td>\n",
       "      <td>11</td>\n",
       "      <td>...</td>\n",
       "      <td>871</td>\n",
       "      <td>18</td>\n",
       "      <td>5030</td>\n",
       "      <td>6016</td>\n",
       "      <td>15482</td>\n",
       "      <td>23023</td>\n",
       "      <td>6021</td>\n",
       "      <td>79</td>\n",
       "      <td>1601</td>\n",
       "      <td>46206</td>\n",
       "    </tr>\n",
       "    <tr>\n",
       "      <th>39668</th>\n",
       "      <td>39669</td>\n",
       "      <td>SEA</td>\n",
       "      <td>2016/01</td>\n",
       "      <td>357</td>\n",
       "      <td>513</td>\n",
       "      <td>351</td>\n",
       "      <td>2</td>\n",
       "      <td>50</td>\n",
       "      <td>American Airlines Inc.,Alaska Airlines Inc.,Je...</td>\n",
       "      <td>10</td>\n",
       "      <td>...</td>\n",
       "      <td>1274</td>\n",
       "      <td>31</td>\n",
       "      <td>8330</td>\n",
       "      <td>9739</td>\n",
       "      <td>25461</td>\n",
       "      <td>32693</td>\n",
       "      <td>11466</td>\n",
       "      <td>73</td>\n",
       "      <td>4324</td>\n",
       "      <td>74017</td>\n",
       "    </tr>\n",
       "    <tr>\n",
       "      <th>39669</th>\n",
       "      <td>39670</td>\n",
       "      <td>SFO</td>\n",
       "      <td>2016/01</td>\n",
       "      <td>560</td>\n",
       "      <td>947</td>\n",
       "      <td>2194</td>\n",
       "      <td>2</td>\n",
       "      <td>119</td>\n",
       "      <td>American Airlines Inc.,Alaska Airlines Inc.,Je...</td>\n",
       "      <td>10</td>\n",
       "      <td>...</td>\n",
       "      <td>3825</td>\n",
       "      <td>20</td>\n",
       "      <td>8912</td>\n",
       "      <td>13206</td>\n",
       "      <td>43641</td>\n",
       "      <td>72557</td>\n",
       "      <td>153416</td>\n",
       "      <td>66</td>\n",
       "      <td>8930</td>\n",
       "      <td>278610</td>\n",
       "    </tr>\n",
       "    <tr>\n",
       "      <th>39670</th>\n",
       "      <td>39671</td>\n",
       "      <td>SLC</td>\n",
       "      <td>2016/01</td>\n",
       "      <td>338</td>\n",
       "      <td>540</td>\n",
       "      <td>253</td>\n",
       "      <td>3</td>\n",
       "      <td>38</td>\n",
       "      <td>American Airlines Inc.,Alaska Airlines Inc.,Je...</td>\n",
       "      <td>8</td>\n",
       "      <td>...</td>\n",
       "      <td>1175</td>\n",
       "      <td>14</td>\n",
       "      <td>7426</td>\n",
       "      <td>8699</td>\n",
       "      <td>32066</td>\n",
       "      <td>33682</td>\n",
       "      <td>8057</td>\n",
       "      <td>57</td>\n",
       "      <td>3116</td>\n",
       "      <td>76978</td>\n",
       "    </tr>\n",
       "    <tr>\n",
       "      <th>39671</th>\n",
       "      <td>39672</td>\n",
       "      <td>TPA</td>\n",
       "      <td>2016/01</td>\n",
       "      <td>410</td>\n",
       "      <td>342</td>\n",
       "      <td>312</td>\n",
       "      <td>2</td>\n",
       "      <td>27</td>\n",
       "      <td>American Airlines Inc.,Alaska Airlines Inc.,Je...</td>\n",
       "      <td>8</td>\n",
       "      <td>...</td>\n",
       "      <td>1095</td>\n",
       "      <td>7</td>\n",
       "      <td>4748</td>\n",
       "      <td>5996</td>\n",
       "      <td>22557</td>\n",
       "      <td>21164</td>\n",
       "      <td>11423</td>\n",
       "      <td>37</td>\n",
       "      <td>2593</td>\n",
       "      <td>57774</td>\n",
       "    </tr>\n",
       "  </tbody>\n",
       "</table>\n",
       "<p>39672 rows × 21 columns</p>\n",
       "</div>"
      ],
      "text/plain": [
       "          id airport_code time_label  delays_carrier  delays_late_aircraft  \\\n",
       "0          1          ATL    2003/06            1009                  1275   \n",
       "1          2          BOS    2003/06             374                   495   \n",
       "2          3          BWI    2003/06             296                   477   \n",
       "3          4          CLT    2003/06             300                   472   \n",
       "4          5          DCA    2003/06             283                   268   \n",
       "...      ...          ...        ...             ...                   ...   \n",
       "39667  39668          SAN    2016/01             280                   397   \n",
       "39668  39669          SEA    2016/01             357                   513   \n",
       "39669  39670          SFO    2016/01             560                   947   \n",
       "39670  39671          SLC    2016/01             338                   540   \n",
       "39671  39672          TPA    2016/01             410                   342   \n",
       "\n",
       "       delays_national_aviation_system  delays_security  delays_weather  \\\n",
       "0                                 3217               17             328   \n",
       "1                                  685                3              66   \n",
       "2                                  389                8              78   \n",
       "3                                  735                2              54   \n",
       "4                                  487                4              58   \n",
       "...                                ...              ...             ...   \n",
       "39667                              171                2              20   \n",
       "39668                              351                2              50   \n",
       "39669                             2194                2             119   \n",
       "39670                              253                3              38   \n",
       "39671                              312                2              27   \n",
       "\n",
       "                                          carriers_names  carriers_total  ...  \\\n",
       "0      American Airlines Inc.,JetBlue Airways,Contine...              11  ...   \n",
       "1      American Airlines Inc.,Alaska Airlines Inc.,Co...              14  ...   \n",
       "2      American Airlines Inc.,Continental Air Lines I...              11  ...   \n",
       "3      American Airlines Inc.,Continental Air Lines I...              11  ...   \n",
       "4      American Airlines Inc.,Alaska Airlines Inc.,Co...              13  ...   \n",
       "...                                                  ...             ...  ...   \n",
       "39667  American Airlines Inc.,Alaska Airlines Inc.,Je...              11  ...   \n",
       "39668  American Airlines Inc.,Alaska Airlines Inc.,Je...              10  ...   \n",
       "39669  American Airlines Inc.,Alaska Airlines Inc.,Je...              10  ...   \n",
       "39670  American Airlines Inc.,Alaska Airlines Inc.,Je...               8  ...   \n",
       "39671  American Airlines Inc.,Alaska Airlines Inc.,Je...               8  ...   \n",
       "\n",
       "       flights_delayed  flights_diverted  flights_on_time  flights_total  \\\n",
       "0                 5843                27            23974          30060   \n",
       "1                 1623                 3             7875           9639   \n",
       "2                 1245                15             6998           8287   \n",
       "3                 1562                14             7021           8670   \n",
       "4                 1100                18             5321           6513   \n",
       "...                ...               ...              ...            ...   \n",
       "39667              871                18             5030           6016   \n",
       "39668             1274                31             8330           9739   \n",
       "39669             3825                20             8912          13206   \n",
       "39670             1175                14             7426           8699   \n",
       "39671             1095                 7             4748           5996   \n",
       "\n",
       "       minutes_delayed_carrier  minutes_delayed_late_aircraft  \\\n",
       "0                        61606                          68335   \n",
       "1                        20319                          28189   \n",
       "2                        13635                          26810   \n",
       "3                        14763                          23379   \n",
       "4                        13775                          13712   \n",
       "...                        ...                            ...   \n",
       "39667                    15482                          23023   \n",
       "39668                    25461                          32693   \n",
       "39669                    43641                          72557   \n",
       "39670                    32066                          33682   \n",
       "39671                    22557                          21164   \n",
       "\n",
       "       minutes_delayed_national_aviation_system  minutes_delayed_security  \\\n",
       "0                                        118831                       518   \n",
       "1                                         24400                        99   \n",
       "2                                         17556                       278   \n",
       "3                                         23804                       127   \n",
       "4                                         20999                       120   \n",
       "...                                         ...                       ...   \n",
       "39667                                      6021                        79   \n",
       "39668                                     11466                        73   \n",
       "39669                                    153416                        66   \n",
       "39670                                      8057                        57   \n",
       "39671                                     11423                        37   \n",
       "\n",
       "       minutes_delayed_weather  minutes_delayed_total  \n",
       "0                        19474                 268764  \n",
       "1                         4160                  77167  \n",
       "2                         6201                  64480  \n",
       "3                         3792                  65865  \n",
       "4                         4141                  52747  \n",
       "...                        ...                    ...  \n",
       "39667                     1601                  46206  \n",
       "39668                     4324                  74017  \n",
       "39669                     8930                 278610  \n",
       "39670                     3116                  76978  \n",
       "39671                     2593                  57774  \n",
       "\n",
       "[39672 rows x 21 columns]"
      ]
     },
     "execution_count": 13,
     "metadata": {},
     "output_type": "execute_result"
    }
   ],
   "source": [
    "# Statistics table with no of delays, total on time flight etc of airlines\n",
    "query3 = \"\"\"SELECT * FROM statistics\"\"\"\n",
    "stats_df = pd.read_sql(query3,conn)\n",
    "stats_df"
   ]
  },
  {
   "cell_type": "code",
   "execution_count": 14,
   "id": "b68aa9f9",
   "metadata": {},
   "outputs": [
    {
     "data": {
      "text/plain": [
       "Index(['id', 'airport_code', 'time_label', 'delays_carrier',\n",
       "       'delays_late_aircraft', 'delays_national_aviation_system',\n",
       "       'delays_security', 'delays_weather', 'carriers_names', 'carriers_total',\n",
       "       'flights_cancelled', 'flights_delayed', 'flights_diverted',\n",
       "       'flights_on_time', 'flights_total', 'minutes_delayed_carrier',\n",
       "       'minutes_delayed_late_aircraft',\n",
       "       'minutes_delayed_national_aviation_system', 'minutes_delayed_security',\n",
       "       'minutes_delayed_weather', 'minutes_delayed_total'],\n",
       "      dtype='object')"
      ]
     },
     "execution_count": 14,
     "metadata": {},
     "output_type": "execute_result"
    }
   ],
   "source": [
    "stats_df.columns"
   ]
  },
  {
   "cell_type": "markdown",
   "id": "37df6a5e",
   "metadata": {},
   "source": [
    "##### Query 4: Trends of total flights over specific time periods"
   ]
  },
  {
   "cell_type": "code",
   "execution_count": 15,
   "id": "b08f7357",
   "metadata": {},
   "outputs": [
    {
     "data": {
      "text/html": [
       "<div>\n",
       "<style scoped>\n",
       "    .dataframe tbody tr th:only-of-type {\n",
       "        vertical-align: middle;\n",
       "    }\n",
       "\n",
       "    .dataframe tbody tr th {\n",
       "        vertical-align: top;\n",
       "    }\n",
       "\n",
       "    .dataframe thead th {\n",
       "        text-align: right;\n",
       "    }\n",
       "</style>\n",
       "<table border=\"1\" class=\"dataframe\">\n",
       "  <thead>\n",
       "    <tr style=\"text-align: right;\">\n",
       "      <th></th>\n",
       "      <th>date</th>\n",
       "      <th>total_flights</th>\n",
       "    </tr>\n",
       "  </thead>\n",
       "  <tbody>\n",
       "    <tr>\n",
       "      <th>0</th>\n",
       "      <td>2003/06</td>\n",
       "      <td>2991060</td>\n",
       "    </tr>\n",
       "    <tr>\n",
       "      <th>1</th>\n",
       "      <td>2003/07</td>\n",
       "      <td>3117492</td>\n",
       "    </tr>\n",
       "    <tr>\n",
       "      <th>2</th>\n",
       "      <td>2003/08</td>\n",
       "      <td>3111471</td>\n",
       "    </tr>\n",
       "    <tr>\n",
       "      <th>3</th>\n",
       "      <td>2003/09</td>\n",
       "      <td>2946951</td>\n",
       "    </tr>\n",
       "    <tr>\n",
       "      <th>4</th>\n",
       "      <td>2003/10</td>\n",
       "      <td>3093984</td>\n",
       "    </tr>\n",
       "    <tr>\n",
       "      <th>...</th>\n",
       "      <td>...</td>\n",
       "      <td>...</td>\n",
       "    </tr>\n",
       "    <tr>\n",
       "      <th>147</th>\n",
       "      <td>2015/09</td>\n",
       "      <td>2790648</td>\n",
       "    </tr>\n",
       "    <tr>\n",
       "      <th>148</th>\n",
       "      <td>2015/10</td>\n",
       "      <td>2918988</td>\n",
       "    </tr>\n",
       "    <tr>\n",
       "      <th>149</th>\n",
       "      <td>2015/11</td>\n",
       "      <td>2795967</td>\n",
       "    </tr>\n",
       "    <tr>\n",
       "      <th>150</th>\n",
       "      <td>2015/12</td>\n",
       "      <td>2870631</td>\n",
       "    </tr>\n",
       "    <tr>\n",
       "      <th>151</th>\n",
       "      <td>2016/01</td>\n",
       "      <td>2687706</td>\n",
       "    </tr>\n",
       "  </tbody>\n",
       "</table>\n",
       "<p>152 rows × 2 columns</p>\n",
       "</div>"
      ],
      "text/plain": [
       "        date  total_flights\n",
       "0    2003/06        2991060\n",
       "1    2003/07        3117492\n",
       "2    2003/08        3111471\n",
       "3    2003/09        2946951\n",
       "4    2003/10        3093984\n",
       "..       ...            ...\n",
       "147  2015/09        2790648\n",
       "148  2015/10        2918988\n",
       "149  2015/11        2795967\n",
       "150  2015/12        2870631\n",
       "151  2016/01        2687706\n",
       "\n",
       "[152 rows x 2 columns]"
      ]
     },
     "execution_count": 15,
     "metadata": {},
     "output_type": "execute_result"
    }
   ],
   "source": [
    "query4=\"\"\"SELECT time_label as Date, SUM(Flights_Total) AS Total_Flights\n",
    "FROM Statistics\n",
    "GROUP BY Date\n",
    "ORDER BY Date;\n",
    "\"\"\"\n",
    "\n",
    "total_flights_df = pd.read_sql(query4,conn)\n",
    "total_flights_df"
   ]
  },
  {
   "cell_type": "markdown",
   "id": "026232ce",
   "metadata": {},
   "source": [
    "##### Query 5: Trend of total no of flights operating over different years"
   ]
  },
  {
   "cell_type": "code",
   "execution_count": 16,
   "id": "1f05f621",
   "metadata": {},
   "outputs": [
    {
     "data": {
      "image/png": "[encoded data removed]",
      "text/plain": [
       "<Figure size 1000x600 with 1 Axes>"
      ]
     },
     "metadata": {},
     "output_type": "display_data"
    }
   ],
   "source": [
    "query5= \"\"\"SELECT t.year, SUM(s.flights_total) AS Total_Flights FROM Time t\n",
    "    JOIN Statistics s ON t.Label = s.time_label\n",
    "    GROUP BY t.year\n",
    "    ORDER BY t.year\"\"\"\n",
    "flight_trends= pd.read_sql(query5,conn)\n",
    "flight_trends\n",
    "plt.figure(figsize=(10, 6))\n",
    "plt.plot(flight_trends['year'], flight_trends['total_flights'],marker='o',linestyle='-')\n",
    "\n",
    "plt.title('Yearly Trend of Total Flights')\n",
    "plt.xlabel('Year')\n",
    "plt.ylabel('Total Flights')\n",
    "plt.grid(True)\n",
    "plt.tight_layout()\n",
    "plt.show()"
   ]
  },
  {
   "cell_type": "markdown",
   "id": "2e7b5172",
   "metadata": {},
   "source": [
    "##### Query 6: Average flights delayed per month over the years"
   ]
  },
  {
   "cell_type": "code",
   "execution_count": 17,
   "id": "6dce0051",
   "metadata": {},
   "outputs": [
    {
     "data": {
      "text/html": [
       "<div>\n",
       "<style scoped>\n",
       "    .dataframe tbody tr th:only-of-type {\n",
       "        vertical-align: middle;\n",
       "    }\n",
       "\n",
       "    .dataframe tbody tr th {\n",
       "        vertical-align: top;\n",
       "    }\n",
       "\n",
       "    .dataframe thead th {\n",
       "        text-align: right;\n",
       "    }\n",
       "</style>\n",
       "<table border=\"1\" class=\"dataframe\">\n",
       "  <thead>\n",
       "    <tr style=\"text-align: right;\">\n",
       "      <th></th>\n",
       "      <th>year</th>\n",
       "      <th>month</th>\n",
       "      <th>avg_delayed_flights_per_month</th>\n",
       "    </tr>\n",
       "  </thead>\n",
       "  <tbody>\n",
       "    <tr>\n",
       "      <th>0</th>\n",
       "      <td>2003</td>\n",
       "      <td>6</td>\n",
       "      <td>1903.448276</td>\n",
       "    </tr>\n",
       "    <tr>\n",
       "      <th>1</th>\n",
       "      <td>2003</td>\n",
       "      <td>7</td>\n",
       "      <td>2198.137931</td>\n",
       "    </tr>\n",
       "    <tr>\n",
       "      <th>2</th>\n",
       "      <td>2003</td>\n",
       "      <td>8</td>\n",
       "      <td>2285.655172</td>\n",
       "    </tr>\n",
       "    <tr>\n",
       "      <th>3</th>\n",
       "      <td>2003</td>\n",
       "      <td>9</td>\n",
       "      <td>1465.965517</td>\n",
       "    </tr>\n",
       "    <tr>\n",
       "      <th>4</th>\n",
       "      <td>2003</td>\n",
       "      <td>10</td>\n",
       "      <td>1501.551724</td>\n",
       "    </tr>\n",
       "    <tr>\n",
       "      <th>...</th>\n",
       "      <td>...</td>\n",
       "      <td>...</td>\n",
       "      <td>...</td>\n",
       "    </tr>\n",
       "    <tr>\n",
       "      <th>147</th>\n",
       "      <td>2015</td>\n",
       "      <td>9</td>\n",
       "      <td>1408.620690</td>\n",
       "    </tr>\n",
       "    <tr>\n",
       "      <th>148</th>\n",
       "      <td>2015</td>\n",
       "      <td>10</td>\n",
       "      <td>1390.758621</td>\n",
       "    </tr>\n",
       "    <tr>\n",
       "      <th>149</th>\n",
       "      <td>2015</td>\n",
       "      <td>11</td>\n",
       "      <td>1611.034483</td>\n",
       "    </tr>\n",
       "    <tr>\n",
       "      <th>150</th>\n",
       "      <td>2015</td>\n",
       "      <td>12</td>\n",
       "      <td>2250.275862</td>\n",
       "    </tr>\n",
       "    <tr>\n",
       "      <th>151</th>\n",
       "      <td>2016</td>\n",
       "      <td>1</td>\n",
       "      <td>1656.068966</td>\n",
       "    </tr>\n",
       "  </tbody>\n",
       "</table>\n",
       "<p>152 rows × 3 columns</p>\n",
       "</div>"
      ],
      "text/plain": [
       "     year  month  avg_delayed_flights_per_month\n",
       "0    2003      6                    1903.448276\n",
       "1    2003      7                    2198.137931\n",
       "2    2003      8                    2285.655172\n",
       "3    2003      9                    1465.965517\n",
       "4    2003     10                    1501.551724\n",
       "..    ...    ...                            ...\n",
       "147  2015      9                    1408.620690\n",
       "148  2015     10                    1390.758621\n",
       "149  2015     11                    1611.034483\n",
       "150  2015     12                    2250.275862\n",
       "151  2016      1                    1656.068966\n",
       "\n",
       "[152 rows x 3 columns]"
      ]
     },
     "execution_count": 17,
     "metadata": {},
     "output_type": "execute_result"
    }
   ],
   "source": [
    "query6 = \"\"\"SELECT t.Year, t.Month, AVG(s.Flights_Delayed) AS Avg_Delayed_Flights_Per_Month\n",
    "FROM Time t\n",
    "JOIN Statistics s ON t.Label = s.Time_Label\n",
    "GROUP BY t.Year, t.Month\n",
    "ORDER BY t.Year, t.Month;\n",
    "\"\"\"\n",
    "\n",
    "avg_delays_df= pd.read_sql(query6, conn)\n",
    "avg_delays_df"
   ]
  },
  {
   "cell_type": "markdown",
   "id": "192788a7",
   "metadata": {},
   "source": [
    "##### Query 7:Airports with highest total minutes of delays including all delay factors"
   ]
  },
  {
   "cell_type": "code",
   "execution_count": 26,
   "id": "f8111034",
   "metadata": {},
   "outputs": [
    {
     "data": {
      "text/html": [
       "<div>\n",
       "<style scoped>\n",
       "    .dataframe tbody tr th:only-of-type {\n",
       "        vertical-align: middle;\n",
       "    }\n",
       "\n",
       "    .dataframe tbody tr th {\n",
       "        vertical-align: top;\n",
       "    }\n",
       "\n",
       "    .dataframe thead th {\n",
       "        text-align: right;\n",
       "    }\n",
       "</style>\n",
       "<table border=\"1\" class=\"dataframe\">\n",
       "  <thead>\n",
       "    <tr style=\"text-align: right;\">\n",
       "      <th></th>\n",
       "      <th>airport_code</th>\n",
       "      <th>total_delayed_minutes</th>\n",
       "    </tr>\n",
       "  </thead>\n",
       "  <tbody>\n",
       "    <tr>\n",
       "      <th>0</th>\n",
       "      <td>ATL</td>\n",
       "      <td>9472023</td>\n",
       "    </tr>\n",
       "    <tr>\n",
       "      <th>1</th>\n",
       "      <td>ORD</td>\n",
       "      <td>8864694</td>\n",
       "    </tr>\n",
       "    <tr>\n",
       "      <th>2</th>\n",
       "      <td>DFW</td>\n",
       "      <td>5918643</td>\n",
       "    </tr>\n",
       "    <tr>\n",
       "      <th>3</th>\n",
       "      <td>LAX</td>\n",
       "      <td>4817367</td>\n",
       "    </tr>\n",
       "    <tr>\n",
       "      <th>4</th>\n",
       "      <td>DEN</td>\n",
       "      <td>4556142</td>\n",
       "    </tr>\n",
       "    <tr>\n",
       "      <th>5</th>\n",
       "      <td>EWR</td>\n",
       "      <td>4379400</td>\n",
       "    </tr>\n",
       "    <tr>\n",
       "      <th>6</th>\n",
       "      <td>SFO</td>\n",
       "      <td>4243104</td>\n",
       "    </tr>\n",
       "    <tr>\n",
       "      <th>7</th>\n",
       "      <td>IAH</td>\n",
       "      <td>3893517</td>\n",
       "    </tr>\n",
       "    <tr>\n",
       "      <th>8</th>\n",
       "      <td>LAS</td>\n",
       "      <td>3428199</td>\n",
       "    </tr>\n",
       "    <tr>\n",
       "      <th>9</th>\n",
       "      <td>PHX</td>\n",
       "      <td>3418191</td>\n",
       "    </tr>\n",
       "    <tr>\n",
       "      <th>10</th>\n",
       "      <td>LGA</td>\n",
       "      <td>3350124</td>\n",
       "    </tr>\n",
       "    <tr>\n",
       "      <th>11</th>\n",
       "      <td>JFK</td>\n",
       "      <td>2923299</td>\n",
       "    </tr>\n",
       "    <tr>\n",
       "      <th>12</th>\n",
       "      <td>BOS</td>\n",
       "      <td>2921319</td>\n",
       "    </tr>\n",
       "    <tr>\n",
       "      <th>13</th>\n",
       "      <td>DTW</td>\n",
       "      <td>2784879</td>\n",
       "    </tr>\n",
       "    <tr>\n",
       "      <th>14</th>\n",
       "      <td>MCO</td>\n",
       "      <td>2668266</td>\n",
       "    </tr>\n",
       "    <tr>\n",
       "      <th>15</th>\n",
       "      <td>MSP</td>\n",
       "      <td>2646711</td>\n",
       "    </tr>\n",
       "    <tr>\n",
       "      <th>16</th>\n",
       "      <td>PHL</td>\n",
       "      <td>2537937</td>\n",
       "    </tr>\n",
       "    <tr>\n",
       "      <th>17</th>\n",
       "      <td>CLT</td>\n",
       "      <td>2498454</td>\n",
       "    </tr>\n",
       "    <tr>\n",
       "      <th>18</th>\n",
       "      <td>SEA</td>\n",
       "      <td>2331801</td>\n",
       "    </tr>\n",
       "    <tr>\n",
       "      <th>19</th>\n",
       "      <td>SLC</td>\n",
       "      <td>2144853</td>\n",
       "    </tr>\n",
       "    <tr>\n",
       "      <th>20</th>\n",
       "      <td>BWI</td>\n",
       "      <td>2130336</td>\n",
       "    </tr>\n",
       "    <tr>\n",
       "      <th>21</th>\n",
       "      <td>MDW</td>\n",
       "      <td>1837269</td>\n",
       "    </tr>\n",
       "    <tr>\n",
       "      <th>22</th>\n",
       "      <td>IAD</td>\n",
       "      <td>1831995</td>\n",
       "    </tr>\n",
       "    <tr>\n",
       "      <th>23</th>\n",
       "      <td>SAN</td>\n",
       "      <td>1797786</td>\n",
       "    </tr>\n",
       "    <tr>\n",
       "      <th>24</th>\n",
       "      <td>DCA</td>\n",
       "      <td>1770453</td>\n",
       "    </tr>\n",
       "    <tr>\n",
       "      <th>25</th>\n",
       "      <td>FLL</td>\n",
       "      <td>1706157</td>\n",
       "    </tr>\n",
       "    <tr>\n",
       "      <th>26</th>\n",
       "      <td>MIA</td>\n",
       "      <td>1684125</td>\n",
       "    </tr>\n",
       "    <tr>\n",
       "      <th>27</th>\n",
       "      <td>TPA</td>\n",
       "      <td>1595394</td>\n",
       "    </tr>\n",
       "    <tr>\n",
       "      <th>28</th>\n",
       "      <td>PDX</td>\n",
       "      <td>1143045</td>\n",
       "    </tr>\n",
       "  </tbody>\n",
       "</table>\n",
       "</div>"
      ],
      "text/plain": [
       "   airport_code  total_delayed_minutes\n",
       "0           ATL                9472023\n",
       "1           ORD                8864694\n",
       "2           DFW                5918643\n",
       "3           LAX                4817367\n",
       "4           DEN                4556142\n",
       "5           EWR                4379400\n",
       "6           SFO                4243104\n",
       "7           IAH                3893517\n",
       "8           LAS                3428199\n",
       "9           PHX                3418191\n",
       "10          LGA                3350124\n",
       "11          JFK                2923299\n",
       "12          BOS                2921319\n",
       "13          DTW                2784879\n",
       "14          MCO                2668266\n",
       "15          MSP                2646711\n",
       "16          PHL                2537937\n",
       "17          CLT                2498454\n",
       "18          SEA                2331801\n",
       "19          SLC                2144853\n",
       "20          BWI                2130336\n",
       "21          MDW                1837269\n",
       "22          IAD                1831995\n",
       "23          SAN                1797786\n",
       "24          DCA                1770453\n",
       "25          FLL                1706157\n",
       "26          MIA                1684125\n",
       "27          TPA                1595394\n",
       "28          PDX                1143045"
      ]
     },
     "execution_count": 26,
     "metadata": {},
     "output_type": "execute_result"
    }
   ],
   "source": [
    "query7 = \"\"\"SELECT Airport_Code, SUM(Delays_Carrier + Delays_Late_Aircraft + Delays_National_Aviation_System + Delays_Security + Delays_Weather) AS Total_Delayed_Minutes\n",
    "FROM Statistics\n",
    "GROUP BY Airport_Code\n",
    "ORDER BY Total_Delayed_Minutes DESC;\"\"\"\n",
    "time_delays_df=pd.read_sql(query7,conn)\n",
    "time_delays_df"
   ]
  },
  {
   "cell_type": "code",
   "execution_count": 44,
   "id": "7a7db24f",
   "metadata": {},
   "outputs": [
    {
     "data": {
      "text/plain": [
       "Text(0, 0.5, 'Total Flight delays')"
      ]
     },
     "execution_count": 44,
     "metadata": {},
     "output_type": "execute_result"
    },
    {
     "data": {
      "image/png": "[encoded data removed]",
      "text/plain": [
       "<Figure size 640x480 with 1 Axes>"
      ]
     },
     "metadata": {},
     "output_type": "display_data"
    }
   ],
   "source": [
    "# Top 10 airports with delays by time\n",
    "time_delays_df=time_delays_df[:10]\n",
    "colors=[\"green\",\"lightgreen\",\"indigo\",\"purple\",\"cyan\",\"skyblue\",\"lightcoral\",\"yellow\",\"orange\",\"brown\"]\n",
    "plt.bar(time_delays_df[\"airport_code\"],time_delays_df[\"total_delayed_minutes\"],color=colors)\n",
    "plt.title('Top 10 airports having highest delays overall (minutes)')\n",
    "plt.xlabel('Airport code')\n",
    "plt.ylabel('Total Flight delays')"
   ]
  },
  {
   "cell_type": "markdown",
   "id": "dcb956a9",
   "metadata": {},
   "source": [
    "##### Query 8: Comparison between Airports with highest and lowest no of delayed flight trend over the years"
   ]
  },
  {
   "cell_type": "code",
   "execution_count": 45,
   "id": "f1614d95",
   "metadata": {},
   "outputs": [
    {
     "data": {
      "text/html": [
       "<div>\n",
       "<style scoped>\n",
       "    .dataframe tbody tr th:only-of-type {\n",
       "        vertical-align: middle;\n",
       "    }\n",
       "\n",
       "    .dataframe tbody tr th {\n",
       "        vertical-align: top;\n",
       "    }\n",
       "\n",
       "    .dataframe thead th {\n",
       "        text-align: right;\n",
       "    }\n",
       "</style>\n",
       "<table border=\"1\" class=\"dataframe\">\n",
       "  <thead>\n",
       "    <tr style=\"text-align: right;\">\n",
       "      <th>airport_code</th>\n",
       "      <th>ATL</th>\n",
       "      <th>PDX</th>\n",
       "    </tr>\n",
       "    <tr>\n",
       "      <th>year</th>\n",
       "      <th></th>\n",
       "      <th></th>\n",
       "    </tr>\n",
       "  </thead>\n",
       "  <tbody>\n",
       "    <tr>\n",
       "      <th>2003</th>\n",
       "      <td>19.514149</td>\n",
       "      <td>15.233061</td>\n",
       "    </tr>\n",
       "    <tr>\n",
       "      <th>2004</th>\n",
       "      <td>24.902815</td>\n",
       "      <td>18.550886</td>\n",
       "    </tr>\n",
       "    <tr>\n",
       "      <th>2005</th>\n",
       "      <td>24.511633</td>\n",
       "      <td>21.323184</td>\n",
       "    </tr>\n",
       "    <tr>\n",
       "      <th>2006</th>\n",
       "      <td>26.103120</td>\n",
       "      <td>21.839996</td>\n",
       "    </tr>\n",
       "    <tr>\n",
       "      <th>2007</th>\n",
       "      <td>23.425883</td>\n",
       "      <td>22.908210</td>\n",
       "    </tr>\n",
       "    <tr>\n",
       "      <th>2008</th>\n",
       "      <td>22.605851</td>\n",
       "      <td>20.996232</td>\n",
       "    </tr>\n",
       "    <tr>\n",
       "      <th>2009</th>\n",
       "      <td>25.629043</td>\n",
       "      <td>16.384883</td>\n",
       "    </tr>\n",
       "    <tr>\n",
       "      <th>2010</th>\n",
       "      <td>18.787205</td>\n",
       "      <td>15.568397</td>\n",
       "    </tr>\n",
       "    <tr>\n",
       "      <th>2011</th>\n",
       "      <td>17.605095</td>\n",
       "      <td>16.377711</td>\n",
       "    </tr>\n",
       "    <tr>\n",
       "      <th>2012</th>\n",
       "      <td>14.381826</td>\n",
       "      <td>14.755081</td>\n",
       "    </tr>\n",
       "    <tr>\n",
       "      <th>2013</th>\n",
       "      <td>18.123656</td>\n",
       "      <td>17.284549</td>\n",
       "    </tr>\n",
       "    <tr>\n",
       "      <th>2014</th>\n",
       "      <td>16.870988</td>\n",
       "      <td>19.535381</td>\n",
       "    </tr>\n",
       "    <tr>\n",
       "      <th>2015</th>\n",
       "      <td>14.539207</td>\n",
       "      <td>15.557578</td>\n",
       "    </tr>\n",
       "    <tr>\n",
       "      <th>2016</th>\n",
       "      <td>13.344945</td>\n",
       "      <td>12.647840</td>\n",
       "    </tr>\n",
       "  </tbody>\n",
       "</table>\n",
       "</div>"
      ],
      "text/plain": [
       "airport_code        ATL        PDX\n",
       "year                              \n",
       "2003          19.514149  15.233061\n",
       "2004          24.902815  18.550886\n",
       "2005          24.511633  21.323184\n",
       "2006          26.103120  21.839996\n",
       "2007          23.425883  22.908210\n",
       "2008          22.605851  20.996232\n",
       "2009          25.629043  16.384883\n",
       "2010          18.787205  15.568397\n",
       "2011          17.605095  16.377711\n",
       "2012          14.381826  14.755081\n",
       "2013          18.123656  17.284549\n",
       "2014          16.870988  19.535381\n",
       "2015          14.539207  15.557578\n",
       "2016          13.344945  12.647840"
      ]
     },
     "execution_count": 45,
     "metadata": {},
     "output_type": "execute_result"
    }
   ],
   "source": [
    "query8=\"\"\"SELECT a.code as Airport_code,a.name as Airport_name,t.Year,(SUM(s.Flights_Delayed)*1.0 / SUM(s.Flights_Total) * 100) AS Delayed_Flights_Percentage\n",
    "FROM time t\n",
    "JOIN statistics s ON t.Label = s.Time_Label\n",
    "JOIN airports a ON s.Airport_Code = a.Code\n",
    "WHERE s.Airport_Code IN ('ATL', 'PDX')\n",
    "GROUP BY t.year,A.CODE\n",
    "ORDER BY t.Year ;\n",
    "\"\"\"\n",
    "result_df = pd.read_sql(query8,conn)\n",
    "pivot_df = result_df.pivot(index='year', columns='airport_code', values='delayed_flights_percentage')\n",
    "pivot_df"
   ]
  },
  {
   "cell_type": "code",
   "execution_count": 47,
   "id": "3007f84c",
   "metadata": {},
   "outputs": [
    {
     "data": {
      "application/vnd.plotly.v1+json": {
       "config": {
        "plotlyServerURL": "https://plot.ly"
       },
       "data": [
        {
         "mode": "lines+markers",
         "name": "ATL",
         "type": "scatter",
         "x": [
          2003,
          2004,
          2005,
          2006,
          2007,
          2008,
          2009,
          2010,
          2011,
          2012,
          2013,
          2014,
          2015,
          2016
         ],
         "y": [
          19.514149043069956,
          24.90281518217507,
          24.51163331782224,
          26.10312008280039,
          23.42588319435954,
          22.605851090777065,
          25.62904333886758,
          18.78720489343843,
          17.605094504275527,
          14.381826392450115,
          18.123655617450776,
          16.870988151697212,
          14.539207057744704,
          13.344945400951296
         ]
        },
        {
         "mode": "lines+markers",
         "name": "PDX",
         "type": "scatter",
         "x": [
          2003,
          2004,
          2005,
          2006,
          2007,
          2008,
          2009,
          2010,
          2011,
          2012,
          2013,
          2014,
          2015,
          2016
         ],
         "y": [
          15.233061028351754,
          18.550885550043876,
          21.32318374136622,
          21.839995844947282,
          22.90821025343657,
          20.996232154585364,
          16.38488314271507,
          15.568397120121258,
          16.37771132225461,
          14.75508101526646,
          17.2845486046425,
          19.5353808077399,
          15.557578339853585,
          12.647839729664494
         ]
        }
       ],
       "layout": {
        "template": {
         "data": {
          "bar": [
           {
            "error_x": {
             "color": "#2a3f5f"
            },
            "error_y": {
             "color": "#2a3f5f"
            },
            "marker": {
             "line": {
              "color": "#E5ECF6",
              "width": 0.5
             },
             "pattern": {
              "fillmode": "overlay",
              "size": 10,
              "solidity": 0.2
             }
            },
            "type": "bar"
           }
          ],
          "barpolar": [
           {
            "marker": {
             "line": {
              "color": "#E5ECF6",
              "width": 0.5
             },
             "pattern": {
              "fillmode": "overlay",
              "size": 10,
              "solidity": 0.2
             }
            },
            "type": "barpolar"
           }
          ],
          "carpet": [
           {
            "aaxis": {
             "endlinecolor": "#2a3f5f",
             "gridcolor": "white",
             "linecolor": "white",
             "minorgridcolor": "white",
             "startlinecolor": "#2a3f5f"
            },
            "baxis": {
             "endlinecolor": "#2a3f5f",
             "gridcolor": "white",
             "linecolor": "white",
             "minorgridcolor": "white",
             "startlinecolor": "#2a3f5f"
            },
            "type": "carpet"
           }
          ],
          "choropleth": [
           {
            "colorbar": {
             "outlinewidth": 0,
             "ticks": ""
            },
            "type": "choropleth"
           }
          ],
          "contour": [
           {
            "colorbar": {
             "outlinewidth": 0,
             "ticks": ""
            },
            "colorscale": [
             [
              0,
              "#0d0887"
             ],
             [
              0.1111111111111111,
              "#46039f"
             ],
             [
              0.2222222222222222,
              "#7201a8"
             ],
             [
              0.3333333333333333,
              "#9c179e"
             ],
             [
              0.4444444444444444,
              "#bd3786"
             ],
             [
              0.5555555555555556,
              "#d8576b"
             ],
             [
              0.6666666666666666,
              "#ed7953"
             ],
             [
              0.7777777777777778,
              "#fb9f3a"
             ],
             [
              0.8888888888888888,
              "#fdca26"
             ],
             [
              1,
              "#f0f921"
             ]
            ],
            "type": "contour"
           }
          ],
          "contourcarpet": [
           {
            "colorbar": {
             "outlinewidth": 0,
             "ticks": ""
            },
            "type": "contourcarpet"
           }
          ],
          "heatmap": [
           {
            "colorbar": {
             "outlinewidth": 0,
             "ticks": ""
            },
            "colorscale": [
             [
              0,
              "#0d0887"
             ],
             [
              0.1111111111111111,
              "#46039f"
             ],
             [
              0.2222222222222222,
              "#7201a8"
             ],
             [
              0.3333333333333333,
              "#9c179e"
             ],
             [
              0.4444444444444444,
              "#bd3786"
             ],
             [
              0.5555555555555556,
              "#d8576b"
             ],
             [
              0.6666666666666666,
              "#ed7953"
             ],
             [
              0.7777777777777778,
              "#fb9f3a"
             ],
             [
              0.8888888888888888,
              "#fdca26"
             ],
             [
              1,
              "#f0f921"
             ]
            ],
            "type": "heatmap"
           }
          ],
          "heatmapgl": [
           {
            "colorbar": {
             "outlinewidth": 0,
             "ticks": ""
            },
            "colorscale": [
             [
              0,
              "#0d0887"
             ],
             [
              0.1111111111111111,
              "#46039f"
             ],
             [
              0.2222222222222222,
              "#7201a8"
             ],
             [
              0.3333333333333333,
              "#9c179e"
             ],
             [
              0.4444444444444444,
              "#bd3786"
             ],
             [
              0.5555555555555556,
              "#d8576b"
             ],
             [
              0.6666666666666666,
              "#ed7953"
             ],
             [
              0.7777777777777778,
              "#fb9f3a"
             ],
             [
              0.8888888888888888,
              "#fdca26"
             ],
             [
              1,
              "#f0f921"
             ]
            ],
            "type": "heatmapgl"
           }
          ],
          "histogram": [
           {
            "marker": {
             "pattern": {
              "fillmode": "overlay",
              "size": 10,
              "solidity": 0.2
             }
            },
            "type": "histogram"
           }
          ],
          "histogram2d": [
           {
            "colorbar": {
             "outlinewidth": 0,
             "ticks": ""
            },
            "colorscale": [
             [
              0,
              "#0d0887"
             ],
             [
              0.1111111111111111,
              "#46039f"
             ],
             [
              0.2222222222222222,
              "#7201a8"
             ],
             [
              0.3333333333333333,
              "#9c179e"
             ],
             [
              0.4444444444444444,
              "#bd3786"
             ],
             [
              0.5555555555555556,
              "#d8576b"
             ],
             [
              0.6666666666666666,
              "#ed7953"
             ],
             [
              0.7777777777777778,
              "#fb9f3a"
             ],
             [
              0.8888888888888888,
              "#fdca26"
             ],
             [
              1,
              "#f0f921"
             ]
            ],
            "type": "histogram2d"
           }
          ],
          "histogram2dcontour": [
           {
            "colorbar": {
             "outlinewidth": 0,
             "ticks": ""
            },
            "colorscale": [
             [
              0,
              "#0d0887"
             ],
             [
              0.1111111111111111,
              "#46039f"
             ],
             [
              0.2222222222222222,
              "#7201a8"
             ],
             [
              0.3333333333333333,
              "#9c179e"
             ],
             [
              0.4444444444444444,
              "#bd3786"
             ],
             [
              0.5555555555555556,
              "#d8576b"
             ],
             [
              0.6666666666666666,
              "#ed7953"
             ],
             [
              0.7777777777777778,
              "#fb9f3a"
             ],
             [
              0.8888888888888888,
              "#fdca26"
             ],
             [
              1,
              "#f0f921"
             ]
            ],
            "type": "histogram2dcontour"
           }
          ],
          "mesh3d": [
           {
            "colorbar": {
             "outlinewidth": 0,
             "ticks": ""
            },
            "type": "mesh3d"
           }
          ],
          "parcoords": [
           {
            "line": {
             "colorbar": {
              "outlinewidth": 0,
              "ticks": ""
             }
            },
            "type": "parcoords"
           }
          ],
          "pie": [
           {
            "automargin": true,
            "type": "pie"
           }
          ],
          "scatter": [
           {
            "fillpattern": {
             "fillmode": "overlay",
             "size": 10,
             "solidity": 0.2
            },
            "type": "scatter"
           }
          ],
          "scatter3d": [
           {
            "line": {
             "colorbar": {
              "outlinewidth": 0,
              "ticks": ""
             }
            },
            "marker": {
             "colorbar": {
              "outlinewidth": 0,
              "ticks": ""
             }
            },
            "type": "scatter3d"
           }
          ],
          "scattercarpet": [
           {
            "marker": {
             "colorbar": {
              "outlinewidth": 0,
              "ticks": ""
             }
            },
            "type": "scattercarpet"
           }
          ],
          "scattergeo": [
           {
            "marker": {
             "colorbar": {
              "outlinewidth": 0,
              "ticks": ""
             }
            },
            "type": "scattergeo"
           }
          ],
          "scattergl": [
           {
            "marker": {
             "colorbar": {
              "outlinewidth": 0,
              "ticks": ""
             }
            },
            "type": "scattergl"
           }
          ],
          "scattermapbox": [
           {
            "marker": {
             "colorbar": {
              "outlinewidth": 0,
              "ticks": ""
             }
            },
            "type": "scattermapbox"
           }
          ],
          "scatterpolar": [
           {
            "marker": {
             "colorbar": {
              "outlinewidth": 0,
              "ticks": ""
             }
            },
            "type": "scatterpolar"
           }
          ],
          "scatterpolargl": [
           {
            "marker": {
             "colorbar": {
              "outlinewidth": 0,
              "ticks": ""
             }
            },
            "type": "scatterpolargl"
           }
          ],
          "scatterternary": [
           {
            "marker": {
             "colorbar": {
              "outlinewidth": 0,
              "ticks": ""
             }
            },
            "type": "scatterternary"
           }
          ],
          "surface": [
           {
            "colorbar": {
             "outlinewidth": 0,
             "ticks": ""
            },
            "colorscale": [
             [
              0,
              "#0d0887"
             ],
             [
              0.1111111111111111,
              "#46039f"
             ],
             [
              0.2222222222222222,
              "#7201a8"
             ],
             [
              0.3333333333333333,
              "#9c179e"
             ],
             [
              0.4444444444444444,
              "#bd3786"
             ],
             [
              0.5555555555555556,
              "#d8576b"
             ],
             [
              0.6666666666666666,
              "#ed7953"
             ],
             [
              0.7777777777777778,
              "#fb9f3a"
             ],
             [
              0.8888888888888888,
              "#fdca26"
             ],
             [
              1,
              "#f0f921"
             ]
            ],
            "type": "surface"
           }
          ],
          "table": [
           {
            "cells": {
             "fill": {
              "color": "#EBF0F8"
             },
             "line": {
              "color": "white"
             }
            },
            "header": {
             "fill": {
              "color": "#C8D4E3"
             },
             "line": {
              "color": "white"
             }
            },
            "type": "table"
           }
          ]
         },
         "layout": {
          "annotationdefaults": {
           "arrowcolor": "#2a3f5f",
           "arrowhead": 0,
           "arrowwidth": 1
          },
          "autotypenumbers": "strict",
          "coloraxis": {
           "colorbar": {
            "outlinewidth": 0,
            "ticks": ""
           }
          },
          "colorscale": {
           "diverging": [
            [
             0,
             "#8e0152"
            ],
            [
             0.1,
             "#c51b7d"
            ],
            [
             0.2,
             "#de77ae"
            ],
            [
             0.3,
             "#f1b6da"
            ],
            [
             0.4,
             "#fde0ef"
            ],
            [
             0.5,
             "#f7f7f7"
            ],
            [
             0.6,
             "#e6f5d0"
            ],
            [
             0.7,
             "#b8e186"
            ],
            [
             0.8,
             "#7fbc41"
            ],
            [
             0.9,
             "#4d9221"
            ],
            [
             1,
             "#276419"
            ]
           ],
           "sequential": [
            [
             0,
             "#0d0887"
            ],
            [
             0.1111111111111111,
             "#46039f"
            ],
            [
             0.2222222222222222,
             "#7201a8"
            ],
            [
             0.3333333333333333,
             "#9c179e"
            ],
            [
             0.4444444444444444,
             "#bd3786"
            ],
            [
             0.5555555555555556,
             "#d8576b"
            ],
            [
             0.6666666666666666,
             "#ed7953"
            ],
            [
             0.7777777777777778,
             "#fb9f3a"
            ],
            [
             0.8888888888888888,
             "#fdca26"
            ],
            [
             1,
             "#f0f921"
            ]
           ],
           "sequentialminus": [
            [
             0,
             "#0d0887"
            ],
            [
             0.1111111111111111,
             "#46039f"
            ],
            [
             0.2222222222222222,
             "#7201a8"
            ],
            [
             0.3333333333333333,
             "#9c179e"
            ],
            [
             0.4444444444444444,
             "#bd3786"
            ],
            [
             0.5555555555555556,
             "#d8576b"
            ],
            [
             0.6666666666666666,
             "#ed7953"
            ],
            [
             0.7777777777777778,
             "#fb9f3a"
            ],
            [
             0.8888888888888888,
             "#fdca26"
            ],
            [
             1,
             "#f0f921"
            ]
           ]
          },
          "colorway": [
           "#636efa",
           "#EF553B",
           "#00cc96",
           "#ab63fa",
           "#FFA15A",
           "#19d3f3",
           "#FF6692",
           "#B6E880",
           "#FF97FF",
           "#FECB52"
          ],
          "font": {
           "color": "#2a3f5f"
          },
          "geo": {
           "bgcolor": "white",
           "lakecolor": "white",
           "landcolor": "#E5ECF6",
           "showlakes": true,
           "showland": true,
           "subunitcolor": "white"
          },
          "hoverlabel": {
           "align": "left"
          },
          "hovermode": "closest",
          "mapbox": {
           "style": "light"
          },
          "paper_bgcolor": "white",
          "plot_bgcolor": "#E5ECF6",
          "polar": {
           "angularaxis": {
            "gridcolor": "white",
            "linecolor": "white",
            "ticks": ""
           },
           "bgcolor": "#E5ECF6",
           "radialaxis": {
            "gridcolor": "white",
            "linecolor": "white",
            "ticks": ""
           }
          },
          "scene": {
           "xaxis": {
            "backgroundcolor": "#E5ECF6",
            "gridcolor": "white",
            "gridwidth": 2,
            "linecolor": "white",
            "showbackground": true,
            "ticks": "",
            "zerolinecolor": "white"
           },
           "yaxis": {
            "backgroundcolor": "#E5ECF6",
            "gridcolor": "white",
            "gridwidth": 2,
            "linecolor": "white",
            "showbackground": true,
            "ticks": "",
            "zerolinecolor": "white"
           },
           "zaxis": {
            "backgroundcolor": "#E5ECF6",
            "gridcolor": "white",
            "gridwidth": 2,
            "linecolor": "white",
            "showbackground": true,
            "ticks": "",
            "zerolinecolor": "white"
           }
          },
          "shapedefaults": {
           "line": {
            "color": "#2a3f5f"
           }
          },
          "ternary": {
           "aaxis": {
            "gridcolor": "white",
            "linecolor": "white",
            "ticks": ""
           },
           "baxis": {
            "gridcolor": "white",
            "linecolor": "white",
            "ticks": ""
           },
           "bgcolor": "#E5ECF6",
           "caxis": {
            "gridcolor": "white",
            "linecolor": "white",
            "ticks": ""
           }
          },
          "title": {
           "x": 0.05
          },
          "xaxis": {
           "automargin": true,
           "gridcolor": "white",
           "linecolor": "white",
           "ticks": "",
           "title": {
            "standoff": 15
           },
           "zerolinecolor": "white",
           "zerolinewidth": 2
          },
          "yaxis": {
           "automargin": true,
           "gridcolor": "white",
           "linecolor": "white",
           "ticks": "",
           "title": {
            "standoff": 15
           },
           "zerolinecolor": "white",
           "zerolinewidth": 2
          }
         }
        },
        "title": {
         "text": "Percentage of Delayed Flights Over Time"
        },
        "xaxis": {
         "title": {
          "text": "Year"
         }
        },
        "yaxis": {
         "title": {
          "text": "Percentage of Delayed Flights"
         }
        }
       }
      }
     },
     "metadata": {},
     "output_type": "display_data"
    }
   ],
   "source": [
    "#Line plot showing the percentage variation on delays \n",
    "traces = []\n",
    "for airport_code in pivot_df.columns:\n",
    "    traces.append(go.Scatter(x=pivot_df.index, y=pivot_df[airport_code], mode='lines+markers', name=airport_code))\n",
    "# Create layout\n",
    "layout = go.Layout(title='Percentage of Delayed Flights Over Time',\n",
    "                   xaxis=dict(title='Year'),\n",
    "                   yaxis=dict(title='Percentage of Delayed Flights'))\n",
    "fig = go.Figure(data=traces, layout=layout)\n",
    "fig.show()"
   ]
  },
  {
   "cell_type": "markdown",
   "id": "c10bb585",
   "metadata": {},
   "source": [
    "##### Query 9: Airport with the highest percentage of on-time flights"
   ]
  },
  {
   "cell_type": "code",
   "execution_count": 20,
   "id": "3debe3dc",
   "metadata": {},
   "outputs": [
    {
     "name": "stdout",
     "output_type": "stream",
     "text": [
      "SLC Airport has the highest percent with 93.44% on-time flights\n"
     ]
    }
   ],
   "source": [
    "query9= \"\"\"SELECT s.Airport_code, (s.flights_on_time * 100.0 / s.flights_total) AS On_Time_Percentage\n",
    "FROM statistics s\n",
    "ORDER BY On_Time_Percentage DESC\n",
    "LIMIT 1;\n",
    "\"\"\"\n",
    "cursor.execute(query9)\n",
    "res = cursor.fetchall()[0]\n",
    "print(f\"{res[0]} Airport has the highest percent with {round(float(res[1]),2)}% on-time flights\")"
   ]
  },
  {
   "cell_type": "markdown",
   "id": "1c510da4",
   "metadata": {},
   "source": [
    "##### Query 9: Distribution of carriers variation for each airport"
   ]
  },
  {
   "cell_type": "code",
   "execution_count": 21,
   "id": "ebbdd0ca",
   "metadata": {},
   "outputs": [
    {
     "data": {
      "text/html": [
       "<div>\n",
       "<style scoped>\n",
       "    .dataframe tbody tr th:only-of-type {\n",
       "        vertical-align: middle;\n",
       "    }\n",
       "\n",
       "    .dataframe tbody tr th {\n",
       "        vertical-align: top;\n",
       "    }\n",
       "\n",
       "    .dataframe thead th {\n",
       "        text-align: right;\n",
       "    }\n",
       "</style>\n",
       "<table border=\"1\" class=\"dataframe\">\n",
       "  <thead>\n",
       "    <tr style=\"text-align: right;\">\n",
       "      <th></th>\n",
       "      <th>airport_code</th>\n",
       "      <th>avg_carriers_total</th>\n",
       "      <th>max_carriers_total</th>\n",
       "      <th>min_carriers_total</th>\n",
       "    </tr>\n",
       "  </thead>\n",
       "  <tbody>\n",
       "    <tr>\n",
       "      <th>0</th>\n",
       "      <td>ATL</td>\n",
       "      <td>13.000000</td>\n",
       "      <td>16</td>\n",
       "      <td>9</td>\n",
       "    </tr>\n",
       "    <tr>\n",
       "      <th>1</th>\n",
       "      <td>BOS</td>\n",
       "      <td>13.282895</td>\n",
       "      <td>17</td>\n",
       "      <td>10</td>\n",
       "    </tr>\n",
       "    <tr>\n",
       "      <th>2</th>\n",
       "      <td>BWI</td>\n",
       "      <td>12.000000</td>\n",
       "      <td>15</td>\n",
       "      <td>8</td>\n",
       "    </tr>\n",
       "    <tr>\n",
       "      <th>3</th>\n",
       "      <td>CLT</td>\n",
       "      <td>11.526316</td>\n",
       "      <td>15</td>\n",
       "      <td>8</td>\n",
       "    </tr>\n",
       "    <tr>\n",
       "      <th>4</th>\n",
       "      <td>DCA</td>\n",
       "      <td>13.269737</td>\n",
       "      <td>15</td>\n",
       "      <td>10</td>\n",
       "    </tr>\n",
       "    <tr>\n",
       "      <th>5</th>\n",
       "      <td>DEN</td>\n",
       "      <td>13.572368</td>\n",
       "      <td>17</td>\n",
       "      <td>9</td>\n",
       "    </tr>\n",
       "    <tr>\n",
       "      <th>6</th>\n",
       "      <td>DFW</td>\n",
       "      <td>13.328947</td>\n",
       "      <td>16</td>\n",
       "      <td>9</td>\n",
       "    </tr>\n",
       "    <tr>\n",
       "      <th>7</th>\n",
       "      <td>DTW</td>\n",
       "      <td>13.486842</td>\n",
       "      <td>16</td>\n",
       "      <td>10</td>\n",
       "    </tr>\n",
       "    <tr>\n",
       "      <th>8</th>\n",
       "      <td>EWR</td>\n",
       "      <td>12.236842</td>\n",
       "      <td>15</td>\n",
       "      <td>8</td>\n",
       "    </tr>\n",
       "    <tr>\n",
       "      <th>9</th>\n",
       "      <td>FLL</td>\n",
       "      <td>10.842105</td>\n",
       "      <td>13</td>\n",
       "      <td>8</td>\n",
       "    </tr>\n",
       "    <tr>\n",
       "      <th>10</th>\n",
       "      <td>IAD</td>\n",
       "      <td>12.105263</td>\n",
       "      <td>15</td>\n",
       "      <td>8</td>\n",
       "    </tr>\n",
       "    <tr>\n",
       "      <th>11</th>\n",
       "      <td>IAH</td>\n",
       "      <td>11.440789</td>\n",
       "      <td>15</td>\n",
       "      <td>8</td>\n",
       "    </tr>\n",
       "    <tr>\n",
       "      <th>12</th>\n",
       "      <td>JFK</td>\n",
       "      <td>9.769737</td>\n",
       "      <td>13</td>\n",
       "      <td>6</td>\n",
       "    </tr>\n",
       "    <tr>\n",
       "      <th>13</th>\n",
       "      <td>LAS</td>\n",
       "      <td>14.000000</td>\n",
       "      <td>18</td>\n",
       "      <td>11</td>\n",
       "    </tr>\n",
       "    <tr>\n",
       "      <th>14</th>\n",
       "      <td>LAX</td>\n",
       "      <td>14.085526</td>\n",
       "      <td>18</td>\n",
       "      <td>11</td>\n",
       "    </tr>\n",
       "    <tr>\n",
       "      <th>15</th>\n",
       "      <td>LGA</td>\n",
       "      <td>13.072368</td>\n",
       "      <td>16</td>\n",
       "      <td>10</td>\n",
       "    </tr>\n",
       "    <tr>\n",
       "      <th>16</th>\n",
       "      <td>MCO</td>\n",
       "      <td>12.578947</td>\n",
       "      <td>18</td>\n",
       "      <td>9</td>\n",
       "    </tr>\n",
       "    <tr>\n",
       "      <th>17</th>\n",
       "      <td>MDW</td>\n",
       "      <td>7.190789</td>\n",
       "      <td>13</td>\n",
       "      <td>3</td>\n",
       "    </tr>\n",
       "    <tr>\n",
       "      <th>18</th>\n",
       "      <td>MIA</td>\n",
       "      <td>9.769737</td>\n",
       "      <td>13</td>\n",
       "      <td>5</td>\n",
       "    </tr>\n",
       "    <tr>\n",
       "      <th>19</th>\n",
       "      <td>MSP</td>\n",
       "      <td>12.730263</td>\n",
       "      <td>16</td>\n",
       "      <td>9</td>\n",
       "    </tr>\n",
       "    <tr>\n",
       "      <th>20</th>\n",
       "      <td>ORD</td>\n",
       "      <td>12.690789</td>\n",
       "      <td>15</td>\n",
       "      <td>10</td>\n",
       "    </tr>\n",
       "    <tr>\n",
       "      <th>21</th>\n",
       "      <td>PDX</td>\n",
       "      <td>11.421053</td>\n",
       "      <td>14</td>\n",
       "      <td>9</td>\n",
       "    </tr>\n",
       "    <tr>\n",
       "      <th>22</th>\n",
       "      <td>PHL</td>\n",
       "      <td>12.796053</td>\n",
       "      <td>16</td>\n",
       "      <td>9</td>\n",
       "    </tr>\n",
       "    <tr>\n",
       "      <th>23</th>\n",
       "      <td>PHX</td>\n",
       "      <td>13.776316</td>\n",
       "      <td>16</td>\n",
       "      <td>10</td>\n",
       "    </tr>\n",
       "    <tr>\n",
       "      <th>24</th>\n",
       "      <td>SAN</td>\n",
       "      <td>13.532895</td>\n",
       "      <td>17</td>\n",
       "      <td>11</td>\n",
       "    </tr>\n",
       "    <tr>\n",
       "      <th>25</th>\n",
       "      <td>SEA</td>\n",
       "      <td>12.388158</td>\n",
       "      <td>15</td>\n",
       "      <td>10</td>\n",
       "    </tr>\n",
       "    <tr>\n",
       "      <th>26</th>\n",
       "      <td>SFO</td>\n",
       "      <td>13.006579</td>\n",
       "      <td>16</td>\n",
       "      <td>10</td>\n",
       "    </tr>\n",
       "    <tr>\n",
       "      <th>27</th>\n",
       "      <td>SLC</td>\n",
       "      <td>11.453947</td>\n",
       "      <td>14</td>\n",
       "      <td>8</td>\n",
       "    </tr>\n",
       "    <tr>\n",
       "      <th>28</th>\n",
       "      <td>TPA</td>\n",
       "      <td>10.993421</td>\n",
       "      <td>15</td>\n",
       "      <td>8</td>\n",
       "    </tr>\n",
       "  </tbody>\n",
       "</table>\n",
       "</div>"
      ],
      "text/plain": [
       "   airport_code  avg_carriers_total  max_carriers_total  min_carriers_total\n",
       "0           ATL           13.000000                  16                   9\n",
       "1           BOS           13.282895                  17                  10\n",
       "2           BWI           12.000000                  15                   8\n",
       "3           CLT           11.526316                  15                   8\n",
       "4           DCA           13.269737                  15                  10\n",
       "5           DEN           13.572368                  17                   9\n",
       "6           DFW           13.328947                  16                   9\n",
       "7           DTW           13.486842                  16                  10\n",
       "8           EWR           12.236842                  15                   8\n",
       "9           FLL           10.842105                  13                   8\n",
       "10          IAD           12.105263                  15                   8\n",
       "11          IAH           11.440789                  15                   8\n",
       "12          JFK            9.769737                  13                   6\n",
       "13          LAS           14.000000                  18                  11\n",
       "14          LAX           14.085526                  18                  11\n",
       "15          LGA           13.072368                  16                  10\n",
       "16          MCO           12.578947                  18                   9\n",
       "17          MDW            7.190789                  13                   3\n",
       "18          MIA            9.769737                  13                   5\n",
       "19          MSP           12.730263                  16                   9\n",
       "20          ORD           12.690789                  15                  10\n",
       "21          PDX           11.421053                  14                   9\n",
       "22          PHL           12.796053                  16                   9\n",
       "23          PHX           13.776316                  16                  10\n",
       "24          SAN           13.532895                  17                  11\n",
       "25          SEA           12.388158                  15                  10\n",
       "26          SFO           13.006579                  16                  10\n",
       "27          SLC           11.453947                  14                   8\n",
       "28          TPA           10.993421                  15                   8"
      ]
     },
     "execution_count": 21,
     "metadata": {},
     "output_type": "execute_result"
    }
   ],
   "source": [
    "query9=\"\"\"SELECT Airport_Code,\n",
    "    AVG(Carriers_Total) AS Avg_Carriers_Total,\n",
    "    MAX(Carriers_Total) AS Max_Carriers_Total,\n",
    "    MIN(Carriers_Total) AS Min_Carriers_Total,\n",
    "    FROM statistics\n",
    "    GROUP BY Airport_Code\n",
    "    ORDER BY Airport_Code;\n",
    "\"\"\"\n",
    "result = pd.read_sql(query9,conn)\n",
    "result"
   ]
  },
  {
   "cell_type": "code",
   "execution_count": 66,
   "id": "b307dda8",
   "metadata": {},
   "outputs": [],
   "source": [
    "query10 = \"\"\"\n",
    "SELECT t.year, s.airport_code, SUM(s.Flights_Total) AS Flights_Total\n",
    "FROM Time t\n",
    "JOIN Statistics s ON t.label = s.Time_Label\n",
    "WHERE s.airport_code IN ('ATL', 'BOS')  -- Replace 'ATL' and 'BOS' with the airport codes you want to compare\n",
    "GROUP BY t.year,s.airport_code\n",
    "ORDER BY t.year;\n",
    "\"\"\"\n",
    "cursor.execute(query10)\n",
    "\n",
    "# Fetch all rows from the result\n",
    "result = cursor.fetchall()"
   ]
  },
  {
   "cell_type": "code",
   "execution_count": 69,
   "id": "7b55f3b3",
   "metadata": {},
   "outputs": [
    {
     "data": {
      "application/vnd.plotly.v1+json": {
       "config": {
        "plotlyServerURL": "https://plot.ly"
       },
       "data": [
        {
         "mode": "lines+markers",
         "name": "ATL",
         "type": "scatter",
         "x": [
          2003,
          2004,
          2005,
          2006,
          2007,
          2008,
          2009,
          2010,
          2011,
          2012,
          2013,
          2014,
          2015,
          2016
         ],
         "y": [
          1943559,
          3752901,
          3868200,
          3643461,
          3724803,
          3730689,
          3772872,
          3731364,
          3537459,
          3527577,
          3589938,
          3328578,
          3415482,
          268686
         ]
        },
        {
         "mode": "lines+markers",
         "name": "BOS",
         "type": "scatter",
         "x": [
          2003,
          2004,
          2005,
          2006,
          2007,
          2008,
          2009,
          2010,
          2011,
          2012,
          2013,
          2014,
          2015,
          2016
         ],
         "y": [
          610974,
          1191294,
          1151937,
          1179270,
          1155492,
          1061496,
          996867,
          1021707,
          987237,
          928935,
          1002285,
          995670,
          1062108,
          81900
         ]
        }
       ],
       "layout": {
        "legend": {
         "orientation": "h",
         "x": 1,
         "xanchor": "right",
         "y": 1.15,
         "yanchor": "top"
        },
        "template": {
         "data": {
          "bar": [
           {
            "error_x": {
             "color": "#2a3f5f"
            },
            "error_y": {
             "color": "#2a3f5f"
            },
            "marker": {
             "line": {
              "color": "#E5ECF6",
              "width": 0.5
             },
             "pattern": {
              "fillmode": "overlay",
              "size": 10,
              "solidity": 0.2
             }
            },
            "type": "bar"
           }
          ],
          "barpolar": [
           {
            "marker": {
             "line": {
              "color": "#E5ECF6",
              "width": 0.5
             },
             "pattern": {
              "fillmode": "overlay",
              "size": 10,
              "solidity": 0.2
             }
            },
            "type": "barpolar"
           }
          ],
          "carpet": [
           {
            "aaxis": {
             "endlinecolor": "#2a3f5f",
             "gridcolor": "white",
             "linecolor": "white",
             "minorgridcolor": "white",
             "startlinecolor": "#2a3f5f"
            },
            "baxis": {
             "endlinecolor": "#2a3f5f",
             "gridcolor": "white",
             "linecolor": "white",
             "minorgridcolor": "white",
             "startlinecolor": "#2a3f5f"
            },
            "type": "carpet"
           }
          ],
          "choropleth": [
           {
            "colorbar": {
             "outlinewidth": 0,
             "ticks": ""
            },
            "type": "choropleth"
           }
          ],
          "contour": [
           {
            "colorbar": {
             "outlinewidth": 0,
             "ticks": ""
            },
            "colorscale": [
             [
              0,
              "#0d0887"
             ],
             [
              0.1111111111111111,
              "#46039f"
             ],
             [
              0.2222222222222222,
              "#7201a8"
             ],
             [
              0.3333333333333333,
              "#9c179e"
             ],
             [
              0.4444444444444444,
              "#bd3786"
             ],
             [
              0.5555555555555556,
              "#d8576b"
             ],
             [
              0.6666666666666666,
              "#ed7953"
             ],
             [
              0.7777777777777778,
              "#fb9f3a"
             ],
             [
              0.8888888888888888,
              "#fdca26"
             ],
             [
              1,
              "#f0f921"
             ]
            ],
            "type": "contour"
           }
          ],
          "contourcarpet": [
           {
            "colorbar": {
             "outlinewidth": 0,
             "ticks": ""
            },
            "type": "contourcarpet"
           }
          ],
          "heatmap": [
           {
            "colorbar": {
             "outlinewidth": 0,
             "ticks": ""
            },
            "colorscale": [
             [
              0,
              "#0d0887"
             ],
             [
              0.1111111111111111,
              "#46039f"
             ],
             [
              0.2222222222222222,
              "#7201a8"
             ],
             [
              0.3333333333333333,
              "#9c179e"
             ],
             [
              0.4444444444444444,
              "#bd3786"
             ],
             [
              0.5555555555555556,
              "#d8576b"
             ],
             [
              0.6666666666666666,
              "#ed7953"
             ],
             [
              0.7777777777777778,
              "#fb9f3a"
             ],
             [
              0.8888888888888888,
              "#fdca26"
             ],
             [
              1,
              "#f0f921"
             ]
            ],
            "type": "heatmap"
           }
          ],
          "heatmapgl": [
           {
            "colorbar": {
             "outlinewidth": 0,
             "ticks": ""
            },
            "colorscale": [
             [
              0,
              "#0d0887"
             ],
             [
              0.1111111111111111,
              "#46039f"
             ],
             [
              0.2222222222222222,
              "#7201a8"
             ],
             [
              0.3333333333333333,
              "#9c179e"
             ],
             [
              0.4444444444444444,
              "#bd3786"
             ],
             [
              0.5555555555555556,
              "#d8576b"
             ],
             [
              0.6666666666666666,
              "#ed7953"
             ],
             [
              0.7777777777777778,
              "#fb9f3a"
             ],
             [
              0.8888888888888888,
              "#fdca26"
             ],
             [
              1,
              "#f0f921"
             ]
            ],
            "type": "heatmapgl"
           }
          ],
          "histogram": [
           {
            "marker": {
             "pattern": {
              "fillmode": "overlay",
              "size": 10,
              "solidity": 0.2
             }
            },
            "type": "histogram"
           }
          ],
          "histogram2d": [
           {
            "colorbar": {
             "outlinewidth": 0,
             "ticks": ""
            },
            "colorscale": [
             [
              0,
              "#0d0887"
             ],
             [
              0.1111111111111111,
              "#46039f"
             ],
             [
              0.2222222222222222,
              "#7201a8"
             ],
             [
              0.3333333333333333,
              "#9c179e"
             ],
             [
              0.4444444444444444,
              "#bd3786"
             ],
             [
              0.5555555555555556,
              "#d8576b"
             ],
             [
              0.6666666666666666,
              "#ed7953"
             ],
             [
              0.7777777777777778,
              "#fb9f3a"
             ],
             [
              0.8888888888888888,
              "#fdca26"
             ],
             [
              1,
              "#f0f921"
             ]
            ],
            "type": "histogram2d"
           }
          ],
          "histogram2dcontour": [
           {
            "colorbar": {
             "outlinewidth": 0,
             "ticks": ""
            },
            "colorscale": [
             [
              0,
              "#0d0887"
             ],
             [
              0.1111111111111111,
              "#46039f"
             ],
             [
              0.2222222222222222,
              "#7201a8"
             ],
             [
              0.3333333333333333,
              "#9c179e"
             ],
             [
              0.4444444444444444,
              "#bd3786"
             ],
             [
              0.5555555555555556,
              "#d8576b"
             ],
             [
              0.6666666666666666,
              "#ed7953"
             ],
             [
              0.7777777777777778,
              "#fb9f3a"
             ],
             [
              0.8888888888888888,
              "#fdca26"
             ],
             [
              1,
              "#f0f921"
             ]
            ],
            "type": "histogram2dcontour"
           }
          ],
          "mesh3d": [
           {
            "colorbar": {
             "outlinewidth": 0,
             "ticks": ""
            },
            "type": "mesh3d"
           }
          ],
          "parcoords": [
           {
            "line": {
             "colorbar": {
              "outlinewidth": 0,
              "ticks": ""
             }
            },
            "type": "parcoords"
           }
          ],
          "pie": [
           {
            "automargin": true,
            "type": "pie"
           }
          ],
          "scatter": [
           {
            "fillpattern": {
             "fillmode": "overlay",
             "size": 10,
             "solidity": 0.2
            },
            "type": "scatter"
           }
          ],
          "scatter3d": [
           {
            "line": {
             "colorbar": {
              "outlinewidth": 0,
              "ticks": ""
             }
            },
            "marker": {
             "colorbar": {
              "outlinewidth": 0,
              "ticks": ""
             }
            },
            "type": "scatter3d"
           }
          ],
          "scattercarpet": [
           {
            "marker": {
             "colorbar": {
              "outlinewidth": 0,
              "ticks": ""
             }
            },
            "type": "scattercarpet"
           }
          ],
          "scattergeo": [
           {
            "marker": {
             "colorbar": {
              "outlinewidth": 0,
              "ticks": ""
             }
            },
            "type": "scattergeo"
           }
          ],
          "scattergl": [
           {
            "marker": {
             "colorbar": {
              "outlinewidth": 0,
              "ticks": ""
             }
            },
            "type": "scattergl"
           }
          ],
          "scattermapbox": [
           {
            "marker": {
             "colorbar": {
              "outlinewidth": 0,
              "ticks": ""
             }
            },
            "type": "scattermapbox"
           }
          ],
          "scatterpolar": [
           {
            "marker": {
             "colorbar": {
              "outlinewidth": 0,
              "ticks": ""
             }
            },
            "type": "scatterpolar"
           }
          ],
          "scatterpolargl": [
           {
            "marker": {
             "colorbar": {
              "outlinewidth": 0,
              "ticks": ""
             }
            },
            "type": "scatterpolargl"
           }
          ],
          "scatterternary": [
           {
            "marker": {
             "colorbar": {
              "outlinewidth": 0,
              "ticks": ""
             }
            },
            "type": "scatterternary"
           }
          ],
          "surface": [
           {
            "colorbar": {
             "outlinewidth": 0,
             "ticks": ""
            },
            "colorscale": [
             [
              0,
              "#0d0887"
             ],
             [
              0.1111111111111111,
              "#46039f"
             ],
             [
              0.2222222222222222,
              "#7201a8"
             ],
             [
              0.3333333333333333,
              "#9c179e"
             ],
             [
              0.4444444444444444,
              "#bd3786"
             ],
             [
              0.5555555555555556,
              "#d8576b"
             ],
             [
              0.6666666666666666,
              "#ed7953"
             ],
             [
              0.7777777777777778,
              "#fb9f3a"
             ],
             [
              0.8888888888888888,
              "#fdca26"
             ],
             [
              1,
              "#f0f921"
             ]
            ],
            "type": "surface"
           }
          ],
          "table": [
           {
            "cells": {
             "fill": {
              "color": "#EBF0F8"
             },
             "line": {
              "color": "white"
             }
            },
            "header": {
             "fill": {
              "color": "#C8D4E3"
             },
             "line": {
              "color": "white"
             }
            },
            "type": "table"
           }
          ]
         },
         "layout": {
          "annotationdefaults": {
           "arrowcolor": "#2a3f5f",
           "arrowhead": 0,
           "arrowwidth": 1
          },
          "autotypenumbers": "strict",
          "coloraxis": {
           "colorbar": {
            "outlinewidth": 0,
            "ticks": ""
           }
          },
          "colorscale": {
           "diverging": [
            [
             0,
             "#8e0152"
            ],
            [
             0.1,
             "#c51b7d"
            ],
            [
             0.2,
             "#de77ae"
            ],
            [
             0.3,
             "#f1b6da"
            ],
            [
             0.4,
             "#fde0ef"
            ],
            [
             0.5,
             "#f7f7f7"
            ],
            [
             0.6,
             "#e6f5d0"
            ],
            [
             0.7,
             "#b8e186"
            ],
            [
             0.8,
             "#7fbc41"
            ],
            [
             0.9,
             "#4d9221"
            ],
            [
             1,
             "#276419"
            ]
           ],
           "sequential": [
            [
             0,
             "#0d0887"
            ],
            [
             0.1111111111111111,
             "#46039f"
            ],
            [
             0.2222222222222222,
             "#7201a8"
            ],
            [
             0.3333333333333333,
             "#9c179e"
            ],
            [
             0.4444444444444444,
             "#bd3786"
            ],
            [
             0.5555555555555556,
             "#d8576b"
            ],
            [
             0.6666666666666666,
             "#ed7953"
            ],
            [
             0.7777777777777778,
             "#fb9f3a"
            ],
            [
             0.8888888888888888,
             "#fdca26"
            ],
            [
             1,
             "#f0f921"
            ]
           ],
           "sequentialminus": [
            [
             0,
             "#0d0887"
            ],
            [
             0.1111111111111111,
             "#46039f"
            ],
            [
             0.2222222222222222,
             "#7201a8"
            ],
            [
             0.3333333333333333,
             "#9c179e"
            ],
            [
             0.4444444444444444,
             "#bd3786"
            ],
            [
             0.5555555555555556,
             "#d8576b"
            ],
            [
             0.6666666666666666,
             "#ed7953"
            ],
            [
             0.7777777777777778,
             "#fb9f3a"
            ],
            [
             0.8888888888888888,
             "#fdca26"
            ],
            [
             1,
             "#f0f921"
            ]
           ]
          },
          "colorway": [
           "#636efa",
           "#EF553B",
           "#00cc96",
           "#ab63fa",
           "#FFA15A",
           "#19d3f3",
           "#FF6692",
           "#B6E880",
           "#FF97FF",
           "#FECB52"
          ],
          "font": {
           "color": "#2a3f5f"
          },
          "geo": {
           "bgcolor": "white",
           "lakecolor": "white",
           "landcolor": "#E5ECF6",
           "showlakes": true,
           "showland": true,
           "subunitcolor": "white"
          },
          "hoverlabel": {
           "align": "left"
          },
          "hovermode": "closest",
          "mapbox": {
           "style": "light"
          },
          "paper_bgcolor": "white",
          "plot_bgcolor": "#E5ECF6",
          "polar": {
           "angularaxis": {
            "gridcolor": "white",
            "linecolor": "white",
            "ticks": ""
           },
           "bgcolor": "#E5ECF6",
           "radialaxis": {
            "gridcolor": "white",
            "linecolor": "white",
            "ticks": ""
           }
          },
          "scene": {
           "xaxis": {
            "backgroundcolor": "#E5ECF6",
            "gridcolor": "white",
            "gridwidth": 2,
            "linecolor": "white",
            "showbackground": true,
            "ticks": "",
            "zerolinecolor": "white"
           },
           "yaxis": {
            "backgroundcolor": "#E5ECF6",
            "gridcolor": "white",
            "gridwidth": 2,
            "linecolor": "white",
            "showbackground": true,
            "ticks": "",
            "zerolinecolor": "white"
           },
           "zaxis": {
            "backgroundcolor": "#E5ECF6",
            "gridcolor": "white",
            "gridwidth": 2,
            "linecolor": "white",
            "showbackground": true,
            "ticks": "",
            "zerolinecolor": "white"
           }
          },
          "shapedefaults": {
           "line": {
            "color": "#2a3f5f"
           }
          },
          "ternary": {
           "aaxis": {
            "gridcolor": "white",
            "linecolor": "white",
            "ticks": ""
           },
           "baxis": {
            "gridcolor": "white",
            "linecolor": "white",
            "ticks": ""
           },
           "bgcolor": "#E5ECF6",
           "caxis": {
            "gridcolor": "white",
            "linecolor": "white",
            "ticks": ""
           }
          },
          "title": {
           "x": 0.05
          },
          "xaxis": {
           "automargin": true,
           "gridcolor": "white",
           "linecolor": "white",
           "ticks": "",
           "title": {
            "standoff": 15
           },
           "zerolinecolor": "white",
           "zerolinewidth": 2
          },
          "yaxis": {
           "automargin": true,
           "gridcolor": "white",
           "linecolor": "white",
           "ticks": "",
           "title": {
            "standoff": 15
           },
           "zerolinecolor": "white",
           "zerolinewidth": 2
          }
         }
        },
        "title": {
         "text": "Comparison of Total Flights between ATL and BOS"
        },
        "xaxis": {
         "tickangle": 45,
         "title": {
          "text": "Time Label"
         }
        },
        "yaxis": {
         "title": {
          "text": "Total Flights"
         }
        }
       }
      }
     },
     "metadata": {},
     "output_type": "display_data"
    }
   ],
   "source": [
    "airport_data = {'ATL': [], 'BOS': []}\n",
    "for row in result:\n",
    "    time_label, airport_code, flights_total = row\n",
    "    airport_data[airport_code].append((time_label, flights_total))\n",
    "\n",
    "# Plotting the data\n",
    "# plt.figure(figsize=(10, 6))\n",
    "# for airport_code, data in airport_data.items():\n",
    "#     time_labels, total_flights = zip(*data)\n",
    "#     plt.plot(time_labels, total_flights, label=airport_code)\n",
    "\n",
    "# plt.xlabel('Time Label')\n",
    "# plt.ylabel('Total Flights')\n",
    "# plt.title('Comparison of Total Flights between ATL and BOS')\n",
    "# plt.legend()\n",
    "# plt.xticks(rotation=45)\n",
    "# plt.tight_layout()\n",
    "# plt.show()\n",
    "fig = go.Figure()\n",
    "\n",
    "# Add traces for each airport code\n",
    "for airport_code, data in airport_data.items():\n",
    "    time_labels, total_flights = zip(*data)\n",
    "    fig.add_trace(go.Scatter(x=time_labels, y=total_flights, mode='lines+markers', name=airport_code))\n",
    "\n",
    "fig.update_layout(\n",
    "    xaxis=dict(title='Time Label', tickangle=45),\n",
    "    yaxis=dict(title='Total Flights'),\n",
    "    title='Comparison of Total Flights between ATL and BOS',\n",
    "    legend=dict(orientation='h', yanchor='top', y=1.15, xanchor='right', x=1)\n",
    ")\n",
    "fig.show()"
   ]
  },
  {
   "cell_type": "markdown",
   "id": "e3977d52",
   "metadata": {},
   "source": [
    "##### Query 11: Diversity of carriers serving each airports"
   ]
  },
  {
   "cell_type": "code",
   "execution_count": 60,
   "id": "2aa96f59",
   "metadata": {},
   "outputs": [
    {
     "data": {
      "text/html": [
       "<div>\n",
       "<style scoped>\n",
       "    .dataframe tbody tr th:only-of-type {\n",
       "        vertical-align: middle;\n",
       "    }\n",
       "\n",
       "    .dataframe tbody tr th {\n",
       "        vertical-align: top;\n",
       "    }\n",
       "\n",
       "    .dataframe thead th {\n",
       "        text-align: right;\n",
       "    }\n",
       "</style>\n",
       "<table border=\"1\" class=\"dataframe\">\n",
       "  <thead>\n",
       "    <tr style=\"text-align: right;\">\n",
       "      <th></th>\n",
       "      <th>airport_code</th>\n",
       "      <th>num_carriers</th>\n",
       "      <th>carrier_list</th>\n",
       "    </tr>\n",
       "  </thead>\n",
       "  <tbody>\n",
       "    <tr>\n",
       "      <th>0</th>\n",
       "      <td>BOS</td>\n",
       "      <td>25</td>\n",
       "      <td>AirTran Airways Corporation,Alaska Airlines In...</td>\n",
       "    </tr>\n",
       "    <tr>\n",
       "      <th>1</th>\n",
       "      <td>PHL</td>\n",
       "      <td>25</td>\n",
       "      <td>AirTran Airways Corporation,Alaska Airlines In...</td>\n",
       "    </tr>\n",
       "    <tr>\n",
       "      <th>2</th>\n",
       "      <td>LGA</td>\n",
       "      <td>24</td>\n",
       "      <td>AirTran Airways Corporation,American Airlines ...</td>\n",
       "    </tr>\n",
       "    <tr>\n",
       "      <th>3</th>\n",
       "      <td>EWR</td>\n",
       "      <td>24</td>\n",
       "      <td>AirTran Airways Corporation,Alaska Airlines In...</td>\n",
       "    </tr>\n",
       "    <tr>\n",
       "      <th>4</th>\n",
       "      <td>ATL</td>\n",
       "      <td>24</td>\n",
       "      <td>AirTran Airways Corporation,Alaska Airlines In...</td>\n",
       "    </tr>\n",
       "    <tr>\n",
       "      <th>5</th>\n",
       "      <td>ORD</td>\n",
       "      <td>24</td>\n",
       "      <td>Alaska Airlines Inc.,America West Airlines Inc...</td>\n",
       "    </tr>\n",
       "    <tr>\n",
       "      <th>6</th>\n",
       "      <td>LAS</td>\n",
       "      <td>24</td>\n",
       "      <td>AirTran Airways Corporation,Alaska Airlines In...</td>\n",
       "    </tr>\n",
       "    <tr>\n",
       "      <th>7</th>\n",
       "      <td>DTW</td>\n",
       "      <td>24</td>\n",
       "      <td>AirTran Airways Corporation,Alaska Airlines In...</td>\n",
       "    </tr>\n",
       "    <tr>\n",
       "      <th>8</th>\n",
       "      <td>DCA</td>\n",
       "      <td>24</td>\n",
       "      <td>AirTran Airways Corporation,Alaska Airlines In...</td>\n",
       "    </tr>\n",
       "    <tr>\n",
       "      <th>9</th>\n",
       "      <td>BWI</td>\n",
       "      <td>24</td>\n",
       "      <td>AirTran Airways Corporation,Alaska Airlines In...</td>\n",
       "    </tr>\n",
       "    <tr>\n",
       "      <th>10</th>\n",
       "      <td>LAX</td>\n",
       "      <td>23</td>\n",
       "      <td>AirTran Airways Corporation,Alaska Airlines In...</td>\n",
       "    </tr>\n",
       "    <tr>\n",
       "      <th>11</th>\n",
       "      <td>TPA</td>\n",
       "      <td>23</td>\n",
       "      <td>AirTran Airways Corporation,Alaska Airlines In...</td>\n",
       "    </tr>\n",
       "    <tr>\n",
       "      <th>12</th>\n",
       "      <td>MCO</td>\n",
       "      <td>23</td>\n",
       "      <td>AirTran Airways Corporation,Alaska Airlines In...</td>\n",
       "    </tr>\n",
       "    <tr>\n",
       "      <th>13</th>\n",
       "      <td>DFW</td>\n",
       "      <td>23</td>\n",
       "      <td>AirTran Airways Corporation,Alaska Airlines In...</td>\n",
       "    </tr>\n",
       "    <tr>\n",
       "      <th>14</th>\n",
       "      <td>DEN</td>\n",
       "      <td>23</td>\n",
       "      <td>AirTran Airways Corporation,Alaska Airlines In...</td>\n",
       "    </tr>\n",
       "    <tr>\n",
       "      <th>15</th>\n",
       "      <td>SAN</td>\n",
       "      <td>23</td>\n",
       "      <td>AirTran Airways Corporation,Alaska Airlines In...</td>\n",
       "    </tr>\n",
       "    <tr>\n",
       "      <th>16</th>\n",
       "      <td>IAD</td>\n",
       "      <td>23</td>\n",
       "      <td>AirTran Airways Corporation,Alaska Airlines In...</td>\n",
       "    </tr>\n",
       "    <tr>\n",
       "      <th>17</th>\n",
       "      <td>CLT</td>\n",
       "      <td>22</td>\n",
       "      <td>AirTran Airways Corporation,American Airlines ...</td>\n",
       "    </tr>\n",
       "    <tr>\n",
       "      <th>18</th>\n",
       "      <td>SFO</td>\n",
       "      <td>22</td>\n",
       "      <td>AirTran Airways Corporation,Alaska Airlines In...</td>\n",
       "    </tr>\n",
       "    <tr>\n",
       "      <th>19</th>\n",
       "      <td>MSP</td>\n",
       "      <td>22</td>\n",
       "      <td>AirTran Airways Corporation,Alaska Airlines In...</td>\n",
       "    </tr>\n",
       "    <tr>\n",
       "      <th>20</th>\n",
       "      <td>FLL</td>\n",
       "      <td>22</td>\n",
       "      <td>AirTran Airways Corporation,Alaska Airlines In...</td>\n",
       "    </tr>\n",
       "    <tr>\n",
       "      <th>21</th>\n",
       "      <td>JFK</td>\n",
       "      <td>22</td>\n",
       "      <td>Alaska Airlines Inc.,America West Airlines Inc...</td>\n",
       "    </tr>\n",
       "    <tr>\n",
       "      <th>22</th>\n",
       "      <td>PHX</td>\n",
       "      <td>22</td>\n",
       "      <td>AirTran Airways Corporation,Alaska Airlines In...</td>\n",
       "    </tr>\n",
       "    <tr>\n",
       "      <th>23</th>\n",
       "      <td>SEA</td>\n",
       "      <td>21</td>\n",
       "      <td>AirTran Airways Corporation,Alaska Airlines In...</td>\n",
       "    </tr>\n",
       "    <tr>\n",
       "      <th>24</th>\n",
       "      <td>IAH</td>\n",
       "      <td>20</td>\n",
       "      <td>Alaska Airlines Inc.,America West Airlines Inc...</td>\n",
       "    </tr>\n",
       "    <tr>\n",
       "      <th>25</th>\n",
       "      <td>SLC</td>\n",
       "      <td>20</td>\n",
       "      <td>Alaska Airlines Inc.,America West Airlines Inc...</td>\n",
       "    </tr>\n",
       "    <tr>\n",
       "      <th>26</th>\n",
       "      <td>MIA</td>\n",
       "      <td>19</td>\n",
       "      <td>AirTran Airways Corporation,Alaska Airlines In...</td>\n",
       "    </tr>\n",
       "    <tr>\n",
       "      <th>27</th>\n",
       "      <td>MDW</td>\n",
       "      <td>18</td>\n",
       "      <td>AirTran Airways Corporation,American Airlines ...</td>\n",
       "    </tr>\n",
       "    <tr>\n",
       "      <th>28</th>\n",
       "      <td>PDX</td>\n",
       "      <td>18</td>\n",
       "      <td>Alaska Airlines Inc.,America West Airlines Inc...</td>\n",
       "    </tr>\n",
       "  </tbody>\n",
       "</table>\n",
       "</div>"
      ],
      "text/plain": [
       "   airport_code  num_carriers  \\\n",
       "0           BOS            25   \n",
       "1           PHL            25   \n",
       "2           LGA            24   \n",
       "3           EWR            24   \n",
       "4           ATL            24   \n",
       "5           ORD            24   \n",
       "6           LAS            24   \n",
       "7           DTW            24   \n",
       "8           DCA            24   \n",
       "9           BWI            24   \n",
       "10          LAX            23   \n",
       "11          TPA            23   \n",
       "12          MCO            23   \n",
       "13          DFW            23   \n",
       "14          DEN            23   \n",
       "15          SAN            23   \n",
       "16          IAD            23   \n",
       "17          CLT            22   \n",
       "18          SFO            22   \n",
       "19          MSP            22   \n",
       "20          FLL            22   \n",
       "21          JFK            22   \n",
       "22          PHX            22   \n",
       "23          SEA            21   \n",
       "24          IAH            20   \n",
       "25          SLC            20   \n",
       "26          MIA            19   \n",
       "27          MDW            18   \n",
       "28          PDX            18   \n",
       "\n",
       "                                         carrier_list  \n",
       "0   AirTran Airways Corporation,Alaska Airlines In...  \n",
       "1   AirTran Airways Corporation,Alaska Airlines In...  \n",
       "2   AirTran Airways Corporation,American Airlines ...  \n",
       "3   AirTran Airways Corporation,Alaska Airlines In...  \n",
       "4   AirTran Airways Corporation,Alaska Airlines In...  \n",
       "5   Alaska Airlines Inc.,America West Airlines Inc...  \n",
       "6   AirTran Airways Corporation,Alaska Airlines In...  \n",
       "7   AirTran Airways Corporation,Alaska Airlines In...  \n",
       "8   AirTran Airways Corporation,Alaska Airlines In...  \n",
       "9   AirTran Airways Corporation,Alaska Airlines In...  \n",
       "10  AirTran Airways Corporation,Alaska Airlines In...  \n",
       "11  AirTran Airways Corporation,Alaska Airlines In...  \n",
       "12  AirTran Airways Corporation,Alaska Airlines In...  \n",
       "13  AirTran Airways Corporation,Alaska Airlines In...  \n",
       "14  AirTran Airways Corporation,Alaska Airlines In...  \n",
       "15  AirTran Airways Corporation,Alaska Airlines In...  \n",
       "16  AirTran Airways Corporation,Alaska Airlines In...  \n",
       "17  AirTran Airways Corporation,American Airlines ...  \n",
       "18  AirTran Airways Corporation,Alaska Airlines In...  \n",
       "19  AirTran Airways Corporation,Alaska Airlines In...  \n",
       "20  AirTran Airways Corporation,Alaska Airlines In...  \n",
       "21  Alaska Airlines Inc.,America West Airlines Inc...  \n",
       "22  AirTran Airways Corporation,Alaska Airlines In...  \n",
       "23  AirTran Airways Corporation,Alaska Airlines In...  \n",
       "24  Alaska Airlines Inc.,America West Airlines Inc...  \n",
       "25  Alaska Airlines Inc.,America West Airlines Inc...  \n",
       "26  AirTran Airways Corporation,Alaska Airlines In...  \n",
       "27  AirTran Airways Corporation,American Airlines ...  \n",
       "28  Alaska Airlines Inc.,America West Airlines Inc...  "
      ]
     },
     "execution_count": 60,
     "metadata": {},
     "output_type": "execute_result"
    }
   ],
   "source": [
    "query11=\"\"\"SELECT \n",
    "    Airport_Code,\n",
    "    (SELECT COUNT(DISTINCT carrier) FROM \n",
    "        (SELECT UNNEST(STRING_TO_ARRAY(Carriers_Names, ',')) AS carrier \n",
    "         FROM statistics AS s2\n",
    "         WHERE s2.Airport_Code = s1.Airport_Code) AS carriers) AS Num_Carriers,\n",
    "         (SELECT STRING_AGG(DISTINCT carrier, ',') FROM \n",
    "        (SELECT UNNEST(STRING_TO_ARRAY(Carriers_Names, ',')) AS carrier \n",
    "         FROM statistics AS s2\n",
    "         WHERE s2.Airport_Code = s1.Airport_Code) AS carriers) AS Carrier_List\n",
    "FROM  \n",
    "    statistics AS s1\n",
    "GROUP BY \n",
    "    Airport_Code\n",
    "ORDER BY \n",
    "    Num_Carriers DESC;\n",
    "\"\"\"\n",
    "\n",
    "df=pd.read_sql(query11,conn)\n",
    "df"
   ]
  }
 ],
 "metadata": {
  "kernelspec": {
   "display_name": "Python 3",
   "language": "python",
   "name": "python3"
  },
  "language_info": {
   "codemirror_mode": {
    "name": "ipython",
    "version": 3
   },
   "file_extension": ".py",
   "mimetype": "text/x-python",
   "name": "python",
   "nbconvert_exporter": "python",
   "pygments_lexer": "ipython3",
   "version": "3.8.8"
  }
 },
 "nbformat": 4,
 "nbformat_minor": 5
}
